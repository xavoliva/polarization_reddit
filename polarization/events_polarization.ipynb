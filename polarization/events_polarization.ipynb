{
 "cells": [
  {
   "cell_type": "code",
   "execution_count": null,
   "metadata": {},
   "outputs": [],
   "source": [
    "%load_ext autoreload\n",
    "%autoreload 2"
   ]
  },
  {
   "cell_type": "code",
   "execution_count": null,
   "metadata": {},
   "outputs": [],
   "source": [
    "import json\n",
    "\n",
    "import pandas as pd\n",
    "import seaborn as sns\n",
    "import matplotlib.pyplot as plt\n",
    "sns.set_theme()\n",
    "\n",
    "from eda.constants import FIGURES_DIR, FIG_SIZE\n",
    "from polarization.utils import get_polarization, get_polarization_by_time\n",
    "from preprocessing.utils import load_event_comments\n",
    "from preprocessing.constants import OUTPUT_DIR, EVENTS, EVENTS_INFO\n",
    "\n",
    "sns.set(rc={\"figure.figsize\": FIG_SIZE})"
   ]
  },
  {
   "cell_type": "code",
   "execution_count": null,
   "metadata": {},
   "outputs": [],
   "source": [
    "event_polarization = {}\n",
    "\n",
    "for event in EVENTS:\n",
    "    print(e)\n",
    "    event_comments = load_event_comments(event)\n",
    "    event_polarization[event] = get_polarization(event, data)\n",
    "\n",
    "    with open(f\"{OUTPUT_DIR}/{event}_polarization_leaveout.json\", \"w\") as f:\n",
    "        json.dump(event_polarization[event], f)\n",
    "\n",
    "    # Plot user polarization\n",
    "    _, (dem_polarization, rep_polarization) = event_polarization[event]\n",
    "    user_pols = pd.DataFrame(\n",
    "        zip(\n",
    "            dem_polarization + rep_polarization,\n",
    "            [\"dem\"] * len(dem_polarization) + [\"rep\"] * len(dem_polarization),\n",
    "        ),\n",
    "        columns=[\"polarization\", \"affiliation\"],\n",
    "    )\n",
    "\n",
    "    ax = sns.boxplot(y=\"polarization\", x=\"affiliation\", data=user_pols)\n",
    "\n",
    "    ax.set_ylabel(\"User polarization\")\n",
    "\n",
    "    plt.savefig(\n",
    "        fname=f\"{FIGURES_DIR}/{event}_user_polarization.pdf\",\n",
    "        bbox_inches=\"tight\",\n",
    "        pad_inches=0,\n",
    "        format=\"pdf\",\n",
    "    )\n",
    "\n",
    "    plt.show()\n"
   ]
  },
  {
   "cell_type": "code",
   "execution_count": null,
   "metadata": {},
   "outputs": [],
   "source": [
    "pol_by_week_events = {}\n",
    "\n",
    "for event in EVENTS:\n",
    "    pol_by_week_events[event] = get_polarization_by_time(event, data, freq=\"week\")\n",
    "    pol_by_week_events[event].to_csv(f\"{OUTPUT_DIR}/{event}_polarization_by_week.csv\")"
   ]
  },
  {
   "cell_type": "code",
   "execution_count": null,
   "metadata": {},
   "outputs": [],
   "source": [
    "# Plot weekly\n",
    "\n",
    "for event in EVENTS:\n",
    "    ax = sns.lineplot(\n",
    "        x=pol_by_week_events[event][\"date\"],\n",
    "        y=pol_by_week_events[event][\"polarization\"],\n",
    "        label=\"Polarization\",\n",
    "    )\n",
    "    sns.lineplot(\n",
    "        data=pol_by_week_events[event],\n",
    "        x=\"date\",\n",
    "        y=\"random_polarization\",\n",
    "        label=\"Polarization with random user assignment\",\n",
    "    )\n",
    "\n",
    "    plt.axvline(\n",
    "        EVENTS_INFO[event][\"date\"],\n",
    "        linestyle=\"--\",\n",
    "        color=\"red\",\n",
    "        label=f\"{EVENTS_INFO[event]['name']} date\",\n",
    "    )\n",
    "\n",
    "    plt.xlabel(\"Date\")\n",
    "    plt.ylabel(\"Polarization\")\n",
    "    plt.title(\"Weekly polarization score\")\n",
    "    plt.legend()\n",
    "    plt.savefig(\n",
    "        fname=f\"{FIGURES_DIR}/{event}_polarization_by_week.pdf\",\n",
    "        bbox_inches=\"tight\",\n",
    "        pad_inches=0,\n",
    "        format=\"pdf\",\n",
    "    )\n",
    "    plt.show()\n"
   ]
  },
  {
   "cell_type": "code",
   "execution_count": null,
   "metadata": {},
   "outputs": [],
   "source": [
    "pol_by_day_events = {}\n",
    "\n",
    "for event in EVENTS:\n",
    "    pol_by_day_events[event] = get_polarization_by_time(event, data, freq=\"day\")\n",
    "    pol_by_day_events[event].to_csv(f\"{OUTPUT_DIR}/{event}_polarization_by_day.csv\")"
   ]
  },
  {
   "cell_type": "code",
   "execution_count": null,
   "metadata": {},
   "outputs": [],
   "source": [
    "# Plot daily\n",
    "\n",
    "for event in EVENTS:\n",
    "    ax = sns.lineplot(\n",
    "        x=pol_by_day_events[event][\"date\"],\n",
    "        y=pol_by_day_events[event][\"polarization\"],\n",
    "        label=\"Polarization\",\n",
    "    )\n",
    "    sns.lineplot(\n",
    "        data=pol_by_day_events[event],\n",
    "        x=\"date\",\n",
    "        y=\"random_polarization\",\n",
    "        label=\"Polarization with random user assignment\",\n",
    "    )\n",
    "\n",
    "    plt.axvline(\n",
    "        EVENTS_INFO[event][\"date\"],\n",
    "        linestyle=\"--\",\n",
    "        color=\"red\",\n",
    "        label=f\"{EVENTS_INFO[event]['name']} date\",\n",
    "    )\n",
    "\n",
    "    plt.xlabel(\"Date\")\n",
    "    plt.ylabel(\"Polarization\")\n",
    "    plt.title(\"Daily polarization score\")\n",
    "    plt.legend()\n",
    "    plt.savefig(\n",
    "        fname=f\"{FIGURES_DIR}/{event}_polarization_by_day.pdf\",\n",
    "        bbox_inches=\"tight\",\n",
    "        pad_inches=0,\n",
    "        format=\"pdf\",\n",
    "    )\n",
    "    plt.show()\n"
   ]
  }
 ],
 "metadata": {
  "kernelspec": {
   "display_name": "Python 3",
   "language": "python",
   "name": "python3"
  },
  "language_info": {
   "codemirror_mode": {
    "name": "ipython",
    "version": 3
   },
   "file_extension": ".py",
   "mimetype": "text/x-python",
   "name": "python",
   "nbconvert_exporter": "python",
   "pygments_lexer": "ipython3",
   "version": "3.10.4 (main, Nov 29 2022, 20:00:25) [GCC 9.4.0]"
  },
  "orig_nbformat": 4,
  "vscode": {
   "interpreter": {
    "hash": "3ad933181bd8a04b432d3370b9dc3b0662ad032c4dfaa4e4f1596c548f763858"
   }
  }
 },
 "nbformat": 4,
 "nbformat_minor": 2
}
