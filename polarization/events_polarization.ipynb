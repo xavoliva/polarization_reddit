{
 "cells": [
  {
   "cell_type": "code",
   "execution_count": 1,
   "metadata": {},
   "outputs": [
    {
     "name": "stdout",
     "output_type": "stream",
     "text": [
      "/home/xavi_oliva/Documents/Github/polarization_reddit\n"
     ]
    }
   ],
   "source": [
    "%load_ext autoreload\n",
    "%autoreload 2\n",
    "\n",
    "# %cd '/workspaces/polarization_reddit'\n",
    "%cd '/home/xavi_oliva/Documents/Github/polarization_reddit'"
   ]
  },
  {
   "cell_type": "code",
   "execution_count": 2,
   "metadata": {},
   "outputs": [],
   "source": [
    "import json\n",
    "\n",
    "import pandas as pd\n",
    "import seaborn as sns\n",
    "import matplotlib.pyplot as plt\n",
    "\n",
    "sns.set_theme()\n",
    "\n",
    "from eda.constants import FIGURES_DIR, FIG_SIZE\n",
    "from polarization.utils import calculate_polarization, calculate_polarization_by_time\n",
    "from preprocessing.utils import load_event_comments, load_event_vocab\n",
    "from preprocessing.constants import OUTPUT_DIR, EVENTS_INFO\n",
    "\n",
    "sns.set(rc={\"figure.figsize\": FIG_SIZE})\n"
   ]
  },
  {
   "cell_type": "code",
   "execution_count": 3,
   "metadata": {},
   "outputs": [
    {
     "name": "stdout",
     "output_type": "stream",
     "text": [
      "{'name': '2016 US presidential election', 'date': Timestamp('2016-11-08 00:00:00')}\n"
     ]
    }
   ],
   "source": [
    "EVENT_KEY = \"us_elections_2016\"\n",
    "EVENT_DETAILS = EVENTS_INFO[EVENT_KEY]\n",
    "\n",
    "print(EVENT_DETAILS)"
   ]
  },
  {
   "cell_type": "code",
   "execution_count": 4,
   "metadata": {},
   "outputs": [
    {
     "name": "stdout",
     "output_type": "stream",
     "text": [
      "2016 US presidential election\n"
     ]
    }
   ],
   "source": [
    "print(EVENT_DETAILS[\"name\"])\n",
    "\n",
    "event_comments = load_event_comments(EVENT_KEY)\n",
    "event_vocab = load_event_vocab(EVENT_KEY)"
   ]
  },
  {
   "cell_type": "code",
   "execution_count": 18,
   "metadata": {},
   "outputs": [
    {
     "name": "stderr",
     "output_type": "stream",
     "text": [
      "/home/xavi_oliva/Documents/Github/polarization_reddit/venv/lib/python3.10/site-packages/scipy/sparse/_index.py:146: SparseEfficiencyWarning: Changing the sparsity structure of a csr_matrix is expensive. lil_matrix is more efficient.\n",
      "  self._set_arrayXarray(i, j, x)\n",
      "/home/xavi_oliva/Documents/Github/polarization_reddit/polarization/utils.py:33: UserWarning: A lot of values in the denominator are zero: 6\n",
      "  warnings.warn(\n",
      "/home/xavi_oliva/Documents/Github/polarization_reddit/polarization/utils.py:33: UserWarning: A lot of values in the denominator are zero: 7\n",
      "  warnings.warn(\n",
      "/home/xavi_oliva/Documents/Github/polarization_reddit/polarization/utils.py:33: UserWarning: A lot of values in the denominator are zero: 8\n",
      "  warnings.warn(\n",
      "/home/xavi_oliva/Documents/Github/polarization_reddit/polarization/utils.py:33: UserWarning: A lot of values in the denominator are zero: 9\n",
      "  warnings.warn(\n",
      "/home/xavi_oliva/Documents/Github/polarization_reddit/polarization/utils.py:33: UserWarning: A lot of values in the denominator are zero: 10\n",
      "  warnings.warn(\n",
      "/home/xavi_oliva/Documents/Github/polarization_reddit/polarization/utils.py:33: UserWarning: A lot of values in the denominator are zero: 11\n",
      "  warnings.warn(\n"
     ]
    }
   ],
   "source": [
    "event_polarization = calculate_polarization(\n",
    "    event_comments,\n",
    "    event_vocab,\n",
    ")\n",
    "\n",
    "with open(f\"{OUTPUT_DIR}/{EVENT_KEY}_leaveout_polarization.json\", \"w\") as file:\n",
    "    json.dump(event_polarization, file)"
   ]
  },
  {
   "cell_type": "code",
   "execution_count": null,
   "metadata": {},
   "outputs": [],
   "source": [
    "# Plot user polarization\n",
    "_, (dem_polarization, rep_polarization) = event_polarization\n",
    "\n",
    "user_pols = pd.DataFrame(\n",
    "    zip(\n",
    "        dem_polarization + rep_polarization,\n",
    "        [\"dem\"] * len(dem_polarization) + [\"rep\"] * len(dem_polarization),\n",
    "    ),\n",
    "    columns=[\"polarization\", \"affiliation\"],\n",
    ")\n",
    "\n",
    "ax = sns.boxplot(y=\"polarization\", x=\"affiliation\", data=user_pols)\n",
    "\n",
    "ax.set_xlabel(\"Affiliation\")\n",
    "ax.set_ylabel(\"User polarization\")\n",
    "ax.set_title(EVENT_DETAILS[\"name\"])\n",
    "\n",
    "plt.savefig(\n",
    "    fname=f\"{FIGURES_DIR}/{EVENT_KEY}_user_polarization.pdf\",\n",
    "    bbox_inches=\"tight\",\n",
    "    pad_inches=0,\n",
    "    format=\"pdf\",\n",
    ")\n",
    "\n",
    "plt.show()\n"
   ]
  },
  {
   "cell_type": "code",
   "execution_count": null,
   "metadata": {},
   "outputs": [],
   "source": [
    "pol_by_week_events = calculate_polarization_by_time(\n",
    "    event_comments,\n",
    "    event_vocab,\n",
    "    freq=\"week\",\n",
    ")\n",
    "\n",
    "pol_by_week_events.to_csv(f\"{OUTPUT_DIR}/{EVENT_KEY}_polarization_by_week.csv\")\n"
   ]
  },
  {
   "cell_type": "code",
   "execution_count": null,
   "metadata": {},
   "outputs": [],
   "source": [
    "# Plot weekly\n",
    "\n",
    "ax = sns.lineplot(\n",
    "    x=pol_by_week_events[\"date\"],\n",
    "    y=pol_by_week_events[\"polarization\"],\n",
    "    label=\"Polarization\",\n",
    ")\n",
    "sns.lineplot(\n",
    "    data=pol_by_week_events,\n",
    "    x=\"date\",\n",
    "    y=\"random_polarization\",\n",
    "    label=\"Polarization with random user assignment\",\n",
    ")\n",
    "\n",
    "plt.axvline(\n",
    "    EVENTS_INFO[EVENT_KEY][\"date\"],\n",
    "    linestyle=\"--\",\n",
    "    color=\"red\",\n",
    "    label=f\"{EVENTS_INFO[EVENT_KEY]['name']} date\",\n",
    ")\n",
    "\n",
    "plt.xlabel(\"Date\")\n",
    "plt.ylabel(\"Polarization\")\n",
    "plt.title(\"Weekly polarization score\")\n",
    "plt.legend()\n",
    "\n",
    "plt.savefig(\n",
    "    fname=f\"{FIGURES_DIR}/{EVENT_KEY}_polarization_by_week.pdf\",\n",
    "    bbox_inches=\"tight\",\n",
    "    pad_inches=0,\n",
    "    format=\"pdf\",\n",
    ")\n",
    "plt.show()\n"
   ]
  },
  {
   "cell_type": "code",
   "execution_count": null,
   "metadata": {},
   "outputs": [],
   "source": [
    "pol_by_day_events = calculate_polarization_by_time(\n",
    "    event_comments,\n",
    "    event_vocab,\n",
    "    freq=\"day\",\n",
    ")\n",
    "pol_by_day_events.to_csv(f\"{OUTPUT_DIR}/{EVENT_KEY}_polarization_by_day.csv\")\n"
   ]
  },
  {
   "cell_type": "code",
   "execution_count": null,
   "metadata": {},
   "outputs": [],
   "source": [
    "# Plot daily\n",
    "\n",
    "ax = sns.lineplot(\n",
    "    x=pol_by_day_events[\"date\"],\n",
    "    y=pol_by_day_events[\"polarization\"],\n",
    "    label=\"Polarization\",\n",
    ")\n",
    "sns.lineplot(\n",
    "    data=pol_by_day_events,\n",
    "    x=\"date\",\n",
    "    y=\"random_polarization\",\n",
    "    label=\"Polarization with random user assignment\",\n",
    ")\n",
    "\n",
    "plt.axvline(\n",
    "    EVENTS_INFO[EVENT_KEY][\"date\"],\n",
    "    linestyle=\"--\",\n",
    "    color=\"red\",\n",
    "    label=f\"{EVENTS_INFO[EVENT_KEY]['name']} date\",\n",
    ")\n",
    "\n",
    "plt.xlabel(\"Date\")\n",
    "plt.ylabel(\"Polarization\")\n",
    "plt.title(\"Daily polarization score\")\n",
    "plt.legend()\n",
    "\n",
    "plt.savefig(\n",
    "    fname=f\"{FIGURES_DIR}/{EVENT_KEY}_polarization_by_day.pdf\",\n",
    "    bbox_inches=\"tight\",\n",
    "    pad_inches=0,\n",
    "    format=\"pdf\",\n",
    ")\n",
    "plt.show()\n"
   ]
  }
 ],
 "metadata": {
  "kernelspec": {
   "display_name": "venv",
   "language": "python",
   "name": "python3"
  },
  "language_info": {
   "codemirror_mode": {
    "name": "ipython",
    "version": 3
   },
   "file_extension": ".py",
   "mimetype": "text/x-python",
   "name": "python",
   "nbconvert_exporter": "python",
   "pygments_lexer": "ipython3",
   "version": "3.10.7"
  },
  "orig_nbformat": 4,
  "vscode": {
   "interpreter": {
    "hash": "7bb678609bd7aa4cbc020864cd9aa743fd9a397eb61b4fce72b1c71fcd49d728"
   }
  }
 },
 "nbformat": 4,
 "nbformat_minor": 2
}
