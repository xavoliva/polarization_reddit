{
 "cells": [
  {
   "cell_type": "code",
   "execution_count": null,
   "metadata": {},
   "outputs": [],
   "source": [
    "%load_ext autoreload\n",
    "%autoreload 2\n",
    "\n",
    "%cd '..'"
   ]
  },
  {
   "cell_type": "code",
   "execution_count": null,
   "metadata": {},
   "outputs": [],
   "source": [
    "import logging\n",
    "\n",
    "logging.basicConfig(\n",
    "    level=logging.INFO,\n",
    "    format=\"%(asctime)s [%(levelname)s] %(message)s\",\n",
    "    handlers=[\n",
    "        logging.FileHandler(\"data/logs/events_polarization_notebook.log\"),\n",
    "        logging.StreamHandler()\n",
    "    ]\n",
    ")"
   ]
  },
  {
   "cell_type": "code",
   "execution_count": null,
   "metadata": {},
   "outputs": [],
   "source": [
    "import json\n",
    "\n",
    "import pandas as pd\n",
    "import seaborn as sns\n",
    "import matplotlib.pyplot as plt\n",
    "\n",
    "sns.set_theme()\n",
    "\n",
    "from eda.constants import (\n",
    "    FIGURES_DIR,\n",
    "    FIG_SIZE,\n",
    ")\n",
    "from polarization.utils import (\n",
    "    calculate_polarization,\n",
    "    calculate_polarization_by_time,\n",
    ")\n",
    "from preprocessing.utils import (\n",
    "    load_event_comments,\n",
    "    load_event_vocab,\n",
    ")\n",
    "from preprocessing.constants import (\n",
    "    OUTPUT_DIR,\n",
    "    EVENTS_INFO,\n",
    ")\n",
    "\n",
    "sns.set(rc={\"figure.figsize\": FIG_SIZE})\n"
   ]
  },
  {
   "cell_type": "code",
   "execution_count": null,
   "metadata": {},
   "outputs": [],
   "source": [
    "EVENT_KEY = \"us_elections_2016\"\n",
    "EVENT_DETAILS = EVENTS_INFO[EVENT_KEY]\n",
    "\n",
    "logging.info(EVENT_DETAILS)"
   ]
  },
  {
   "cell_type": "code",
   "execution_count": null,
   "metadata": {},
   "outputs": [],
   "source": [
    "logging.info(EVENT_DETAILS[\"name\"])\n",
    "\n",
    "event_comments = load_event_comments(EVENT_KEY)\n",
    "event_vocab = load_event_vocab(EVENT_KEY)"
   ]
  },
  {
   "cell_type": "code",
   "execution_count": null,
   "metadata": {},
   "outputs": [],
   "source": [
    "logging.info(\"Calculating leave-out polarization...\")\n",
    "\n",
    "event_polarization = calculate_polarization(\n",
    "    event_comments,\n",
    "    event_vocab,\n",
    "    method=\"leaveout\"\n",
    ")\n",
    "\n",
    "logging.info(\"Saving leave-out polarization...\")\n",
    "with open(f\"{OUTPUT_DIR}/{EVENT_KEY}_leaveout_polarization.json\", \"w\") as file:\n",
    "    json.dump(event_polarization, file)\n"
   ]
  },
  {
   "cell_type": "code",
   "execution_count": null,
   "metadata": {},
   "outputs": [],
   "source": [
    "# Plot user polarization\n",
    "_, (dem_polarization, rep_polarization) = event_polarization\n",
    "\n",
    "user_pols = pd.DataFrame(\n",
    "    zip(\n",
    "        dem_polarization + rep_polarization,\n",
    "        [\"dem\"] * len(dem_polarization) + [\"rep\"] * len(dem_polarization),\n",
    "    ),\n",
    "    columns=[\"polarization\", \"affiliation\"],\n",
    ")\n",
    "\n",
    "ax = sns.boxplot(y=\"polarization\", x=\"affiliation\", data=user_pols)\n",
    "\n",
    "ax.set_xlabel(\"Affiliation\")\n",
    "ax.set_ylabel(\"User polarization\")\n",
    "ax.set_title(EVENT_DETAILS[\"name\"])\n",
    "\n",
    "plt.savefig(\n",
    "    fname=f\"{FIGURES_DIR}/{EVENT_KEY}_user_polarization.pdf\",\n",
    "    bbox_inches=\"tight\",\n",
    "    pad_inches=0,\n",
    "    format=\"pdf\",\n",
    ")\n",
    "\n",
    "plt.show()\n"
   ]
  },
  {
   "cell_type": "code",
   "execution_count": null,
   "metadata": {},
   "outputs": [],
   "source": [
    "event_comments[\"datetime\"] = pd.to_datetime(\n",
    "    event_comments[\"created_utc\"],\n",
    "    unit=\"s\",\n",
    ")\n"
   ]
  },
  {
   "cell_type": "code",
   "execution_count": null,
   "metadata": {},
   "outputs": [],
   "source": [
    "logging.info(\"Calculating leave-out polarization by week...\")\n",
    "\n",
    "pol_by_week_events = calculate_polarization_by_time(\n",
    "    event_comments,\n",
    "    event_vocab,\n",
    "    freq=\"W\",\n",
    ")\n",
    "\n",
    "logging.info(\"Saving weekly polarization data...\")\n",
    "pol_by_week_events.to_csv(f\"{OUTPUT_DIR}/{EVENT_KEY}_polarization_by_week.csv\")\n"
   ]
  },
  {
   "cell_type": "code",
   "execution_count": null,
   "metadata": {},
   "outputs": [],
   "source": [
    "# Plot weekly\n",
    "\n",
    "ax = sns.lineplot(\n",
    "    x=pol_by_week_events[\"date\"],\n",
    "    y=pol_by_week_events[\"polarization\"],\n",
    "    label=\"Polarization\",\n",
    ")\n",
    "sns.lineplot(\n",
    "    data=pol_by_week_events,\n",
    "    x=\"date\",\n",
    "    y=\"random_polarization\",\n",
    "    label=\"Polarization with random user assignment\",\n",
    ")\n",
    "\n",
    "plt.axvline(\n",
    "    EVENTS_INFO[EVENT_KEY][\"date\"],\n",
    "    linestyle=\"--\",\n",
    "    color=\"red\",\n",
    "    label=f\"{EVENTS_INFO[EVENT_KEY]['name']} date\",\n",
    ")\n",
    "\n",
    "plt.xlabel(\"Date\")\n",
    "plt.ylabel(\"Polarization\")\n",
    "plt.title(\"Weekly polarization score\")\n",
    "plt.legend()\n",
    "\n",
    "plt.savefig(\n",
    "    fname=f\"{FIGURES_DIR}/{EVENT_KEY}_polarization_by_week.pdf\",\n",
    "    bbox_inches=\"tight\",\n",
    "    pad_inches=0,\n",
    "    format=\"pdf\",\n",
    ")\n",
    "plt.show()\n"
   ]
  },
  {
   "cell_type": "code",
   "execution_count": null,
   "metadata": {},
   "outputs": [],
   "source": [
    "logging.info(\"Calculating leave-out polarization by day...\")\n",
    "\n",
    "pol_by_day_events = calculate_polarization_by_time(\n",
    "    event_comments,\n",
    "    event_vocab,\n",
    "    freq=\"D\",\n",
    ")\n",
    "\n",
    "logging.info(\"Saving daily polarization data...\")\n",
    "pol_by_day_events.to_csv(f\"{OUTPUT_DIR}/{EVENT_KEY}_polarization_by_day.csv\")\n"
   ]
  },
  {
   "cell_type": "code",
   "execution_count": null,
   "metadata": {},
   "outputs": [],
   "source": [
    "# Plot daily\n",
    "\n",
    "ax = sns.lineplot(\n",
    "    x=pol_by_day_events[\"date\"],\n",
    "    y=pol_by_day_events[\"polarization\"],\n",
    "    label=\"Polarization\",\n",
    ")\n",
    "sns.lineplot(\n",
    "    data=pol_by_day_events,\n",
    "    x=\"date\",\n",
    "    y=\"random_polarization\",\n",
    "    label=\"Polarization with random user assignment\",\n",
    ")\n",
    "\n",
    "plt.axvline(\n",
    "    EVENTS_INFO[EVENT_KEY][\"date\"],\n",
    "    linestyle=\"--\",\n",
    "    color=\"red\",\n",
    "    label=f\"{EVENTS_INFO[EVENT_KEY]['name']} date\",\n",
    ")\n",
    "\n",
    "plt.xlabel(\"Date\")\n",
    "plt.ylabel(\"Polarization\")\n",
    "plt.title(\"Daily polarization score\")\n",
    "plt.legend()\n",
    "\n",
    "plt.savefig(\n",
    "    fname=f\"{FIGURES_DIR}/{EVENT_KEY}_polarization_by_day.pdf\",\n",
    "    bbox_inches=\"tight\",\n",
    "    pad_inches=0,\n",
    "    format=\"pdf\",\n",
    ")\n",
    "plt.show()\n"
   ]
  }
 ],
 "metadata": {
  "kernelspec": {
   "display_name": "pol_env",
   "language": "python",
   "name": "python3"
  },
  "language_info": {
   "codemirror_mode": {
    "name": "ipython",
    "version": 3
   },
   "file_extension": ".py",
   "mimetype": "text/x-python",
   "name": "python",
   "nbconvert_exporter": "python",
   "pygments_lexer": "ipython3",
   "version": "3.8.16 (default, Jan 17 2023, 23:13:24) \n[GCC 11.2.0]"
  },
  "orig_nbformat": 4,
  "vscode": {
   "interpreter": {
    "hash": "0517ac6396832503edeb22d4ae2d55ad6af9f111efda9985705546d6640f6543"
   }
  }
 },
 "nbformat": 4,
 "nbformat_minor": 2
}
