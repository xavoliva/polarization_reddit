{
 "cells": [
  {
   "cell_type": "code",
   "execution_count": 1,
   "metadata": {},
   "outputs": [
    {
     "name": "stdout",
     "output_type": "stream",
     "text": [
      "/home/xavi_oliva/Documents/Github/polarization_reddit\n"
     ]
    }
   ],
   "source": [
    "%load_ext autoreload\n",
    "%autoreload 2\n",
    "\n",
    "# %cd '/workspaces/polarization_reddit'\n",
    "%cd '/home/xavi_oliva/Documents/Github/polarization_reddit'"
   ]
  },
  {
   "cell_type": "code",
   "execution_count": 11,
   "metadata": {},
   "outputs": [],
   "source": [
    "import json\n",
    "\n",
    "import pandas as pd\n",
    "import seaborn as sns\n",
    "import matplotlib.pyplot as plt\n",
    "\n",
    "sns.set_theme()\n",
    "\n",
    "from eda.constants import FIGURES_DIR, FIG_SIZE\n",
    "from polarization.utils import calculate_polarization, calculate_polarization_by_time\n",
    "from preprocessing.utils import load_event_comments, load_event_vocab\n",
    "from preprocessing.constants import OUTPUT_DIR, EVENTS_INFO\n",
    "\n",
    "sns.set(rc={\"figure.figsize\": FIG_SIZE})\n"
   ]
  },
  {
   "cell_type": "code",
   "execution_count": null,
   "metadata": {},
   "outputs": [
    {
     "name": "stdout",
     "output_type": "stream",
     "text": [
      "{'name': '2016 US presidential election', 'date': Timestamp('2016-11-08 00:00:00')}\n"
     ]
    }
   ],
   "source": [
    "EVENT_KEY = \"us_elections_2016\"\n",
    "EVENT_DETAILS = EVENTS_INFO[EVENT_KEY]\n",
    "\n",
    "print(EVENT_DETAILS)"
   ]
  },
  {
   "cell_type": "code",
   "execution_count": null,
   "metadata": {},
   "outputs": [],
   "source": [
    "print(EVENT_DETAILS[\"name\"])\n",
    "\n",
    "event_comments = load_event_comments(EVENT_KEY)\n",
    "event_vocab = load_event_vocab(EVENT_KEY)"
   ]
  },
  {
   "cell_type": "code",
   "execution_count": 14,
   "metadata": {},
   "outputs": [
    {
     "name": "stdout",
     "output_type": "stream",
     "text": [
      "(29822, 116044)\n",
      "(3932, 116044)\n"
     ]
    },
    {
     "ename": "UnboundLocalError",
     "evalue": "local variable 'dem_user_token_cnt' referenced before assignment",
     "output_type": "error",
     "traceback": [
      "\u001b[0;31m---------------------------------------------------------------------------\u001b[0m",
      "\u001b[0;31mUnboundLocalError\u001b[0m                         Traceback (most recent call last)",
      "Cell \u001b[0;32mIn[14], line 1\u001b[0m\n\u001b[0;32m----> 1\u001b[0m event_polarization \u001b[39m=\u001b[39m calculate_polarization(\n\u001b[1;32m      2\u001b[0m     event_comments,\n\u001b[1;32m      3\u001b[0m     event_vocab,\n\u001b[1;32m      4\u001b[0m )\n\u001b[1;32m      6\u001b[0m \u001b[39mwith\u001b[39;00m \u001b[39mopen\u001b[39m(\u001b[39mf\u001b[39m\u001b[39m\"\u001b[39m\u001b[39m{\u001b[39;00mOUTPUT_DIR\u001b[39m}\u001b[39;00m\u001b[39m/\u001b[39m\u001b[39m{\u001b[39;00mEVENT_KEY\u001b[39m}\u001b[39;00m\u001b[39m_leaveout_polarization.json\u001b[39m\u001b[39m\"\u001b[39m, \u001b[39m\"\u001b[39m\u001b[39mw\u001b[39m\u001b[39m\"\u001b[39m) \u001b[39mas\u001b[39;00m file:\n\u001b[1;32m      7\u001b[0m     json\u001b[39m.\u001b[39mdump(event_polarization, file)\n",
      "File \u001b[0;32m~/Documents/Github/polarization_reddit/polarization/utils.py:112\u001b[0m, in \u001b[0;36mcalculate_polarization\u001b[0;34m(comments, vocab, default_score, method)\u001b[0m\n\u001b[1;32m    109\u001b[0m dem_user_term_vec \u001b[39m=\u001b[39m build_user_term_vector(dem_comments, vocab)\n\u001b[1;32m    110\u001b[0m rep_user_term_vec \u001b[39m=\u001b[39m build_user_term_vector(rep_comments, vocab)\n\u001b[0;32m--> 112\u001b[0m dem_user_cnt \u001b[39m=\u001b[39m dem_user_token_cnt\u001b[39m.\u001b[39msum()\n\u001b[1;32m    113\u001b[0m rep_user_cnt \u001b[39m=\u001b[39m rep_user_token_cnt\u001b[39m.\u001b[39msum()\n\u001b[1;32m    115\u001b[0m \u001b[39mif\u001b[39;00m dem_user_cnt \u001b[39m<\u001b[39m \u001b[39m10\u001b[39m \u001b[39mor\u001b[39;00m rep_user_cnt \u001b[39m<\u001b[39m \u001b[39m10\u001b[39m:\n\u001b[1;32m    116\u001b[0m     \u001b[39m# return these values when there is not enough data to make predictions on\u001b[39;00m\n",
      "\u001b[0;31mUnboundLocalError\u001b[0m: local variable 'dem_user_token_cnt' referenced before assignment"
     ]
    }
   ],
   "source": [
    "event_polarization = calculate_polarization(\n",
    "    event_comments,\n",
    "    event_vocab,\n",
    ")\n",
    "\n",
    "with open(f\"{OUTPUT_DIR}/{EVENT_KEY}_leaveout_polarization.json\", \"w\") as file:\n",
    "    json.dump(event_polarization, file)\n",
    "\n",
    "# Plot user polarization\n",
    "_, (dem_polarization, rep_polarization) = event_polarization\n",
    "\n",
    "user_pols = pd.DataFrame(\n",
    "    zip(\n",
    "        dem_polarization + rep_polarization,\n",
    "        [\"dem\"] * len(dem_polarization) + [\"rep\"] * len(dem_polarization),\n",
    "    ),\n",
    "    columns=[\"polarization\", \"affiliation\"],\n",
    ")\n",
    "\n",
    "ax = sns.boxplot(y=\"polarization\", x=\"affiliation\", data=user_pols)\n",
    "\n",
    "ax.set_xlabel(\"Affiliation\")\n",
    "ax.set_ylabel(\"User polarization\")\n",
    "ax.set_title(EVENT_DETAILS[\"name\"])\n",
    "\n",
    "plt.savefig(\n",
    "    fname=f\"{FIGURES_DIR}/{EVENT_KEY}_user_polarization.pdf\",\n",
    "    bbox_inches=\"tight\",\n",
    "    pad_inches=0,\n",
    "    format=\"pdf\",\n",
    ")\n",
    "\n",
    "plt.show()\n"
   ]
  },
  {
   "cell_type": "code",
   "execution_count": null,
   "metadata": {},
   "outputs": [],
   "source": [
    "pol_by_week_events = calculate_polarization_by_time(\n",
    "    event_comments,\n",
    "    event_vocab,\n",
    "    freq=\"week\",\n",
    ")\n",
    "\n",
    "pol_by_week_events.to_csv(f\"{OUTPUT_DIR}/{EVENT_KEY}_polarization_by_week.csv\")\n"
   ]
  },
  {
   "cell_type": "code",
   "execution_count": null,
   "metadata": {},
   "outputs": [],
   "source": [
    "# Plot weekly\n",
    "\n",
    "ax = sns.lineplot(\n",
    "    x=pol_by_week_events[\"date\"],\n",
    "    y=pol_by_week_events[\"polarization\"],\n",
    "    label=\"Polarization\",\n",
    ")\n",
    "sns.lineplot(\n",
    "    data=pol_by_week_events,\n",
    "    x=\"date\",\n",
    "    y=\"random_polarization\",\n",
    "    label=\"Polarization with random user assignment\",\n",
    ")\n",
    "\n",
    "plt.axvline(\n",
    "    EVENTS_INFO[EVENT_KEY][\"date\"],\n",
    "    linestyle=\"--\",\n",
    "    color=\"red\",\n",
    "    label=f\"{EVENTS_INFO[EVENT_KEY]['name']} date\",\n",
    ")\n",
    "\n",
    "plt.xlabel(\"Date\")\n",
    "plt.ylabel(\"Polarization\")\n",
    "plt.title(\"Weekly polarization score\")\n",
    "plt.legend()\n",
    "\n",
    "plt.savefig(\n",
    "    fname=f\"{FIGURES_DIR}/{EVENT_KEY}_polarization_by_week.pdf\",\n",
    "    bbox_inches=\"tight\",\n",
    "    pad_inches=0,\n",
    "    format=\"pdf\",\n",
    ")\n",
    "plt.show()\n"
   ]
  },
  {
   "cell_type": "code",
   "execution_count": null,
   "metadata": {},
   "outputs": [],
   "source": [
    "pol_by_day_events = calculate_polarization_by_time(\n",
    "    event_comments,\n",
    "    event_vocab,\n",
    "    freq=\"day\",\n",
    ")\n",
    "pol_by_day_events.to_csv(f\"{OUTPUT_DIR}/{EVENT_KEY}_polarization_by_day.csv\")\n"
   ]
  },
  {
   "cell_type": "code",
   "execution_count": null,
   "metadata": {},
   "outputs": [],
   "source": [
    "# Plot daily\n",
    "\n",
    "ax = sns.lineplot(\n",
    "    x=pol_by_day_events[\"date\"],\n",
    "    y=pol_by_day_events[\"polarization\"],\n",
    "    label=\"Polarization\",\n",
    ")\n",
    "sns.lineplot(\n",
    "    data=pol_by_day_events,\n",
    "    x=\"date\",\n",
    "    y=\"random_polarization\",\n",
    "    label=\"Polarization with random user assignment\",\n",
    ")\n",
    "\n",
    "plt.axvline(\n",
    "    EVENTS_INFO[EVENT_KEY][\"date\"],\n",
    "    linestyle=\"--\",\n",
    "    color=\"red\",\n",
    "    label=f\"{EVENTS_INFO[EVENT_KEY]['name']} date\",\n",
    ")\n",
    "\n",
    "plt.xlabel(\"Date\")\n",
    "plt.ylabel(\"Polarization\")\n",
    "plt.title(\"Daily polarization score\")\n",
    "plt.legend()\n",
    "\n",
    "plt.savefig(\n",
    "    fname=f\"{FIGURES_DIR}/{EVENT_KEY}_polarization_by_day.pdf\",\n",
    "    bbox_inches=\"tight\",\n",
    "    pad_inches=0,\n",
    "    format=\"pdf\",\n",
    ")\n",
    "plt.show()\n"
   ]
  }
 ],
 "metadata": {
  "kernelspec": {
   "display_name": "venv",
   "language": "python",
   "name": "python3"
  },
  "language_info": {
   "codemirror_mode": {
    "name": "ipython",
    "version": 3
   },
   "file_extension": ".py",
   "mimetype": "text/x-python",
   "name": "python",
   "nbconvert_exporter": "python",
   "pygments_lexer": "ipython3",
   "version": "3.10.7 (main, Sep  8 2022, 14:34:29) [GCC 12.2.0]"
  },
  "orig_nbformat": 4,
  "vscode": {
   "interpreter": {
    "hash": "7bb678609bd7aa4cbc020864cd9aa743fd9a397eb61b4fce72b1c71fcd49d728"
   }
  }
 },
 "nbformat": 4,
 "nbformat_minor": 2
}
