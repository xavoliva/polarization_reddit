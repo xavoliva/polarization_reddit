{
 "cells": [
  {
   "cell_type": "code",
   "execution_count": null,
   "metadata": {},
   "outputs": [],
   "source": [
    "%load_ext autoreload\n",
    "%autoreload 2\n",
    "\n",
    "%cd '..'"
   ]
  },
  {
   "cell_type": "code",
   "execution_count": null,
   "metadata": {},
   "outputs": [],
   "source": [
    "import logging\n",
    "import sys\n",
    "\n",
    "logging.basicConfig(\n",
    "    level=logging.INFO,\n",
    "    format=\"%(asctime)s [%(levelname)s] %(message)s\",\n",
    "    handlers=[\n",
    "        logging.FileHandler(f\"data/logs/elections_polarization.log\"),\n",
    "        logging.StreamHandler(stream=sys.stdout),\n",
    "    ],\n",
    ")\n"
   ]
  },
  {
   "cell_type": "code",
   "execution_count": null,
   "metadata": {},
   "outputs": [],
   "source": [
    "import json\n",
    "\n",
    "import pandas as pd\n",
    "import numpy as np\n",
    "import seaborn as sns\n",
    "import matplotlib.pyplot as plt\n",
    "from matplotlib.pyplot import cm  # type: ignore\n",
    "from scipy import stats\n",
    "import statsmodels.api as sm\n",
    "\n",
    "sns.set_theme()\n",
    "\n",
    "from eda.constants import (\n",
    "    FIGURES_DIR,\n",
    ")\n",
    "from eda.utils import (\n",
    "    plot_polarization_by_time,\n",
    "    plot_nr_users_by_time,\n",
    ")\n",
    "from polarization.utils import (\n",
    "    calculate_polarization,\n",
    "    calculate_polarization_by_time,\n",
    ")\n",
    "from preprocessing.utils import (\n",
    "    load_event_comments,\n",
    "    load_event_vocab,\n",
    ")\n",
    "from preprocessing.constants import (\n",
    "    OUTPUT_DIR,\n",
    ")\n",
    "from events.elections_constants import (\n",
    "    ELECTIONS_EVENTS_INFO,\n",
    ")\n",
    "from eda.constants import (\n",
    "    PARTIES_COLORS,\n",
    ")\n"
   ]
  },
  {
   "cell_type": "code",
   "execution_count": null,
   "metadata": {},
   "outputs": [],
   "source": [
    "YEAR = 2016\n",
    "EVENT_KEY = f\"us_elections_{YEAR}\"\n",
    "EVENT_DETAILS = ELECTIONS_EVENTS_INFO[EVENT_KEY]\n",
    "\n",
    "logging.info(EVENT_DETAILS)\n"
   ]
  },
  {
   "cell_type": "code",
   "execution_count": null,
   "metadata": {},
   "outputs": [],
   "source": [
    "logging.info(EVENT_DETAILS[\"name\"])\n",
    "\n",
    "event_comments = load_event_comments(theme=\"elections\", event_name=EVENT_KEY)\n",
    "event_vocab = load_event_vocab(theme=\"elections\", event_name=EVENT_KEY)\n"
   ]
  },
  {
   "cell_type": "code",
   "execution_count": null,
   "metadata": {},
   "outputs": [],
   "source": [
    "logging.info(event_comments.shape)\n",
    "logging.info(event_comments.columns)\n"
   ]
  },
  {
   "cell_type": "code",
   "execution_count": null,
   "metadata": {},
   "outputs": [],
   "source": [
    "plt.figure(figsize=(20, 12))\n",
    "sns.countplot(\n",
    "    y=\"subreddit\",\n",
    "    data=event_comments,\n",
    "    hue=\"party\",\n",
    "    order=event_comments[\"subreddit\"].value_counts().iloc[:20].index,\n",
    "    palette=PARTIES_COLORS,\n",
    ")\n",
    "\n",
    "# rename labels in legend\n",
    "plt.legend(\n",
    "    title=\"Party\",\n",
    "    labels=[\"Democrat\", \"Republican\"],\n",
    ")\n",
    "\n",
    "plt.xlabel(\"Number of comments\")\n",
    "plt.ylabel(\"Subreddit\")\n",
    "\n",
    "plt.savefig(\n",
    "    fname=f\"{FIGURES_DIR}/{EVENT_KEY}_subreddit_hist.pdf\",\n",
    "    bbox_inches=\"tight\",\n",
    "    pad_inches=0,\n",
    "    format=\"pdf\",\n",
    ")\n",
    "plt.show()\n"
   ]
  },
  {
   "cell_type": "code",
   "execution_count": null,
   "metadata": {},
   "outputs": [],
   "source": [
    "event_comments[\"party\"].value_counts() / event_comments.shape[0]\n"
   ]
  },
  {
   "cell_type": "code",
   "execution_count": null,
   "metadata": {},
   "outputs": [],
   "source": [
    "plt.figure(figsize=(6, 2))\n",
    "sns.countplot(y=event_comments[\"party\"])\n",
    "\n",
    "plt.savefig(\n",
    "    fname=f\"{FIGURES_DIR}/{EVENT_KEY}_party_hist.pdf\",\n",
    "    bbox_inches=\"tight\",\n",
    "    pad_inches=0,\n",
    "    format=\"pdf\",\n",
    ")\n",
    "\n",
    "plt.show()\n"
   ]
  },
  {
   "cell_type": "code",
   "execution_count": null,
   "metadata": {},
   "outputs": [],
   "source": [
    "logging.info(event_comments.shape)\n"
   ]
  },
  {
   "attachments": {},
   "cell_type": "markdown",
   "metadata": {},
   "source": [
    "## Filter users"
   ]
  },
  {
   "cell_type": "code",
   "execution_count": null,
   "metadata": {},
   "outputs": [],
   "source": [
    "# MAY_1_2016_TIMESTAMP = 1462060800\n",
    "\n",
    "# early_comments = event_comments[event_comments[\"created_utc\"] <= MAY_1_2016_TIMESTAMP]\n",
    "\n",
    "# early_unique_users = early_comments[\"author\"].unique()\n",
    "\n",
    "# logging.info(early_unique_users.shape)\n",
    "\n",
    "# event_comments[\"is_before_may_1\"] = event_comments[\"author\"].isin(early_unique_users)\n",
    "\n",
    "# logging.info(event_comments.shape)\n"
   ]
  },
  {
   "cell_type": "code",
   "execution_count": null,
   "metadata": {},
   "outputs": [],
   "source": [
    "logging.info(event_comments.shape)\n",
    "logging.info(event_comments.columns)\n"
   ]
  },
  {
   "attachments": {},
   "cell_type": "markdown",
   "metadata": {},
   "source": [
    "### Total polarization"
   ]
  },
  {
   "cell_type": "code",
   "execution_count": null,
   "metadata": {},
   "outputs": [],
   "source": [
    "logging.info(\"Calculating leave-out polarization...\")\n",
    "\n",
    "event_polarization = calculate_polarization(\n",
    "    event_comments,\n",
    "    ngram_range=(1, 2),\n",
    "    event_vocab=event_vocab,\n",
    "    method=\"leaveout\",\n",
    "    equalize_users=True,\n",
    ")\n",
    "\n",
    "logging.info(\"Saving leave-out polarization...\")\n",
    "with open(f\"{OUTPUT_DIR}/{EVENT_KEY}_leaveout_polarization.json\", \"w\") as file:\n",
    "    json.dump(event_polarization, file)\n"
   ]
  },
  {
   "cell_type": "code",
   "execution_count": null,
   "metadata": {},
   "outputs": [],
   "source": [
    "event_polarization = json.load(\n",
    "    open(\n",
    "        f\"{OUTPUT_DIR}/{EVENT_KEY}_leaveout_polarization.json\",\n",
    "    )\n",
    ")\n"
   ]
  },
  {
   "cell_type": "code",
   "execution_count": null,
   "metadata": {},
   "outputs": [],
   "source": [
    "total_pol, (dem_polarization, rep_polarization) = event_polarization\n",
    "\n",
    "logging.info(f\"Total polarization: {total_pol}\")\n",
    "logging.info(f\"Democrat mean polarization: {np.mean(dem_polarization)}\")\n",
    "logging.info(f\"Republican mean polarization: {np.mean(rep_polarization)}\")\n"
   ]
  },
  {
   "cell_type": "code",
   "execution_count": null,
   "metadata": {},
   "outputs": [],
   "source": [
    "t = stats.ttest_ind(dem_polarization, rep_polarization, equal_var=False)\n",
    "\n",
    "logging.info(t)\n"
   ]
  },
  {
   "cell_type": "code",
   "execution_count": null,
   "metadata": {},
   "outputs": [],
   "source": [
    "# Plot user polarization\n",
    "\n",
    "user_pols = pd.DataFrame(\n",
    "    zip(\n",
    "        dem_polarization + rep_polarization,\n",
    "        [\"Democrat\"] * len(dem_polarization) + [\"Republican\"] * len(dem_polarization),\n",
    "    ),\n",
    "    columns=[\"Polarization\", \"Party\"],\n",
    ")\n",
    "\n",
    "plt.figure(figsize=(15, 2))\n",
    "\n",
    "ax = sns.violinplot(\n",
    "    data=user_pols,\n",
    "    x=\"Polarization\",\n",
    "    y=\"Party\",\n",
    "    hue=\"Party\",\n",
    "    palette=PARTIES_COLORS,\n",
    ")\n",
    "\n",
    "ax.get_yaxis().set_ticks([])\n",
    "ax.set_ylabel(\"\")\n",
    "ax.set_xlabel(\"User-level leave-out partisanship estimation\")\n",
    "# ax.set_title(f\"{EVENT_DETAILS['name']} (Total polarization: {total_pol[0]:.3f})\")\n",
    "\n",
    "# add legend\n",
    "handles, labels = ax.get_legend_handles_labels()\n",
    "\n",
    "ax.legend(\n",
    "    handles=handles,\n",
    "    labels=labels,\n",
    "    title=\"Party\",\n",
    ")\n",
    "\n",
    "plt.savefig(\n",
    "    fname=f\"{FIGURES_DIR}/polarization/{EVENT_KEY}/{EVENT_KEY}_user_leaveout_polarization.pdf\",\n",
    "    bbox_inches=\"tight\",\n",
    "    pad_inches=0,\n",
    "    format=\"pdf\",\n",
    ")\n",
    "\n",
    "plt.show()\n"
   ]
  },
  {
   "cell_type": "code",
   "execution_count": null,
   "metadata": {},
   "outputs": [],
   "source": [
    "event_comments[\"datetime\"] = pd.to_datetime(\n",
    "    event_comments[\"created_utc\"],\n",
    "    unit=\"s\",\n",
    ")\n"
   ]
  },
  {
   "attachments": {},
   "cell_type": "markdown",
   "metadata": {},
   "source": [
    "### Monthly polarization"
   ]
  },
  {
   "cell_type": "code",
   "execution_count": null,
   "metadata": {},
   "outputs": [],
   "source": [
    "logging.info(\"Calculating leave-out polarization by month...\")\n",
    "\n",
    "pol_by_month_events = calculate_polarization_by_time(\n",
    "    event_comments,\n",
    "    ngram_range=(1, 2),\n",
    "    event_vocab=event_vocab,\n",
    "    freq=\"M\",\n",
    "    equalize_users=True,\n",
    ")\n",
    "\n",
    "logging.info(\"Saving monthly polarization data...\")\n",
    "pol_by_month_events.to_parquet(\n",
    "    f\"{OUTPUT_DIR}/{EVENT_KEY}_leaveout_polarization_by_month.parquet\",\n",
    "    index=False,\n",
    ")\n"
   ]
  },
  {
   "cell_type": "code",
   "execution_count": null,
   "metadata": {},
   "outputs": [],
   "source": [
    "# Load monthly polarization data\n",
    "\n",
    "pol_by_month_events = pd.read_parquet(\n",
    "    f\"{OUTPUT_DIR}/{EVENT_KEY}_leaveout_polarization_by_month.parquet\",\n",
    ")\n",
    "\n",
    "pol_by_month_events[\"date\"] = pd.to_datetime(pol_by_month_events[\"date\"])"
   ]
  },
  {
   "cell_type": "code",
   "execution_count": null,
   "metadata": {},
   "outputs": [],
   "source": [
    "# calculate linear regression and significance\n",
    "\n",
    "pol_by_month_events[\"month\"] = pol_by_month_events[\"date\"].dt.month\n",
    "\n",
    "X = pol_by_month_events[\"month\"]\n",
    "X = sm.add_constant(X)\n",
    "y = pol_by_month_events[\"polarization\"]\n",
    "\n",
    "est = sm.OLS(y, X)\n",
    "est2 = est.fit()\n",
    "print(est2.summary())"
   ]
  },
  {
   "cell_type": "code",
   "execution_count": null,
   "metadata": {},
   "outputs": [],
   "source": [
    "# Plot monthly polarization\n",
    "\n",
    "plot_polarization_by_time(\n",
    "    data=pol_by_month_events,\n",
    "    event_key=EVENT_KEY,\n",
    "    event_details=EVENT_DETAILS,\n",
    "    granularity=\"month\",\n",
    ")\n"
   ]
  },
  {
   "attachments": {},
   "cell_type": "markdown",
   "metadata": {},
   "source": [
    "### Weekly polarization"
   ]
  },
  {
   "cell_type": "code",
   "execution_count": null,
   "metadata": {},
   "outputs": [],
   "source": [
    "logging.info(\"Calculating leave-out polarization by week...\")\n",
    "\n",
    "pol_by_week_events = calculate_polarization_by_time(\n",
    "    event_comments,\n",
    "    ngram_range=(1, 2),\n",
    "    event_vocab=event_vocab,\n",
    "    freq=\"W\",\n",
    "    equalize_users=True,\n",
    ")\n",
    "\n",
    "logging.info(\"Saving weekly polarization data...\")\n",
    "pol_by_week_events.to_parquet(\n",
    "    f\"{OUTPUT_DIR}/{EVENT_KEY}_leaveout_polarization_by_week.parquet\",\n",
    "    index=False,\n",
    ")\n"
   ]
  },
  {
   "cell_type": "code",
   "execution_count": null,
   "metadata": {},
   "outputs": [],
   "source": [
    "pol_by_week_events = pd.read_parquet(\n",
    "    f\"{OUTPUT_DIR}/{EVENT_KEY}_leaveout_polarization_by_week.parquet\"\n",
    ")\n"
   ]
  },
  {
   "cell_type": "code",
   "execution_count": null,
   "metadata": {},
   "outputs": [],
   "source": [
    "# Plot weekly polarization\n",
    "plot_polarization_by_time(\n",
    "    data=pol_by_week_events,\n",
    "    event_key=EVENT_KEY,\n",
    "    event_details=EVENT_DETAILS,\n",
    "    granularity=\"week\",\n",
    ")"
   ]
  },
  {
   "attachments": {},
   "cell_type": "markdown",
   "metadata": {},
   "source": [
    "### Daily polarization"
   ]
  },
  {
   "cell_type": "code",
   "execution_count": null,
   "metadata": {},
   "outputs": [],
   "source": [
    "logging.info(\"Calculating leave-out polarization by day...\")\n",
    "\n",
    "pol_by_day_events = calculate_polarization_by_time(\n",
    "    event_comments,\n",
    "    ngram_range=(1, 2),\n",
    "    event_vocab=event_vocab,\n",
    "    freq=\"D\",\n",
    "    equalize_users=True,\n",
    ")\n",
    "\n",
    "logging.info(\"Saving daily polarization data...\")\n",
    "pol_by_day_events.to_parquet(\n",
    "    f\"{OUTPUT_DIR}/{EVENT_KEY}_leaveout_polarization_by_day.parquet\",\n",
    "    index=False,\n",
    ")\n"
   ]
  },
  {
   "cell_type": "code",
   "execution_count": null,
   "metadata": {},
   "outputs": [],
   "source": [
    "pol_by_day_events = pd.read_parquet(\n",
    "    f\"{OUTPUT_DIR}/{EVENT_KEY}_leaveout_polarization_by_day.parquet\"\n",
    ")\n"
   ]
  },
  {
   "cell_type": "code",
   "execution_count": null,
   "metadata": {},
   "outputs": [],
   "source": [
    "# Plot daily polarization\n",
    "\n",
    "plot_polarization_by_time(\n",
    "    data=pol_by_day_events,\n",
    "    event_key=EVENT_KEY,\n",
    "    event_details=EVENT_DETAILS,\n",
    "    granularity=\"day\",\n",
    ")"
   ]
  }
 ],
 "metadata": {
  "kernelspec": {
   "display_name": "pol_env",
   "language": "python",
   "name": "python3"
  },
  "language_info": {
   "codemirror_mode": {
    "name": "ipython",
    "version": 3
   },
   "file_extension": ".py",
   "mimetype": "text/x-python",
   "name": "python",
   "nbconvert_exporter": "python",
   "pygments_lexer": "ipython3",
   "version": "3.8.16"
  },
  "orig_nbformat": 4,
  "vscode": {
   "interpreter": {
    "hash": "0517ac6396832503edeb22d4ae2d55ad6af9f111efda9985705546d6640f6543"
   }
  }
 },
 "nbformat": 4,
 "nbformat_minor": 2
}
