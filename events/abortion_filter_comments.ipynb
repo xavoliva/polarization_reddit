{
 "cells": [
  {
   "cell_type": "code",
   "execution_count": null,
   "metadata": {},
   "outputs": [],
   "source": [
    "%load_ext autoreload\n",
    "%autoreload 2\n",
    "\n",
    "%cd '..'"
   ]
  },
  {
   "cell_type": "code",
   "execution_count": null,
   "metadata": {},
   "outputs": [],
   "source": [
    "import logging\n",
    "import sys\n",
    "\n",
    "logging.basicConfig(\n",
    "    level=logging.INFO,\n",
    "    format=\"%(asctime)s [%(levelname)s] %(message)s\",\n",
    "    handlers=[\n",
    "        logging.FileHandler(\n",
    "            f\"data/logs/abortion_filter_comments.log\"\n",
    "        ),\n",
    "        logging.StreamHandler(stream=sys.stdout),\n",
    "    ],\n",
    ")\n"
   ]
  },
  {
   "cell_type": "code",
   "execution_count": null,
   "metadata": {},
   "outputs": [],
   "source": [
    "import pandas as pd\n",
    "from tqdm import tqdm\n",
    "\n",
    "tqdm.pandas()\n",
    "\n",
    "from load.utils import (\n",
    "    load_df_from_parquet,\n",
    ")\n",
    "from preprocessing.utils import (\n",
    "    save_event_comments,\n",
    "    load_event_comments,\n",
    "    build_vocab,\n",
    "    save_event_vocab,\n",
    ")\n",
    "\n",
    "from preprocessing.constants import (\n",
    "    MIN_OCCURENCE_FOR_VOCAB,\n",
    ")\n",
    "\n",
    "from events.abortion_constants import (\n",
    "    ABORTION_EVENTS_INFO,\n",
    "    ABORTION_KEYWORDS,\n",
    ")\n",
    "from events.utils import get_event_regex"
   ]
  },
  {
   "cell_type": "code",
   "execution_count": null,
   "metadata": {},
   "outputs": [],
   "source": [
    "YEARS = [2015, 2016, 2017, 2018, 2019]\n"
   ]
  },
  {
   "attachments": {},
   "cell_type": "markdown",
   "metadata": {},
   "source": [
    "## Filter event comments"
   ]
  },
  {
   "cell_type": "code",
   "execution_count": null,
   "metadata": {},
   "outputs": [],
   "source": [
    "logging.info(\"Load partisan comments\")\n",
    "partisan_comments_list = []\n",
    "for year in YEARS:\n",
    "    partisan_comments_year = load_df_from_parquet(\n",
    "        file_name=f\"user_partisan_comments_{year}.parquet\",\n",
    "    )\n",
    "\n",
    "    partisan_comments_year = partisan_comments_year[\n",
    "        partisan_comments_year[\"party\"].isin({\"dem\", \"rep\"})\n",
    "    ]\n",
    "\n",
    "    partisan_comments_list.append(partisan_comments_year)\n",
    "\n",
    "partisan_comments = pd.concat(\n",
    "    partisan_comments_list,\n",
    "    ignore_index=True,\n",
    ")\n",
    "\n",
    "logging.info(\"Partisan comments dataset\")\n",
    "logging.info(partisan_comments.shape)"
   ]
  },
  {
   "cell_type": "code",
   "execution_count": null,
   "metadata": {},
   "outputs": [],
   "source": [
    "THEME = \"abortion\"\n",
    "OVERALL_EVENT_NAME = \"abortion_events\"\n",
    "EVENT_NAMES = list(ABORTION_EVENTS_INFO.keys())"
   ]
  },
  {
   "cell_type": "code",
   "execution_count": null,
   "metadata": {},
   "outputs": [],
   "source": [
    "overall_event_comments_list = []\n",
    "\n",
    "for event_name in EVENT_NAMES:\n",
    "    event_info = ABORTION_EVENTS_INFO[event_name]\n",
    "    logging.info(\n",
    "        event_name + \" \" + event_info[\"date\"].strftime(\"%Y-%m-%d\"),\n",
    "    )\n",
    "    event_regex = event_info[\"regex\"]\n",
    "\n",
    "    logging.info(event_regex)\n",
    "\n",
    "    # filter comments based on event date\n",
    "    logging.info(\"Filtering event data based on date...\")\n",
    "    event_comments = partisan_comments[\n",
    "        (\n",
    "            pd.to_datetime(partisan_comments[\"created_utc\"], unit=\"s\")\n",
    "            >= event_info[\"date\"] - pd.Timedelta(days=1)\n",
    "        )\n",
    "        & (\n",
    "            pd.to_datetime(partisan_comments[\"created_utc\"], unit=\"s\")\n",
    "            <= event_info[\"date\"] + pd.Timedelta(days=30)\n",
    "        )\n",
    "    ].copy()\n",
    "\n",
    "    logging.info(\"Filtering event data based on keywords...\")\n",
    "    event_comments = event_comments[\n",
    "        event_comments[\"tokens\"].str.contains(\n",
    "            event_regex,\n",
    "            regex=True,\n",
    "        )\n",
    "    ].copy()\n",
    "    logging.info(\"finished keyword filtering\")\n",
    "\n",
    "    logging.info(event_comments.shape)\n",
    "\n",
    "    logging.info(f\"Nr of event comments: {len(event_comments)}\")\n",
    "\n",
    "    event_comments[\"event_name\"] = event_name\n",
    "\n",
    "    overall_event_comments_list.append(event_comments)\n",
    "\n",
    "overall_event_comments = pd.concat(\n",
    "    overall_event_comments_list,\n",
    "    ignore_index=True,\n",
    ")\n"
   ]
  },
  {
   "cell_type": "code",
   "execution_count": null,
   "metadata": {},
   "outputs": [],
   "source": [
    "logging.info(\"Overall event comments dataset\")\n",
    "logging.info(overall_event_comments.shape)\n",
    "\n",
    "save_event_comments(\n",
    "    overall_event_comments,\n",
    "    theme=THEME,\n",
    "    event_name=OVERALL_EVENT_NAME,\n",
    ")\n"
   ]
  },
  {
   "attachments": {},
   "cell_type": "markdown",
   "metadata": {},
   "source": [
    "## Build event vocabulary"
   ]
  },
  {
   "cell_type": "code",
   "execution_count": null,
   "metadata": {},
   "outputs": [],
   "source": [
    "event_vocab = build_vocab(\n",
    "    overall_event_comments[\"tokens\"],\n",
    "    ngram_range=(1, 2),\n",
    "    min_df=MIN_OCCURENCE_FOR_VOCAB,\n",
    ")\n"
   ]
  },
  {
   "cell_type": "code",
   "execution_count": null,
   "metadata": {},
   "outputs": [],
   "source": [
    "logging.info(\"Vocabulary length\")\n",
    "logging.info(len(event_vocab))"
   ]
  },
  {
   "cell_type": "code",
   "execution_count": null,
   "metadata": {},
   "outputs": [],
   "source": [
    "logging.info(\"Saving event vocab\")\n",
    "save_event_vocab(\n",
    "    event_vocab,\n",
    "    theme=THEME,\n",
    "    event_name=OVERALL_EVENT_NAME,\n",
    ")\n"
   ]
  },
  {
   "cell_type": "markdown",
   "metadata": {},
   "source": [
    "### Filter comments based on overall abortion"
   ]
  },
  {
   "cell_type": "code",
   "execution_count": null,
   "metadata": {},
   "outputs": [],
   "source": [
    "ABORTION_REGEX = get_event_regex(ABORTION_KEYWORDS, [], \"or\")"
   ]
  },
  {
   "cell_type": "code",
   "execution_count": null,
   "metadata": {},
   "outputs": [],
   "source": [
    "logging.info(\"Filtering event data based on keywords...\")\n",
    "abortion_comments = partisan_comments[\n",
    "    partisan_comments[\"tokens\"].str.contains(\n",
    "        ABORTION_REGEX,\n",
    "        regex=True,\n",
    "    )\n",
    "].copy()\n"
   ]
  },
  {
   "cell_type": "code",
   "execution_count": null,
   "metadata": {},
   "outputs": [],
   "source": [
    "del partisan_comments"
   ]
  },
  {
   "cell_type": "code",
   "execution_count": null,
   "metadata": {},
   "outputs": [],
   "source": [
    "save_event_comments(\n",
    "    abortion_comments,\n",
    "    theme=THEME,\n",
    "    event_name=THEME,\n",
    ")"
   ]
  },
  {
   "cell_type": "code",
   "execution_count": null,
   "metadata": {},
   "outputs": [],
   "source": [
    "\n",
    "\n",
    "abortion_vocab = build_vocab(\n",
    "    abortion_comments[\"tokens\"],\n",
    "    ngram_range=(1, 2),\n",
    "    min_df=MIN_OCCURENCE_FOR_VOCAB,\n",
    ")\n",
    "\n",
    "logging.info(\"Vocabulary length\")\n",
    "logging.info(len(event_vocab))\n",
    "\n",
    "logging.info(\"Saving event vocab\")\n",
    "save_event_vocab(\n",
    "    abortion_vocab,\n",
    "    theme=THEME,\n",
    "    event_name=THEME,\n",
    ")"
   ]
  }
 ],
 "metadata": {
  "kernelspec": {
   "display_name": "pol_env",
   "language": "python",
   "name": "python3"
  },
  "language_info": {
   "codemirror_mode": {
    "name": "ipython",
    "version": 3
   },
   "file_extension": ".py",
   "mimetype": "text/x-python",
   "name": "python",
   "nbconvert_exporter": "python",
   "pygments_lexer": "ipython3",
   "version": "3.8.16"
  },
  "orig_nbformat": 4,
  "vscode": {
   "interpreter": {
    "hash": "0517ac6396832503edeb22d4ae2d55ad6af9f111efda9985705546d6640f6543"
   }
  }
 },
 "nbformat": 4,
 "nbformat_minor": 2
}
