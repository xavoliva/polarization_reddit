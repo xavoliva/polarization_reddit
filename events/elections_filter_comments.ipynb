{
 "cells": [
  {
   "cell_type": "code",
   "execution_count": null,
   "metadata": {},
   "outputs": [],
   "source": [
    "%load_ext autoreload\n",
    "%autoreload 2\n",
    "\n",
    "%cd '..'"
   ]
  },
  {
   "cell_type": "code",
   "execution_count": null,
   "metadata": {},
   "outputs": [],
   "source": [
    "import logging\n",
    "import sys\n",
    "\n",
    "import pandas as pd\n",
    "\n",
    "logging.basicConfig(\n",
    "    level=logging.INFO,\n",
    "    format=\"%(asctime)s [%(levelname)s] %(message)s\",\n",
    "    handlers=[\n",
    "        logging.FileHandler(f\"data/logs/elections_filter_comments.log\"),\n",
    "        logging.StreamHandler(stream=sys.stdout),\n",
    "    ],\n",
    ")\n"
   ]
  },
  {
   "cell_type": "code",
   "execution_count": null,
   "metadata": {},
   "outputs": [],
   "source": [
    "from tqdm import tqdm\n",
    "tqdm.pandas()\n",
    "\n",
    "from load.utils import (\n",
    "    load_df_from_parquet,\n",
    ")\n",
    "from preprocessing.utils import (\n",
    "    save_event_comments,\n",
    "    load_event_comments,\n",
    "    build_vocab,\n",
    "    save_event_vocab,\n",
    ")\n",
    "\n",
    "from preprocessing.constants import (\n",
    "    MIN_OCCURENCE_FOR_VOCAB,\n",
    ")\n",
    "\n",
    "from events.elections_constants import (\n",
    "    ELECTIONS_EVENTS_INFO,\n",
    ")"
   ]
  },
  {
   "cell_type": "code",
   "execution_count": null,
   "metadata": {},
   "outputs": [],
   "source": [
    "YEAR = 2016\n",
    "\n",
    "EVENT_NAME = f\"us_elections_{YEAR}\"\n",
    "EVENT_INFO = ELECTIONS_EVENTS_INFO[EVENT_NAME]"
   ]
  },
  {
   "attachments": {},
   "cell_type": "markdown",
   "metadata": {},
   "source": [
    "## Filter event comments"
   ]
  },
  {
   "cell_type": "code",
   "execution_count": null,
   "metadata": {},
   "outputs": [],
   "source": [
    "logging.info(f\"Load partisan comments from {YEAR}\")\n",
    "\n",
    "partisan_comments = load_df_from_parquet(\n",
    "    file_name=f\"user_partisan_comments_{YEAR}.parquet\",\n",
    ")\n",
    "\n",
    "logging.info(partisan_comments.shape)"
   ]
  },
  {
   "cell_type": "code",
   "execution_count": null,
   "metadata": {},
   "outputs": [],
   "source": [
    "logging.info(\"Filtering event data based on keywords...\")\n",
    "event_comments = partisan_comments[\n",
    "    partisan_comments[\"tokens\"].str.contains(\n",
    "        EVENT_INFO[\"regex\"],\n",
    "        regex=True,\n",
    "    )\n",
    "].copy()\n",
    "logging.info(\"finished keyword filtering\")\n"
   ]
  },
  {
   "cell_type": "code",
   "execution_count": null,
   "metadata": {},
   "outputs": [],
   "source": [
    "logging.info(event_comments.shape)\n",
    "logging.info(event_comments.dtypes)"
   ]
  },
  {
   "cell_type": "code",
   "execution_count": null,
   "metadata": {},
   "outputs": [],
   "source": [
    "del partisan_comments"
   ]
  },
  {
   "cell_type": "code",
   "execution_count": null,
   "metadata": {},
   "outputs": [],
   "source": [
    "logging.info(f\"Nr of event comments: {len(event_comments)}\")"
   ]
  },
  {
   "cell_type": "code",
   "execution_count": null,
   "metadata": {},
   "outputs": [],
   "source": [
    "logging.info(\"saving event comments...\")\n",
    "save_event_comments(event_comments, EVENT_NAME)"
   ]
  },
  {
   "attachments": {},
   "cell_type": "markdown",
   "metadata": {},
   "source": [
    "## Build event vocabulary"
   ]
  },
  {
   "cell_type": "code",
   "execution_count": null,
   "metadata": {},
   "outputs": [],
   "source": [
    "# Read event data\n",
    "event_comments = load_event_comments(\n",
    "    theme=\"elections\",\n",
    "    event_name=EVENT_NAME,\n",
    ")\n",
    "\n",
    "logging.info(\"Building event vocabulary...\")\n",
    "\n",
    "# filter out tokens that occur less than MIN_OCCURENCE_FOR_VOCAB times\n",
    "event_vocab = build_vocab(\n",
    "    event_comments[\"tokens\"],\n",
    "    ngram_range=(1, 2),\n",
    "    min_df=MIN_OCCURENCE_FOR_VOCAB,\n",
    ")\n"
   ]
  },
  {
   "cell_type": "code",
   "execution_count": null,
   "metadata": {},
   "outputs": [],
   "source": [
    "logging.info(\"Vocabulary length\")\n",
    "logging.info(len(event_vocab))"
   ]
  },
  {
   "cell_type": "code",
   "execution_count": null,
   "metadata": {},
   "outputs": [],
   "source": [
    "logging.info(\"Saving event vocab\")\n",
    "save_event_vocab(event_vocab, EVENT_NAME)"
   ]
  }
 ],
 "metadata": {
  "kernelspec": {
   "display_name": "pol_env",
   "language": "python",
   "name": "python3"
  },
  "language_info": {
   "codemirror_mode": {
    "name": "ipython",
    "version": 3
   },
   "file_extension": ".py",
   "mimetype": "text/x-python",
   "name": "python",
   "nbconvert_exporter": "python",
   "pygments_lexer": "ipython3",
   "version": "3.8.16"
  },
  "orig_nbformat": 4,
  "vscode": {
   "interpreter": {
    "hash": "0517ac6396832503edeb22d4ae2d55ad6af9f111efda9985705546d6640f6543"
   }
  }
 },
 "nbformat": 4,
 "nbformat_minor": 2
}
