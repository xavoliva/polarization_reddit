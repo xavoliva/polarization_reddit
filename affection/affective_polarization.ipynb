{
 "cells": [
  {
   "cell_type": "code",
   "execution_count": null,
   "metadata": {},
   "outputs": [],
   "source": [
    "%load_ext autoreload\n",
    "%autoreload 2\n",
    "\n",
    "%cd '..'"
   ]
  },
  {
   "cell_type": "code",
   "execution_count": null,
   "metadata": {},
   "outputs": [],
   "source": [
    "import pandas as pd\n",
    "\n",
    "from load.utils import load_df_from_parquet\n",
    "\n",
    "from affection.utils import (\n",
    "    get_sentiment_score,\n",
    ")\n",
    "\n",
    "from affection.constants import (\n",
    "    REPUBLICAN_KEYWORDS,\n",
    "    DEMOCRACT_KEYWORDS,\n",
    ")\n",
    "\n",
    "from events.utils import get_event_regex\n"
   ]
  },
  {
   "attachments": {},
   "cell_type": "markdown",
   "metadata": {},
   "source": [
    "## EVENT-SPECIFIC"
   ]
  },
  {
   "cell_type": "code",
   "execution_count": null,
   "metadata": {},
   "outputs": [],
   "source": [
    "# TODO"
   ]
  },
  {
   "attachments": {},
   "cell_type": "markdown",
   "metadata": {},
   "source": [
    "## GENERAL"
   ]
  },
  {
   "cell_type": "code",
   "execution_count": null,
   "metadata": {},
   "outputs": [],
   "source": [
    "YEAR = 2016"
   ]
  },
  {
   "cell_type": "code",
   "execution_count": null,
   "metadata": {},
   "outputs": [],
   "source": [
    "partisan_comments = load_df_from_parquet(\n",
    "    file_name=f\"user_partisan_comments_{YEAR}.parquet\",\n",
    ")"
   ]
  },
  {
   "cell_type": "code",
   "execution_count": null,
   "metadata": {},
   "outputs": [],
   "source": [
    "dem_keywords_regex = get_event_regex(DEMOCRACT_KEYWORDS, [], \"or\")\n",
    "rep_keywords_regex = get_event_regex(REPUBLICAN_KEYWORDS, [], \"or\")\n"
   ]
  },
  {
   "cell_type": "code",
   "execution_count": null,
   "metadata": {},
   "outputs": [],
   "source": [
    "print(dem_keywords_regex)\n",
    "print(rep_keywords_regex)"
   ]
  },
  {
   "cell_type": "code",
   "execution_count": null,
   "metadata": {},
   "outputs": [],
   "source": [
    "# filter comments by democrats mentioning republicans or vice versa\n",
    "\n",
    "partisan_comments = partisan_comments[\n",
    "    (partisan_comments[\"party\"] == \"dem\")\n",
    "    & (partisan_comments[\"tokens\"].str.contains(rep_keywords_regex, regex=True))\n",
    "    | (partisan_comments[\"party\"] == \"rep\")\n",
    "    & (partisan_comments[\"tokens\"].str.contains(dem_keywords_regex, regex=True))\n",
    "].copy()\n"
   ]
  },
  {
   "cell_type": "code",
   "execution_count": null,
   "metadata": {},
   "outputs": [],
   "source": [
    "print(partisan_comments.shape)"
   ]
  },
  {
   "cell_type": "code",
   "execution_count": null,
   "metadata": {},
   "outputs": [],
   "source": [
    "partisan_comments[\"sentiment_scores\"] = partisan_comments[\"body_cleaned\"].apply(get_sentiment_score)\n"
   ]
  }
 ],
 "metadata": {
  "kernelspec": {
   "display_name": "pol_env",
   "language": "python",
   "name": "python3"
  },
  "language_info": {
   "codemirror_mode": {
    "name": "ipython",
    "version": 3
   },
   "file_extension": ".py",
   "mimetype": "text/x-python",
   "name": "python",
   "nbconvert_exporter": "python",
   "pygments_lexer": "ipython3",
   "version": "3.8.16"
  },
  "orig_nbformat": 4
 },
 "nbformat": 4,
 "nbformat_minor": 2
}
