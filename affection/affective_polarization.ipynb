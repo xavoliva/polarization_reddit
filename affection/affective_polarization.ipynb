{
 "cells": [
  {
   "cell_type": "code",
   "execution_count": null,
   "metadata": {},
   "outputs": [],
   "source": [
    "%load_ext autoreload\n",
    "%autoreload 2\n",
    "\n",
    "%cd '..'"
   ]
  },
  {
   "cell_type": "code",
   "execution_count": null,
   "metadata": {},
   "outputs": [],
   "source": [
    "\n",
    "import os\n",
    "import pandas as pd\n",
    "from tqdm import tqdm\n",
    "tqdm.pandas()\n",
    "\n",
    "import seaborn as sns\n",
    "import matplotlib.pyplot as plt\n",
    "\n",
    "from load.utils import load_df_from_parquet\n",
    "\n",
    "from affection.utils import (\n",
    "    get_compound_sentiment_score,\n",
    "    get_comments_mentioning_opposition,\n",
    ")\n",
    "from preprocessing.utils import (\n",
    "    load_event_comments,\n",
    ")\n",
    "from preprocessing.constants import OUTPUT_DIR\n",
    "\n",
    "from affection.constants import (\n",
    "    REPUBLICAN_KEYWORDS,\n",
    "    DEMOCRACT_KEYWORDS,\n",
    ")\n",
    "\n",
    "from events.utils import get_event_regex\n",
    "from eda.constants import PARTIES_COLORS\n"
   ]
  },
  {
   "cell_type": "code",
   "execution_count": null,
   "metadata": {},
   "outputs": [],
   "source": [
    "import logging\n",
    "import sys\n",
    "\n",
    "logging.basicConfig(\n",
    "    level=logging.INFO,\n",
    "    format=\"%(asctime)s [%(levelname)s] %(message)s\",\n",
    "    handlers=[\n",
    "        logging.FileHandler(\n",
    "            f\"data/logs/affective_polarization.log\"\n",
    "        ),\n",
    "        logging.StreamHandler(stream=sys.stdout),\n",
    "    ],\n",
    ")"
   ]
  },
  {
   "cell_type": "code",
   "execution_count": null,
   "metadata": {},
   "outputs": [],
   "source": [
    "PARTY_REGEXES = {\n",
    "    \"dem\": get_event_regex(\n",
    "        DEMOCRACT_KEYWORDS,\n",
    "        [],\n",
    "        \"or\",\n",
    "        stem=False,\n",
    "        capture=False,\n",
    "    ),\n",
    "    \"rep\": get_event_regex(\n",
    "        REPUBLICAN_KEYWORDS,\n",
    "        [],\n",
    "        \"or\",\n",
    "        stem=False,\n",
    "        capture=False,\n",
    "    ),\n",
    "}\n"
   ]
  },
  {
   "cell_type": "code",
   "execution_count": null,
   "metadata": {},
   "outputs": [],
   "source": [
    "logging.info(PARTY_REGEXES[\"dem\"])\n",
    "logging.info(PARTY_REGEXES[\"rep\"])"
   ]
  },
  {
   "attachments": {},
   "cell_type": "markdown",
   "metadata": {},
   "source": [
    "## EVENT-SPECIFIC"
   ]
  },
  {
   "cell_type": "code",
   "execution_count": null,
   "metadata": {},
   "outputs": [],
   "source": [
    "EVENT_NAMES = [\n",
    "    (\"gun_control\", \"mass_shootings_gun_control\"),\n",
    "    (\"gun_control\", \"mass_shootings\"),\n",
    "    (\"elections\", \"us_elections_2012\"),\n",
    "    (\"elections\", \"us_elections_2016\"),\n",
    "    (\"elections\", \"us_midterms_2014\"),\n",
    "    (\"elections\", \"us_midterms_2018\"),\n",
    "    (\"abortion\", \"abortion\"),\n",
    "]\n",
    "\n",
    "for THEME, EVENT in EVENT_NAMES:\n",
    "    logging.info(f\"Loading {EVENT}\")\n",
    "\n",
    "    event_comments = load_event_comments(\n",
    "        theme=THEME,\n",
    "        event_name=EVENT,\n",
    "    )\n",
    "\n",
    "    dem_event_comments_about_reps = get_comments_mentioning_opposition(\n",
    "        event_comments,\n",
    "        body=\"body_cleaned\",\n",
    "        party=\"dem\",\n",
    "        regexes=PARTY_REGEXES,\n",
    "    )\n",
    "\n",
    "    rep_event_comments_about_dems = get_comments_mentioning_opposition(\n",
    "        event_comments,\n",
    "        body=\"body_cleaned\",\n",
    "        party=\"rep\",\n",
    "        regexes=PARTY_REGEXES,\n",
    "    )\n",
    "\n",
    "    logging.info(\"Dem comments\")\n",
    "    logging.info(dem_event_comments_about_reps.shape)\n",
    "    logging.info(\"Rep comments\")\n",
    "    logging.info(rep_event_comments_about_dems.shape)\n",
    "\n",
    "    event_comments_about_opposing_party = pd.concat(\n",
    "        [\n",
    "            dem_event_comments_about_reps,\n",
    "            rep_event_comments_about_dems,\n",
    "        ]\n",
    "    )\n",
    "\n",
    "    event_comments_about_opposing_party[\n",
    "        \"sentiment_score\"\n",
    "    ] = event_comments_about_opposing_party[\"body_cleaned\"].progress_apply(\n",
    "        get_compound_sentiment_score\n",
    "    )\n",
    "\n",
    "    current_date = pd.Timestamp.now().strftime(\"%m_%d\")\n",
    "    OUTPUT_DIR_TODAY = f\"{OUTPUT_DIR}/{current_date}\"\n",
    "\n",
    "    if not os.path.exists(OUTPUT_DIR_TODAY):\n",
    "        os.makedirs(OUTPUT_DIR_TODAY)\n",
    "\n",
    "    event_comments_about_opposing_party.to_parquet(\n",
    "        f\"{OUTPUT_DIR_TODAY}/{EVENT}_comments_about_opposing_party.parquet\",\n",
    "    )\n",
    "\n",
    "    event_comments[\"sentiment_score\"] = event_comments[\"body_cleaned\"].progress_apply(\n",
    "        get_compound_sentiment_score\n",
    "    )\n",
    "\n",
    "    event_comments.to_parquet(\n",
    "        f\"{OUTPUT_DIR_TODAY}/{EVENT}_comments.parquet\",\n",
    "    )\n"
   ]
  },
  {
   "attachments": {},
   "cell_type": "markdown",
   "metadata": {},
   "source": [
    "## GENERAL"
   ]
  },
  {
   "cell_type": "code",
   "execution_count": null,
   "metadata": {},
   "outputs": [],
   "source": [
    "for YEAR in [2014, 2015, 2016, 2017, 2018, 2019]:\n",
    "\n",
    "    partisan_comments = load_df_from_parquet(\n",
    "        file_name=f\"user_partisan_comments_{YEAR}.parquet\",\n",
    "    )\n",
    "\n",
    "    # filter comments by democrats mentioning republicans\n",
    "\n",
    "    logging.info(\"Filtering comments by democrats mentioning republican\")\n",
    "    dem_comments_about_reps = get_comments_mentioning_opposition(\n",
    "        partisan_comments,\n",
    "        body=\"body_cleaned\",\n",
    "        party=\"dem\",\n",
    "        regexes=PARTY_REGEXES,\n",
    "    )\n",
    "\n",
    "    logging.info(\"Filtering comments by republicans mentioning democrats\")\n",
    "    rep_comments_about_dems = get_comments_mentioning_opposition(\n",
    "        partisan_comments,\n",
    "        body=\"body_cleaned\",\n",
    "        party=\"rep\",\n",
    "        regexes=PARTY_REGEXES,\n",
    "    )\n",
    "\n",
    "    # concatenate the two dataframes\n",
    "\n",
    "    comments_about_opposing_party = pd.concat(\n",
    "        [\n",
    "            dem_comments_about_reps,\n",
    "            rep_comments_about_dems,\n",
    "        ]\n",
    "    )\n",
    "\n",
    "    logging.info(\"Total comments\")\n",
    "    logging.info(comments_about_opposing_party.shape)\n",
    "    logging.info(\"Dem comments\")\n",
    "    logging.info(dem_comments_about_reps.shape)\n",
    "    logging.info(\"Rep comments\")\n",
    "    logging.info(rep_comments_about_dems.shape)\n",
    "\n",
    "    logging.info(\"Calculating sentiment scores\")\n",
    "\n",
    "    comments_about_opposing_party[\"sentiment_scores\"] = comments_about_opposing_party[\n",
    "        \"body_cleaned\"\n",
    "    ].progress_apply(get_compound_sentiment_score)\n",
    "\n",
    "    logging.info(\"Saving sentiment scores\")\n",
    "\n",
    "    current_date = pd.Timestamp.now().strftime(\"%m_%d\")\n",
    "\n",
    "    OUTPUT_DIR_TODAY = f\"{OUTPUT_DIR}/{current_date}\"\n",
    "\n",
    "    if not os.path.exists(OUTPUT_DIR_TODAY):\n",
    "        os.makedirs(OUTPUT_DIR_TODAY)\n",
    "\n",
    "    comments_about_opposing_party.to_parquet(\n",
    "        f\"{OUTPUT_DIR_TODAY}/comments_about_opposing_party_{YEAR}.parquet\",\n",
    "    )\n"
   ]
  },
  {
   "cell_type": "code",
   "execution_count": null,
   "metadata": {},
   "outputs": [],
   "source": [
    "current_date = pd.Timestamp.now().strftime(\"%m_%d\")\n",
    "\n",
    "comments_about_opposing_party = load_df_from_parquet(\n",
    "    f\"comments_about_opposing_party_2016.parquet\",\n",
    "    date=current_date,\n",
    ")"
   ]
  },
  {
   "cell_type": "code",
   "execution_count": null,
   "metadata": {},
   "outputs": [],
   "source": [
    "comments_about_opposing_party.groupby(\"type\")[\"sentiment_scores\"].mean()\n"
   ]
  },
  {
   "cell_type": "code",
   "execution_count": null,
   "metadata": {},
   "outputs": [],
   "source": [
    "user_sentiment = comments_about_opposing_party.groupby(\n",
    "    [\n",
    "        \"author\",\n",
    "        \"party\",\n",
    "    ]\n",
    ")[\"sentiment_scores\"].mean()\n",
    "\n",
    "user_sentiment = user_sentiment.reset_index()\n"
   ]
  },
  {
   "cell_type": "code",
   "execution_count": null,
   "metadata": {},
   "outputs": [],
   "source": [
    "sns.set_theme()\n",
    "sns.boxplot(\n",
    "    user_sentiment,\n",
    "    x=\"party\",\n",
    "    y=\"sentiment_scores\",\n",
    "    palette=PARTIES_COLORS,\n",
    ")\n",
    "\n",
    "plt.show()\n"
   ]
  },
  {
   "cell_type": "code",
   "execution_count": null,
   "metadata": {},
   "outputs": [],
   "source": [
    "comments_about_opposing_party[\"date\"] = pd.to_datetime(\n",
    "    comments_about_opposing_party[\"created_utc\"],\n",
    "    unit=\"s\",\n",
    ")\n",
    "\n",
    "comments_about_opposing_party[\"day\"] = comments_about_opposing_party[\"date\"].dt.date\n"
   ]
  },
  {
   "cell_type": "code",
   "execution_count": null,
   "metadata": {},
   "outputs": [],
   "source": [
    "plt.figure(figsize=(20, 10))\n",
    "\n",
    "sns.lineplot(comments_about_opposing_party, x=\"day\", y=\"sentiment_scores\", hue=\"party\")\n",
    "\n",
    "plt.show()"
   ]
  }
 ],
 "metadata": {
  "kernelspec": {
   "display_name": "pol_env",
   "language": "python",
   "name": "python3"
  },
  "language_info": {
   "codemirror_mode": {
    "name": "ipython",
    "version": 3
   },
   "file_extension": ".py",
   "mimetype": "text/x-python",
   "name": "python",
   "nbconvert_exporter": "python",
   "pygments_lexer": "ipython3",
   "version": "3.8.16"
  },
  "orig_nbformat": 4
 },
 "nbformat": 4,
 "nbformat_minor": 2
}
