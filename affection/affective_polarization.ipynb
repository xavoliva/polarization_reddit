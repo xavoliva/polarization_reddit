{
 "cells": [
  {
   "cell_type": "code",
   "execution_count": null,
   "metadata": {},
   "outputs": [],
   "source": [
    "%load_ext autoreload\n",
    "%autoreload 2\n",
    "\n",
    "%cd '..'"
   ]
  },
  {
   "cell_type": "code",
   "execution_count": null,
   "metadata": {},
   "outputs": [],
   "source": [
    "\n",
    "import os\n",
    "import pandas as pd\n",
    "from tqdm import tqdm\n",
    "tqdm.pandas()\n",
    "\n",
    "from load.utils import load_df_from_parquet\n",
    "\n",
    "from affection.utils import (\n",
    "    get_compound_sentiment_score,\n",
    ")\n",
    "from preprocessing.constants import OUTPUT_DIR\n",
    "\n",
    "from affection.constants import (\n",
    "    REPUBLICAN_KEYWORDS,\n",
    "    DEMOCRACT_KEYWORDS,\n",
    ")\n",
    "\n",
    "from events.utils import get_event_regex\n"
   ]
  },
  {
   "cell_type": "code",
   "execution_count": null,
   "metadata": {},
   "outputs": [],
   "source": [
    "import logging\n",
    "import sys\n",
    "\n",
    "logging.basicConfig(\n",
    "    level=logging.INFO,\n",
    "    format=\"%(asctime)s [%(levelname)s] %(message)s\",\n",
    "    handlers=[\n",
    "        logging.FileHandler(\n",
    "            f\"data/logs/affective_polarization.log\"\n",
    "        ),\n",
    "        logging.StreamHandler(stream=sys.stdout),\n",
    "    ],\n",
    ")"
   ]
  },
  {
   "attachments": {},
   "cell_type": "markdown",
   "metadata": {},
   "source": [
    "## EVENT-SPECIFIC"
   ]
  },
  {
   "cell_type": "code",
   "execution_count": null,
   "metadata": {},
   "outputs": [],
   "source": [
    "# TODO"
   ]
  },
  {
   "attachments": {},
   "cell_type": "markdown",
   "metadata": {},
   "source": [
    "## GENERAL"
   ]
  },
  {
   "cell_type": "code",
   "execution_count": null,
   "metadata": {},
   "outputs": [],
   "source": [
    "dem_keywords_regex = get_event_regex(DEMOCRACT_KEYWORDS, [], \"or\", stem=True)\n",
    "rep_keywords_regex = get_event_regex(REPUBLICAN_KEYWORDS, [], \"or\", stem=True)\n"
   ]
  },
  {
   "cell_type": "code",
   "execution_count": null,
   "metadata": {},
   "outputs": [],
   "source": [
    "logging.info(dem_keywords_regex)\n",
    "logging.info(rep_keywords_regex)"
   ]
  },
  {
   "cell_type": "code",
   "execution_count": null,
   "metadata": {},
   "outputs": [],
   "source": [
    "YEAR = 2016\n",
    "\n",
    "partisan_comments = load_df_from_parquet(\n",
    "    file_name=f\"user_partisan_comments_{YEAR}.parquet\",\n",
    ")"
   ]
  },
  {
   "cell_type": "code",
   "execution_count": null,
   "metadata": {},
   "outputs": [],
   "source": [
    "# filter comments by democrats mentioning republicans or vice versa\n",
    "\n",
    "logging.info(\"Filtering comments by democrats mentioning republican\")\n",
    "dem_comments_about_reps = partisan_comments[\n",
    "    (partisan_comments[\"party\"] == \"dem\")\n",
    "    & (\n",
    "        partisan_comments[\"body_cleaned\"].str.contains(rep_keywords_regex, regex=True)\n",
    "        & ~partisan_comments[\"body_cleaned\"].str.contains(\n",
    "            dem_keywords_regex, regex=True\n",
    "        )\n",
    "    )\n",
    "].copy()\n",
    "\n",
    "dem_comments_about_reps[\"type\"] = \"dem_comments_about_reps\"\n",
    "\n",
    "logging.info(\"Filtering comments by republicans mentioning democrats\")\n",
    "rep_comments_about_dems = partisan_comments[\n",
    "    (partisan_comments[\"party\"] == \"rep\")\n",
    "    & (\n",
    "        partisan_comments[\"tokens\"].str.contains(dem_keywords_regex, regex=True)\n",
    "        & ~partisan_comments[\"tokens\"].str.contains(\n",
    "            rep_keywords_regex, regex=True\n",
    "        )\n",
    "    )\n",
    "].copy()\n",
    "\n",
    "rep_comments_about_dems[\"type\"] = \"rep_comments_about_dems\"\n",
    "\n",
    "# concatenate the two dataframes\n",
    "\n",
    "comments_about_opposing_party = pd.concat(\n",
    "    [dem_comments_about_reps, rep_comments_about_dems]\n",
    ")\n"
   ]
  },
  {
   "cell_type": "code",
   "execution_count": null,
   "metadata": {},
   "outputs": [],
   "source": [
    "logging.info(comments_about_opposing_party.shape)"
   ]
  },
  {
   "cell_type": "code",
   "execution_count": null,
   "metadata": {},
   "outputs": [],
   "source": [
    "logging.info(\"Calculating sentiment scores\")\n",
    "\n",
    "comments_about_opposing_party[\"sentiment_scores\"] = comments_about_opposing_party[\n",
    "    \"body_cleaned\"\n",
    "].progress_apply(get_compound_sentiment_score)\n",
    "\n",
    "logging.info(\"Saving sentiment scores\")\n",
    "\n",
    "current_date = pd.Timestamp.now().strftime(\"%m_%d\")\n",
    "\n",
    "OUTPUT_DIR_TODAY = f\"{OUTPUT_DIR}/{current_date}\"\n",
    "\n",
    "if not os.path.exists(OUTPUT_DIR_TODAY):\n",
    "    os.makedirs(OUTPUT_DIR_TODAY)\n",
    "\n",
    "comments_about_opposing_party.to_parquet(\n",
    "    f\"{OUTPUT_DIR_TODAY}/comments_about_opposing_party_{YEAR}.parquet\", index=False\n",
    ")\n"
   ]
  }
 ],
 "metadata": {
  "kernelspec": {
   "display_name": "pol_env",
   "language": "python",
   "name": "python3"
  },
  "language_info": {
   "codemirror_mode": {
    "name": "ipython",
    "version": 3
   },
   "file_extension": ".py",
   "mimetype": "text/x-python",
   "name": "python",
   "nbconvert_exporter": "python",
   "pygments_lexer": "ipython3",
   "version": "3.8.16"
  },
  "orig_nbformat": 4
 },
 "nbformat": 4,
 "nbformat_minor": 2
}
