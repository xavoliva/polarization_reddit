{
 "cells": [
  {
   "cell_type": "code",
   "execution_count": 1,
   "metadata": {},
   "outputs": [
    {
     "name": "stdout",
     "output_type": "stream",
     "text": [
      "/dss/dsshome1/03/di93fup/polarization_reddit\n"
     ]
    }
   ],
   "source": [
    "%load_ext autoreload\n",
    "%autoreload 2\n",
    "\n",
    "%cd '..'"
   ]
  },
  {
   "cell_type": "code",
   "execution_count": 2,
   "metadata": {},
   "outputs": [],
   "source": [
    "import random\n",
    "\n",
    "from load.utils import load_comments\n",
    "from load.constants import SEED\n",
    "\n",
    "from sentence_transformers import SentenceTransformer\n",
    "import numpy as np\n",
    "from nltk.cluster import KMeansClusterer\n",
    "from nltk.cluster.util import cosine_distance\n",
    "\n",
    "from preprocessing.utils import (\n",
    "    load_event_comments,\n",
    "    save_event_comments,\n",
    ")\n"
   ]
  },
  {
   "cell_type": "code",
   "execution_count": 3,
   "metadata": {},
   "outputs": [],
   "source": [
    "model = SentenceTransformer('all-MiniLM-L6-v2')"
   ]
  },
  {
   "cell_type": "code",
   "execution_count": 5,
   "metadata": {},
   "outputs": [
    {
     "name": "stderr",
     "output_type": "stream",
     "text": [
      "Months: 100%|██████████| 1/1 [01:19<00:00, 79.29s/it]\n"
     ]
    }
   ],
   "source": [
    "EVENT_KEY = \"mass_shootings\"\n",
    "\n",
    "event_comments = load_event_comments(EVENT_KEY)"
   ]
  },
  {
   "cell_type": "code",
   "execution_count": 6,
   "metadata": {},
   "outputs": [
    {
     "data": {
      "application/vnd.jupyter.widget-view+json": {
       "model_id": "647c0c4d643a4de383b59be675b89f05",
       "version_major": 2,
       "version_minor": 0
      },
      "text/plain": [
       "Batches:   0%|          | 0/2 [00:00<?, ?it/s]"
      ]
     },
     "metadata": {},
     "output_type": "display_data"
    }
   ],
   "source": [
    "event_comments[\"embeddings\"] = model.encode(\n",
    "    event_comments[\"body_cleaned\"],\n",
    "    show_progress_bar=True,\n",
    "    normalize_embeddings=True,\n",
    ")\n"
   ]
  },
  {
   "cell_type": "code",
   "execution_count": 7,
   "metadata": {},
   "outputs": [
    {
     "data": {
      "text/plain": [
       "(50, 384)"
      ]
     },
     "execution_count": 7,
     "metadata": {},
     "output_type": "execute_result"
    }
   ],
   "source": [
    "save_event_comments(event_comments, f\"{EVENT_KEY}_with_embeddings\")"
   ]
  },
  {
   "attachments": {},
   "cell_type": "markdown",
   "metadata": {},
   "source": [
    "### Clustering"
   ]
  },
  {
   "cell_type": "code",
   "execution_count": null,
   "metadata": {},
   "outputs": [],
   "source": [
    "NUM_CLUSTERS = 7\n",
    "\n",
    "RNG = random.Random(SEED)"
   ]
  },
  {
   "cell_type": "code",
   "execution_count": 8,
   "metadata": {},
   "outputs": [
    {
     "name": "stdout",
     "output_type": "stream",
     "text": [
      "7\n",
      "clustering...\n",
      "calculating sum of distances...\n",
      "0.47398783559183627\n"
     ]
    }
   ],
   "source": [
    "print(NUM_CLUSTERS)\n",
    "\n",
    "kclusterer = KMeansClusterer(\n",
    "    num_means=NUM_CLUSTERS,\n",
    "    distance=cosine_distance,\n",
    "    rng=RNG,\n",
    ")\n",
    "\n",
    "assigned_clusters = kclusterer.cluster(\n",
    "    event_comment_embeddings,\n",
    "    assign_clusters=True,\n",
    ")\n",
    "\n",
    "means = np.array(kclusterer.means())\n",
    "\n",
    "sum_dists = []\n",
    "for i, c in enumerate(assigned_clusters):\n",
    "    sum_dists.append(cosine_distance(means[c], comment_embeddings[i]))\n",
    "\n",
    "print(np.mean(sum_dists))  # the smaller, the better\n"
   ]
  }
 ],
 "metadata": {
  "kernelspec": {
   "display_name": "pol_env",
   "language": "python",
   "name": "python3"
  },
  "language_info": {
   "codemirror_mode": {
    "name": "ipython",
    "version": 3
   },
   "file_extension": ".py",
   "mimetype": "text/x-python",
   "name": "python",
   "nbconvert_exporter": "python",
   "pygments_lexer": "ipython3",
   "version": "3.8.16"
  },
  "orig_nbformat": 4
 },
 "nbformat": 4,
 "nbformat_minor": 2
}
