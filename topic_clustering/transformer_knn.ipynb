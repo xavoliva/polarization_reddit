{
 "cells": [
  {
   "cell_type": "code",
   "execution_count": null,
   "metadata": {},
   "outputs": [],
   "source": [
    "%load_ext autoreload\n",
    "%autoreload 2\n",
    "\n",
    "%cd '..'"
   ]
  },
  {
   "cell_type": "code",
   "execution_count": null,
   "metadata": {},
   "outputs": [],
   "source": [
    "import random\n",
    "\n",
    "from load.constants import SEED\n",
    "\n",
    "import numpy as np\n",
    "from nltk.cluster import KMeansClusterer\n",
    "from nltk.cluster.util import cosine_distance\n",
    "from tqdm import tqdm\n",
    "\n",
    "from preprocessing.utils import (\n",
    "    load_event_comments,\n",
    ")\n"
   ]
  },
  {
   "cell_type": "code",
   "execution_count": null,
   "metadata": {},
   "outputs": [],
   "source": [
    "import logging\n",
    "import sys\n",
    "\n",
    "logging.basicConfig(\n",
    "    level=logging.INFO,\n",
    "    format=\"%(asctime)s [%(levelname)s] %(message)s\",\n",
    "    handlers=[\n",
    "        logging.FileHandler(\"data/logs/embeddings_knn.log\"),\n",
    "        logging.StreamHandler(stream=sys.stdout)\n",
    "    ]\n",
    ")"
   ]
  },
  {
   "cell_type": "code",
   "execution_count": null,
   "metadata": {},
   "outputs": [],
   "source": [
    "EVENT_KEY = \"us_elections_2016\"\n",
    "\n",
    "event_comments = load_event_comments(f\"{EVENT_KEY}_with_embeddings\")"
   ]
  },
  {
   "cell_type": "code",
   "execution_count": null,
   "metadata": {},
   "outputs": [],
   "source": [
    "logging.info(\"Loaded event comments\")\n",
    "logging.info(event_comments.shape)"
   ]
  },
  {
   "attachments": {},
   "cell_type": "markdown",
   "metadata": {},
   "source": [
    "### Clustering"
   ]
  },
  {
   "cell_type": "code",
   "execution_count": null,
   "metadata": {},
   "outputs": [],
   "source": [
    "NUM_CLUSTERS_LIST = [3, 5, 7, 10]\n",
    "\n",
    "RNG = random.Random(SEED)"
   ]
  },
  {
   "cell_type": "code",
   "execution_count": null,
   "metadata": {},
   "outputs": [],
   "source": [
    "for num_clusters in tqdm(NUM_CLUSTERS_LIST):\n",
    "    kclusterer = KMeansClusterer(\n",
    "        num_means=num_clusters,\n",
    "        distance=cosine_distance,\n",
    "        rng=RNG,\n",
    "    )\n",
    "\n",
    "    assigned_clusters = kclusterer.cluster(\n",
    "        event_comments[\"embedding\"],\n",
    "        assign_clusters=True,\n",
    "    )\n",
    "\n",
    "    means = np.array(kclusterer.means())\n",
    "\n",
    "    sum_dists = []\n",
    "    for i, c in enumerate(assigned_clusters):\n",
    "        sum_dists.append(cosine_distance(means[c], comment_embeddings[i]))\n",
    "\n",
    "    logging.info(f\"Number of clusters: {num_clusters}\")\n",
    "    logging.info(\n",
    "        f\"Average distance to cluster center: {np.mean(sum_dists)}\"\n",
    "    )  # the smaller, the better\n"
   ]
  }
 ],
 "metadata": {
  "kernelspec": {
   "display_name": "pol_env",
   "language": "python",
   "name": "python3"
  },
  "language_info": {
   "codemirror_mode": {
    "name": "ipython",
    "version": 3
   },
   "file_extension": ".py",
   "mimetype": "text/x-python",
   "name": "python",
   "nbconvert_exporter": "python",
   "pygments_lexer": "ipython3",
   "version": "3.8.16"
  },
  "orig_nbformat": 4
 },
 "nbformat": 4,
 "nbformat_minor": 2
}
