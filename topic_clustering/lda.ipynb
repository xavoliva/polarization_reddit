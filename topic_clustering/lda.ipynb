{
 "cells": [
  {
   "cell_type": "code",
   "execution_count": null,
   "metadata": {},
   "outputs": [],
   "source": [
    "%load_ext autoreload\n",
    "%autoreload 2\n",
    "\n",
    "%cd '..'"
   ]
  },
  {
   "cell_type": "code",
   "execution_count": null,
   "metadata": {},
   "outputs": [],
   "source": [
    "import json\n",
    "\n",
    "from load.utils import load_comments\n",
    "from load.constants import SEED, DATA_DIR\n",
    "\n",
    "from gensim.models.ldamodel import LdaModel\n",
    "from gensim.models import CoherenceModel\n",
    "from gensim.models.callbacks import CoherenceMetric\n",
    "import gensim.corpora as corpora"
   ]
  },
  {
   "cell_type": "code",
   "execution_count": null,
   "metadata": {},
   "outputs": [],
   "source": [
    "YEAR = 2016\n",
    "START_MONTH = 1\n",
    "STOP_MONTH = 1\n",
    "\n",
    "NUM_TOPICS = 7"
   ]
  },
  {
   "cell_type": "code",
   "execution_count": null,
   "metadata": {},
   "outputs": [],
   "source": [
    "comments = load_comments(\n",
    "    years=YEAR,\n",
    "    start_month=START_MONTH,\n",
    "    stop_month=STOP_MONTH,\n",
    ")[\"body_cleaned\"].values"
   ]
  },
  {
   "cell_type": "code",
   "execution_count": null,
   "metadata": {},
   "outputs": [],
   "source": [
    "comments_corpus = [comment.split() for comment in comments]\n",
    "\n",
    "id2word = corpora.Dictionary()\n",
    "\n",
    "id2word.save(f\"{DATA_DIR}/lda.dict\")\n"
   ]
  },
  {
   "cell_type": "code",
   "execution_count": null,
   "metadata": {},
   "outputs": [],
   "source": [
    "corpus = [id2word.doc2bow(comment) for comment in comments_corpus]"
   ]
  },
  {
   "cell_type": "code",
   "execution_count": null,
   "metadata": {},
   "outputs": [],
   "source": [
    "lda_model = LdaModel(\n",
    "    corpus=corpus,\n",
    "    num_topics=NUM_TOPICS,\n",
    "    id2word=id2word,\n",
    "    iterations=1000,\n",
    "    random_state=SEED,\n",
    "    callbacks=[CoherenceMetric],\n",
    ")\n",
    "\n",
    "lda_model.save(f\"{DATA_DIR}/lda_model_{NUM_TOPICS}.pickle\")\n"
   ]
  },
  {
   "cell_type": "code",
   "execution_count": null,
   "metadata": {},
   "outputs": [],
   "source": [
    "lda_model.show_topics(\n",
    "    num_topics=NUM_TOPICS,\n",
    "    formatted=True,\n",
    ")\n"
   ]
  },
  {
   "cell_type": "code",
   "execution_count": null,
   "metadata": {},
   "outputs": [],
   "source": [
    "keywords_mapper = {\n",
    "    i: \", \".join([word for word, _ in lda_model.show_topic(i)])\n",
    "    for i in range(lda_model.num_topics)\n",
    "}\n",
    "\n",
    "with open(f\"{DATA_DIR}/lda_model_{NUM_TOPICS}_words.json\", \"w\") as f:\n",
    "    f.write(json.dumps(keywords_mapper))\n"
   ]
  },
  {
   "cell_type": "code",
   "execution_count": null,
   "metadata": {},
   "outputs": [],
   "source": [
    "coherence_lda_model = CoherenceModel(\n",
    "    model=lda_model,\n",
    "    texts=comments_corpus,\n",
    "    dictionary=id2word,\n",
    "    coherence=\"c_v\",\n",
    ")\n",
    "coherence_lda = coherence_lda_model.get_coherence()\n",
    "\n",
    "print(\"Coherence Score: \", coherence_lda)\n"
   ]
  }
 ],
 "metadata": {
  "kernelspec": {
   "display_name": "pol_env",
   "language": "python",
   "name": "pol_env"
  },
  "language_info": {
   "codemirror_mode": {
    "name": "ipython",
    "version": 3
   },
   "file_extension": ".py",
   "mimetype": "text/x-python",
   "name": "python",
   "nbconvert_exporter": "python",
   "pygments_lexer": "ipython3",
   "version": "3.8.16 (default, Jan 17 2023, 23:13:24) \n[GCC 11.2.0]"
  },
  "orig_nbformat": 4,
  "vscode": {
   "interpreter": {
    "hash": "0517ac6396832503edeb22d4ae2d55ad6af9f111efda9985705546d6640f6543"
   }
  }
 },
 "nbformat": 4,
 "nbformat_minor": 2
}
