{
 "cells": [
  {
   "cell_type": "code",
   "execution_count": 1,
   "metadata": {},
   "outputs": [
    {
     "name": "stdout",
     "output_type": "stream",
     "text": [
      "/dss/dsshome1/03/di93fup/polarization_reddit\n"
     ]
    }
   ],
   "source": [
    "%load_ext autoreload\n",
    "%autoreload 2\n",
    "\n",
    "%cd '..'"
   ]
  },
  {
   "cell_type": "code",
   "execution_count": 2,
   "metadata": {},
   "outputs": [],
   "source": [
    "import json\n",
    "\n",
    "from load.utils import load_comments\n",
    "from load.constants import SEED, DATA_DIR\n",
    "\n",
    "from gensim.models.ldamodel import LdaModel\n",
    "from gensim.models import CoherenceModel\n",
    "from gensim.models.callbacks import CoherenceMetric\n",
    "import gensim.corpora as corpora"
   ]
  },
  {
   "cell_type": "code",
   "execution_count": 3,
   "metadata": {},
   "outputs": [],
   "source": [
    "YEAR = 2016\n",
    "START_MONTH = 1\n",
    "STOP_MONTH = 1\n",
    "\n",
    "NUM_TOPICS = 7"
   ]
  },
  {
   "cell_type": "code",
   "execution_count": 4,
   "metadata": {},
   "outputs": [
    {
     "name": "stderr",
     "output_type": "stream",
     "text": [
      "Months: 100%|██████████| 1/1 [01:18<00:00, 78.62s/it]\n"
     ]
    }
   ],
   "source": [
    "comments = load_comments(\n",
    "    years=YEAR,\n",
    "    start_month=START_MONTH,\n",
    "    stop_month=STOP_MONTH,\n",
    ")[\"body_cleaned\"].values"
   ]
  },
  {
   "cell_type": "code",
   "execution_count": 11,
   "metadata": {},
   "outputs": [],
   "source": [
    "comments_corpus = [comment.split() for comment in comments]\n",
    "\n",
    "id2word = corpora.Dictionary()\n",
    "\n",
    "id2word.save(f\"{DATA_DIR}/lda.dict\")\n"
   ]
  },
  {
   "cell_type": "code",
   "execution_count": 14,
   "metadata": {},
   "outputs": [],
   "source": [
    "corpus = [id2word.doc2bow(comment) for comment in comments_corpus]"
   ]
  },
  {
   "cell_type": "code",
   "execution_count": 18,
   "metadata": {},
   "outputs": [
    {
     "ename": "NameError",
     "evalue": "name 'CoherenceMetric' is not defined",
     "output_type": "error",
     "traceback": [
      "\u001b[0;31m---------------------------------------------------------------------------\u001b[0m",
      "\u001b[0;31mNameError\u001b[0m                                 Traceback (most recent call last)",
      "Cell \u001b[0;32mIn[18], line 7\u001b[0m\n\u001b[1;32m      1\u001b[0m lda_model \u001b[39m=\u001b[39m LdaModel(\n\u001b[1;32m      2\u001b[0m     corpus\u001b[39m=\u001b[39mcorpus,\n\u001b[1;32m      3\u001b[0m     num_topics\u001b[39m=\u001b[39mNUM_TOPICS,\n\u001b[1;32m      4\u001b[0m     id2word\u001b[39m=\u001b[39mid2word,\n\u001b[1;32m      5\u001b[0m     iterations\u001b[39m=\u001b[39m\u001b[39m1000\u001b[39m,\n\u001b[1;32m      6\u001b[0m     random_state\u001b[39m=\u001b[39mSEED,\n\u001b[0;32m----> 7\u001b[0m     callbacks\u001b[39m=\u001b[39m[CoherenceMetric],\n\u001b[1;32m      8\u001b[0m )\n\u001b[1;32m     10\u001b[0m lda_model\u001b[39m.\u001b[39msave(\u001b[39mf\u001b[39m\u001b[39m\"\u001b[39m\u001b[39m{\u001b[39;00mDATA_DIR\u001b[39m}\u001b[39;00m\u001b[39m/lda_model_\u001b[39m\u001b[39m{\u001b[39;00mNUM_TOPICS\u001b[39m}\u001b[39;00m\u001b[39m.pickle\u001b[39m\u001b[39m\"\u001b[39m)\n",
      "\u001b[0;31mNameError\u001b[0m: name 'CoherenceMetric' is not defined"
     ]
    }
   ],
   "source": [
    "lda_model = LdaModel(\n",
    "    corpus=corpus,\n",
    "    num_topics=NUM_TOPICS,\n",
    "    id2word=id2word,\n",
    "    iterations=1000,\n",
    "    random_state=SEED,\n",
    "    callbacks=[CoherenceMetric],\n",
    ")\n",
    "\n",
    "lda_model.save(f\"{DATA_DIR}/lda_model_{NUM_TOPICS}.pickle\")\n"
   ]
  },
  {
   "cell_type": "code",
   "execution_count": null,
   "metadata": {},
   "outputs": [],
   "source": [
    "lda_model.show_topics(\n",
    "    num_topics=NUM_TOPICS,\n",
    "    formatted=True,\n",
    ")\n"
   ]
  },
  {
   "cell_type": "code",
   "execution_count": null,
   "metadata": {},
   "outputs": [],
   "source": [
    "keywords_mapper = {\n",
    "    i: \", \".join([word for word, _ in lda_model.show_topic(i)])\n",
    "    for i in range(lda_model.num_topics)\n",
    "}\n",
    "\n",
    "with open(f\"{DATA_DIR}/lda_model_{NUM_TOPICS}_words.json\", \"w\") as f:\n",
    "    f.write(json.dumps(keywords_mapper))\n"
   ]
  },
  {
   "cell_type": "code",
   "execution_count": null,
   "metadata": {},
   "outputs": [],
   "source": [
    "coherence_lda_model = CoherenceModel(\n",
    "    model=lda_model,\n",
    "    texts=comments_corpus,\n",
    "    dictionary=id2word,\n",
    "    coherence=\"c_v\",\n",
    ")\n",
    "coherence_lda = coherence_lda_model.get_coherence()\n",
    "\n",
    "print(\"Coherence Score: \", coherence_lda)\n"
   ]
  }
 ],
 "metadata": {
  "kernelspec": {
   "display_name": "pol_env",
   "language": "python",
   "name": "pol_env"
  },
  "language_info": {
   "codemirror_mode": {
    "name": "ipython",
    "version": 3
   },
   "file_extension": ".py",
   "mimetype": "text/x-python",
   "name": "python",
   "nbconvert_exporter": "python",
   "pygments_lexer": "ipython3",
   "version": "3.8.16 (default, Jan 17 2023, 23:13:24) \n[GCC 11.2.0]"
  },
  "orig_nbformat": 4,
  "vscode": {
   "interpreter": {
    "hash": "0517ac6396832503edeb22d4ae2d55ad6af9f111efda9985705546d6640f6543"
   }
  }
 },
 "nbformat": 4,
 "nbformat_minor": 2
}
