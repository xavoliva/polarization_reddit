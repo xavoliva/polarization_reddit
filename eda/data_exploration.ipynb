{
 "cells": [
  {
   "cell_type": "code",
   "execution_count": null,
   "id": "a70bf561",
   "metadata": {},
   "outputs": [],
   "source": [
    "%load_ext autoreload\n",
    "%autoreload 2\n",
    "%cd '..'"
   ]
  },
  {
   "cell_type": "code",
   "execution_count": null,
   "id": "bb7b2b6b",
   "metadata": {},
   "outputs": [],
   "source": [
    "import seaborn as sns\n",
    "sns.set_theme()\n",
    "from matplotlib import pyplot as plt\n",
    "\n",
    "from preprocessing.utils import (\n",
    "    load_event_comments,\n",
    "    load_event_vocab,\n",
    ")\n",
    "\n",
    "from events.mass_shootings_constants import (\n",
    "    MASS_SHOOTINGS_EVENTS_INFO,\n",
    ")\n",
    "from eda.visualize import plot_event_comments_distribution"
   ]
  },
  {
   "cell_type": "code",
   "execution_count": null,
   "id": "bfe388a3",
   "metadata": {},
   "outputs": [],
   "source": [
    "THEME = \"gun_control\"\n",
    "EVENT_KEY = \"mass_shootings\""
   ]
  },
  {
   "cell_type": "code",
   "execution_count": null,
   "id": "e4dc4f0a",
   "metadata": {},
   "outputs": [],
   "source": [
    "event_comments = load_event_comments(theme=THEME, event_name=EVENT_KEY)\n",
    "\n",
    "event_comments = event_comments[event_comments[\"event_name\"] != \"charleston_church_shooting\"]"
   ]
  },
  {
   "cell_type": "code",
   "execution_count": null,
   "id": "f8760adc",
   "metadata": {},
   "outputs": [],
   "source": [
    "# count number of comments per event_name and party\n",
    "\n",
    "data = event_comments.groupby([\"event_name\", \"party\"], as_index=False).agg(number_comments=(\"id\", \"count\"))\n",
    "\n",
    "\n",
    "data[\"event_date\"] = data[\"event_name\"].apply(lambda x: MASS_SHOOTINGS_EVENTS_INFO[x][\"date\"])\n",
    "data[\"event_name\"] = data[\"event_name\"].apply(lambda x: MASS_SHOOTINGS_EVENTS_INFO[x][\"name\"])\n",
    "\n",
    "# order rows by MASS_SHOOTINGS_EVENTS_INFO[\"event_name\"][\"date\"] ascending\n",
    "\n",
    "data = data.sort_values(by=[\"event_date\", \"party\"])\n"
   ]
  },
  {
   "cell_type": "code",
   "execution_count": null,
   "id": "64d86df0",
   "metadata": {},
   "outputs": [],
   "source": [
    "plot_event_comments_distribution(data, THEME, EVENT_KEY)"
   ]
  }
 ],
 "metadata": {
  "kernelspec": {
   "display_name": "Python 3",
   "language": "python",
   "name": "python3"
  },
  "language_info": {
   "codemirror_mode": {
    "name": "ipython",
    "version": 3
   },
   "file_extension": ".py",
   "mimetype": "text/x-python",
   "name": "python",
   "nbconvert_exporter": "python",
   "pygments_lexer": "ipython3",
   "version": "3.8.16"
  },
  "vscode": {
   "interpreter": {
    "hash": "3ad933181bd8a04b432d3370b9dc3b0662ad032c4dfaa4e4f1596c548f763858"
   }
  }
 },
 "nbformat": 4,
 "nbformat_minor": 5
}
