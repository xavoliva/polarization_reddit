{
 "cells": [
  {
   "cell_type": "code",
   "execution_count": null,
   "id": "a70bf561",
   "metadata": {},
   "outputs": [],
   "source": [
    "%load_ext autoreload\n",
    "%autoreload 2\n",
    "%cd '..'"
   ]
  },
  {
   "cell_type": "code",
   "execution_count": null,
   "id": "bb7b2b6b",
   "metadata": {},
   "outputs": [],
   "source": [
    "import seaborn as sns\n",
    "sns.set_theme()\n",
    "from matplotlib import pyplot as plt\n",
    "import pandas as pd\n",
    "import matplotlib as mpl\n",
    "\n",
    "from preprocessing.utils import (\n",
    "    load_event_comments,\n",
    "    load_event_vocab,\n",
    ")\n",
    "\n",
    "from load.utils import (\n",
    "    load_df_from_parquet\n",
    ")\n",
    "\n",
    "from events.mass_shootings_constants import (\n",
    "    MASS_SHOOTINGS_EVENTS_INFO,\n",
    ")\n",
    "from eda.utils import plot_event_comments_distribution\n",
    "from eda.constants import PARTIES_COLORS"
   ]
  },
  {
   "cell_type": "code",
   "execution_count": null,
   "id": "f0361b64",
   "metadata": {},
   "outputs": [],
   "source": [
    "EVENTS = [\n",
    "    (\"gun_control\", \"mass_shootings_gun_control\"),\n",
    "    (\"gun_control\", \"mass_shootings\"),\n",
    "    (\"elections\", \"us_elections_2012\"),\n",
    "    (\"elections\", \"us_elections_2016\"),\n",
    "    (\"elections\", \"us_midterms_2014\"),\n",
    "    (\"elections\", \"us_midterms_2018\"),\n",
    "    (\"abortion\", \"abortion\"),\n",
    "]"
   ]
  },
  {
   "cell_type": "code",
   "execution_count": null,
   "id": "6eb9adcc",
   "metadata": {},
   "outputs": [],
   "source": [
    "for event_theme, event_name in EVENTS:\n",
    "    print(event_name)\n",
    "    event_comments = load_event_comments(theme=event_theme, event_name=event_name)\n",
    "    print(f\"Number of comments: {len(event_comments)}\")\n",
    "    print(f\"Number of unique users: {len(event_comments['author'].unique())}\")\n",
    "    print(f\"Number of dem users: {len(event_comments[event_comments['party'] == 'dem']['author'].unique())}\")\n",
    "    print(f\"Number of rep users: {len(event_comments[event_comments['party'] == 'rep']['author'].unique())}\")\n",
    "    print(f\"Number of unique subreddits: {len(event_comments['subreddit'].unique())}\")"
   ]
  },
  {
   "cell_type": "code",
   "execution_count": null,
   "id": "bfe388a3",
   "metadata": {},
   "outputs": [],
   "source": [
    "THEME = \"gun_control\"\n",
    "EVENT_KEY = \"mass_shootings\""
   ]
  },
  {
   "cell_type": "code",
   "execution_count": null,
   "id": "e4dc4f0a",
   "metadata": {},
   "outputs": [],
   "source": [
    "event_comments = load_event_comments(theme=THEME, event_name=EVENT_KEY)\n",
    "\n",
    "event_comments = event_comments[event_comments[\"event_name\"] != \"charleston_church_shooting\"]"
   ]
  },
  {
   "cell_type": "code",
   "execution_count": null,
   "id": "f8760adc",
   "metadata": {},
   "outputs": [],
   "source": [
    "# count number of comments per event_name and party\n",
    "\n",
    "data = event_comments.groupby([\"event_name\", \"party\"], as_index=False).agg(number_comments=(\"id\", \"count\"))\n",
    "\n",
    "\n",
    "data[\"event_date\"] = data[\"event_name\"].apply(lambda x: MASS_SHOOTINGS_EVENTS_INFO[x][\"date\"])\n",
    "data[\"event_name\"] = data[\"event_name\"].apply(lambda x: MASS_SHOOTINGS_EVENTS_INFO[x][\"name\"])\n",
    "\n",
    "# order rows by MASS_SHOOTINGS_EVENTS_INFO[\"event_name\"][\"date\"] ascending\n",
    "\n",
    "data = data.sort_values(by=[\"event_date\", \"party\"])\n"
   ]
  },
  {
   "cell_type": "code",
   "execution_count": null,
   "id": "64d86df0",
   "metadata": {},
   "outputs": [],
   "source": [
    "plot_event_comments_distribution(data, THEME, EVENT_KEY)"
   ]
  },
  {
   "cell_type": "code",
   "execution_count": null,
   "id": "2ee93058",
   "metadata": {},
   "outputs": [],
   "source": [
    "THEME = \"elections\"\n",
    "EVENT_KEY = \"us_elections_2016\"\n",
    "\n",
    "event_comments = load_event_comments(theme=THEME, event_name=EVENT_KEY)"
   ]
  },
  {
   "cell_type": "code",
   "execution_count": null,
   "id": "3bd56d91",
   "metadata": {},
   "outputs": [],
   "source": [
    "# plot barplot with monthly number of dem and rep users per month\n",
    "\n",
    "event_comments[\"date\"] = pd.to_datetime(event_comments[\"created_utc\"], unit=\"s\")\n",
    "\n",
    "event_comments[\"month\"] = event_comments[\"date\"].dt.month\n",
    "\n",
    "data = event_comments.groupby([pd.Grouper(\n",
    "    key=\"date\",\n",
    "    freq=\"M\"\n",
    "), \"party\"], as_index=False).agg(number_users=(\"author\", \"nunique\"))\n",
    "\n",
    "fig = plt.figure(figsize=(15, 6))\n",
    "\n",
    "# format as year and date\n",
    "data[\"month\"] = data[\"date\"].dt.strftime('%Y-%m')\n",
    "\n",
    "data[\"Party\"] = data[\"party\"].apply(lambda x: \"Democrat\" if x == \"dem\" else \"Republican\")\n",
    "\n",
    "ax = sns.barplot(x=\"month\", y=\"number_users\", hue=\"Party\", data=data, palette=PARTIES_COLORS)\n",
    "ax.get_yaxis().set_major_formatter(mpl.ticker.StrMethodFormatter('{x:,.0f}'))\n",
    "plt.xticks(rotation=45)\n",
    "ax.set_xlabel(\"Time\")\n",
    "ax.set_ylabel(f\"Number of users {EVENT_KEY}\")\n",
    "\n",
    "plt.show()"
   ]
  },
  {
   "cell_type": "markdown",
   "id": "eaceea1c",
   "metadata": {},
   "source": [
    "## Overall"
   ]
  },
  {
   "cell_type": "code",
   "execution_count": null,
   "id": "ebfc242d",
   "metadata": {},
   "outputs": [],
   "source": [
    "for year in range(2012, 2020):\n",
    "    partisan_comments = load_df_from_parquet(\n",
    "        file_name=f\"user_partisan_comments_{year}.parquet\",\n",
    "    )\n",
    "\n",
    "    print(f\"Year: {year}\")\n",
    "    print(f\"Number of comments: {len(partisan_comments)}\")\n",
    "    print(f\"Number of unique users: {len(partisan_comments['author'].unique())}\")\n",
    "    print(f\"Number of dem users: {len(partisan_comments[partisan_comments['party'] == 'dem']['author'].unique())}\")\n",
    "    print(f\"Number of rep users: {len(partisan_comments[partisan_comments['party'] == 'rep']['author'].unique())}\")\n",
    "    print(f\"Number of unique subreddits: {len(partisan_comments['subreddit'].unique())}\")"
   ]
  }
 ],
 "metadata": {
  "kernelspec": {
   "display_name": "Python 3",
   "language": "python",
   "name": "python3"
  },
  "language_info": {
   "codemirror_mode": {
    "name": "ipython",
    "version": 3
   },
   "file_extension": ".py",
   "mimetype": "text/x-python",
   "name": "python",
   "nbconvert_exporter": "python",
   "pygments_lexer": "ipython3",
   "version": "3.8.16"
  },
  "vscode": {
   "interpreter": {
    "hash": "3ad933181bd8a04b432d3370b9dc3b0662ad032c4dfaa4e4f1596c548f763858"
   }
  }
 },
 "nbformat": 4,
 "nbformat_minor": 5
}
