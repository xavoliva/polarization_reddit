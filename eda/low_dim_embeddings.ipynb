{
 "cells": [
  {
   "cell_type": "code",
   "execution_count": null,
   "metadata": {},
   "outputs": [],
   "source": [
    "%load_ext autoreload\n",
    "%autoreload 2\n",
    "\n",
    "%cd '..'"
   ]
  },
  {
   "cell_type": "code",
   "execution_count": null,
   "metadata": {},
   "outputs": [],
   "source": [
    "from sklearn.decomposition import PCA\n",
    "from sklearn.manifold import TSNE\n",
    "import numpy as np\n",
    "from matplotlib import pyplot as plt\n",
    "import seaborn as sns\n",
    "sns.set_theme()\n",
    "\n",
    "from load.utils import load_df_from_parquet\n",
    "from preprocessing.utils import (\n",
    "    load_event_comments,\n",
    ")\n",
    "from eda.constants import PARTIES_COLORS"
   ]
  },
  {
   "cell_type": "code",
   "execution_count": null,
   "metadata": {},
   "outputs": [],
   "source": [
    "embeddings = load_event_comments(\n",
    "    theme=\"elections\",\n",
    "    event_name=\"us_elections_2016_with_embeddings\",\n",
    ")"
   ]
  },
  {
   "cell_type": "code",
   "execution_count": null,
   "metadata": {},
   "outputs": [],
   "source": [
    "user_embeddings = load_df_from_parquet(\n",
    "    file_name=\"us_elections_2016_user_embeddings.parquet\",\n",
    "    date=None,\n",
    ")"
   ]
  },
  {
   "cell_type": "code",
   "execution_count": null,
   "metadata": {},
   "outputs": [],
   "source": [
    "user_embeddings.groupby(by=\"party\").agg(\"count\")\n"
   ]
  },
  {
   "cell_type": "code",
   "execution_count": null,
   "metadata": {},
   "outputs": [],
   "source": [
    "user_embeddings_np = np.stack(user_embeddings[\"mean\"])"
   ]
  },
  {
   "cell_type": "code",
   "execution_count": null,
   "metadata": {},
   "outputs": [],
   "source": [
    "# Generate PCA\n",
    "\n",
    "pca = PCA(\n",
    "    random_state=0,\n",
    "    n_components=3,\n",
    ")\n",
    "# random sample\n",
    "\n",
    "low_dim_embeddings = pca.fit_transform(user_embeddings_np)\n"
   ]
  },
  {
   "cell_type": "code",
   "execution_count": null,
   "metadata": {},
   "outputs": [],
   "source": [
    "fig = plt.figure()\n",
    "ax = fig.add_subplot(projection=\"3d\")\n",
    "\n",
    "ax.scatter(\n",
    "    low_dim_embeddings[:, 0],\n",
    "    low_dim_embeddings[:, 1],\n",
    "    low_dim_embeddings[:, 2],\n",
    "    c=user_embeddings[\"party\"].map(PARTIES_COLORS),\n",
    "    alpha=0.3,\n",
    ")\n",
    "\n",
    "# sns.scatterplot(\n",
    "#     x=low_dim_embeddings[:, 0],\n",
    "#     y=low_dim_embeddings[:, 1],\n",
    "#     hue=user_embeddings[\"party\"],\n",
    "#     palette=[\"blue\", \"red\"],\n",
    "#     alpha=0.5,\n",
    "# )\n",
    "\n",
    "plt.savefig(\"data/figures/pca_user_embeddings.pdf\", bbox_inches=\"tight\")\n",
    "\n",
    "plt.show()\n"
   ]
  },
  {
   "cell_type": "code",
   "execution_count": null,
   "metadata": {},
   "outputs": [],
   "source": [
    "# Generate t-SNE\n",
    "\n",
    "tsne = TSNE(\n",
    "    random_state=0,\n",
    "    n_components=3,\n",
    "    metric=\"cosine\",\n",
    "    verbose=1,\n",
    ")\n",
    "\n",
    "low_dim_embeddings_tsne = tsne.fit_transform(user_embeddings_np)\n"
   ]
  },
  {
   "cell_type": "code",
   "execution_count": null,
   "metadata": {},
   "outputs": [],
   "source": [
    "fig = plt.figure()\n",
    "ax = fig.add_subplot(projection=\"3d\")\n",
    "\n",
    "ax.scatter(\n",
    "    low_dim_embeddings_tsne[:, 0],\n",
    "    low_dim_embeddings_tsne[:, 1],\n",
    "    low_dim_embeddings_tsne[:, 2],\n",
    "    c=user_embeddings[\"party\"].map(PARTIES_COLORS),\n",
    "    alpha=0.3,\n",
    ")\n",
    "# sns.scatterplot(\n",
    "#     x=low_dim_embeddings[:, 0],\n",
    "#     y=low_dim_embeddings[:, 1],\n",
    "#     # hue=user_embeddings[\"party\"],\n",
    "# )\n",
    "\n",
    "# save figure\n",
    "\n",
    "plt.savefig(\"data/figures/tsne_user_embeddings.pdf\", bbox_inches=\"tight\")\n",
    "\n",
    "plt.show()\n"
   ]
  }
 ],
 "metadata": {
  "kernelspec": {
   "display_name": "pol_env",
   "language": "python",
   "name": "python3"
  },
  "language_info": {
   "codemirror_mode": {
    "name": "ipython",
    "version": 3
   },
   "file_extension": ".py",
   "mimetype": "text/x-python",
   "name": "python",
   "nbconvert_exporter": "python",
   "pygments_lexer": "ipython3",
   "version": "3.8.16"
  },
  "orig_nbformat": 4
 },
 "nbformat": 4,
 "nbformat_minor": 2
}
