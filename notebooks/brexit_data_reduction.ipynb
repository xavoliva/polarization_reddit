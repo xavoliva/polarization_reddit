{
 "cells": [
  {
   "cell_type": "code",
   "execution_count": 1,
   "metadata": {},
   "outputs": [],
   "source": [
    "%load_ext autoreload\n",
    "%autoreload 2"
   ]
  },
  {
   "cell_type": "code",
   "execution_count": 2,
   "metadata": {},
   "outputs": [],
   "source": [
    "import json\n",
    "\n",
    "import matplotlib.pyplot as plt\n",
    "import seaborn as sns\n",
    "sns.set_theme()\n",
    "\n",
    "from utils import load_data\n",
    "from constants import DATA_DIR, EVENTS_DIR"
   ]
  },
  {
   "cell_type": "code",
   "execution_count": 3,
   "metadata": {},
   "outputs": [],
   "source": [
    "dev = False"
   ]
  },
  {
   "cell_type": "markdown",
   "metadata": {},
   "source": [
    "### Brexit data filtering"
   ]
  },
  {
   "cell_type": "code",
   "execution_count": 4,
   "metadata": {},
   "outputs": [
    {
     "name": "stdout",
     "output_type": "stream",
     "text": [
      "Load user affiliation dict\n"
     ]
    }
   ],
   "source": [
    "print(\"Load user affiliation dict\")\n",
    "f = open(f\"{DATA_DIR}/user_affiliation.json\")\n",
    "user_affiliation = json.load(f)"
   ]
  },
  {
   "cell_type": "code",
   "execution_count": 5,
   "metadata": {},
   "outputs": [
    {
     "name": "stdout",
     "output_type": "stream",
     "text": [
      "Loading data of 2016...\n"
     ]
    }
   ],
   "source": [
    "reddit = load_data(DATA_DIR, year=2016, months=[4, 5, 6, 7, 8], tokenize=False,\n",
    "                   comp=\"parquet\", dev=False)\n",
    "\n",
    "reddit = reddit[[\"author\", \"body\", \"created_utc\", \"subreddit\"]]\n",
    "\n",
    "# lower not needed because posts in lower case\n",
    "reddit = reddit[reddit.body.str.contains(\"brexit\")]\n",
    "reddit[\"affiliation\"] = reddit.author.apply(lambda a: user_affiliation.get(a, None), meta=('affiliation', 'string'))\n",
    "reddit = reddit[reddit.affiliation.notnull()]\n",
    "\n",
    "reddit_df = reddit.compute()"
   ]
  },
  {
   "cell_type": "code",
   "execution_count": 6,
   "metadata": {},
   "outputs": [],
   "source": [
    "reddit_df.to_csv(f'{EVENTS_DIR}/brexit.csv')"
   ]
  },
  {
   "cell_type": "code",
   "execution_count": 7,
   "metadata": {},
   "outputs": [
    {
     "data": {
      "image/png": "[encoded data removed]",
      "text/plain": [
       "<Figure size 432x288 with 1 Axes>"
      ]
     },
     "metadata": {},
     "output_type": "display_data"
    }
   ],
   "source": [
    "reddit_df['affiliation'].hist()\n",
    "plt.show()"
   ]
  }
 ],
 "metadata": {
  "kernelspec": {
   "display_name": "Python 3 (ipykernel)",
   "language": "python",
   "name": "python3"
  },
  "language_info": {
   "codemirror_mode": {
    "name": "ipython",
    "version": 3
   },
   "file_extension": ".py",
   "mimetype": "text/x-python",
   "name": "python",
   "nbconvert_exporter": "python",
   "pygments_lexer": "ipython3",
   "version": "3.9.7"
  }
 },
 "nbformat": 4,
 "nbformat_minor": 2
}
