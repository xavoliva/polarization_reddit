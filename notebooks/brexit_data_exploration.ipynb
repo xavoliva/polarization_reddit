{
 "cells": [
  {
   "cell_type": "markdown",
   "id": "dcdadf82",
   "metadata": {},
   "source": [
    "Exploratory Data Analysis necessary insights: \n",
    "- Number of Users. \n",
    "- Hist Left/Right score\n",
    "- Number of posts\n",
    "- Users No of Posts Histogram\n",
    "- When posted Histogram\n",
    "- Post length\n",
    "- Post length by party affiliation \n",
    "\n"
   ]
  },
  {
   "cell_type": "code",
   "execution_count": null,
   "id": "38e5026d",
   "metadata": {},
   "outputs": [],
   "source": [
    "import pandas as pd\n",
    "import numpy as np\n",
    "import matplotlib.pyplot as plt\n",
    "from scipy import stats\n",
    "\n",
    "from utils import tokenize_post\n",
    "from constants import EVENTS_DIR, DATA_DIR"
   ]
  },
  {
   "cell_type": "code",
   "execution_count": null,
   "id": "6962137c",
   "metadata": {},
   "outputs": [],
   "source": [
    "dev = True"
   ]
  },
  {
   "cell_type": "code",
   "execution_count": null,
   "id": "404cb53e",
   "metadata": {},
   "outputs": [],
   "source": [
    "if dev:\n",
    "    data = pd.read_csv('reduced_data2014_15_full.csv', nrows=1000)\n",
    "    users_affiliation_df = pd.read_csv(\n",
    "        f'{EVENTS_DIR}/brexit_user_affiliation.csv', nrows=1000)\n",
    "    users_n_posts_df = pd.read_csv(f'{DATA_DIR}/users_n_posts.csv', nrows=1000)\n",
    "else:\n",
    "    data = pd.read_csv(f'{EVENTS_DIR}/brexit.csv')\n",
    "    users_affiliation_df = pd.read_csv(\n",
    "        f'{EVENTS_DIR}/brexit_user_affiliation.csv')\n",
    "    users_n_posts_df = pd.read_csv(f'{DATA_DIR}/users_n_posts.csv')"
   ]
  },
  {
   "cell_type": "code",
   "execution_count": null,
   "id": "1e85cea2",
   "metadata": {},
   "outputs": [],
   "source": [
    "# Number of users\n",
    "print(f'unique users: {len(np.unique(data['author']))}')\n",
    "print(f'Number of posts: {len(data)}')"
   ]
  },
  {
   "cell_type": "code",
   "execution_count": null,
   "id": "a9edf412",
   "metadata": {},
   "outputs": [],
   "source": [
    "# Left-right score Histogram \n",
    "plt.hist(users_affiliation_df['score'], bins=np.linspace(-500,500, 100))\n",
    "plt.title('Democrat and Republican subreddits post number difference')\n",
    "plt.xlabel('Difference')\n",
    "plt.ylabel('Count')\n",
    "plt.savefig('data/figures\\histogram_affiliation_score.pdf', dpi=300)\n",
    "plt.show()"
   ]
  },
  {
   "cell_type": "code",
   "execution_count": null,
   "id": "7c4c8402",
   "metadata": {},
   "outputs": [],
   "source": [
    "# Number of Posts by User histogram\n",
    "plt.hist(users_n_posts_df['n_posts'], bins=np.linspace(-500, 500, 100))\n",
    "plt.xlabel('Number of posts per user')\n",
    "plt.xlabel('N Users')\n",
    "plt.savefig('data\\figures\\histogram_user_post_number.pdf', dpi=300)\n",
    "plt.show()"
   ]
  },
  {
   "cell_type": "code",
   "execution_count": null,
   "id": "f41eb129",
   "metadata": {},
   "outputs": [],
   "source": [
    "# When posted\n",
    "plt.hist(data['time'])\n",
    "plt.ylabel('N Posts')\n",
    "plt.xlabel('Date')\n",
    "plt.savefig('data\\figures\\histogram_when_posted.pdf', dpi=300)\n",
    "plt.show()"
   ]
  },
  {
   "cell_type": "code",
   "execution_count": null,
   "id": "661094bf",
   "metadata": {},
   "outputs": [],
   "source": [
    "#Post lengths\n",
    "data['length'] = [len(tokenize_post(post)) for post in data['body']]\n",
    "\n",
    "plt.hist(data['length'], bins =np.linspace(0,1000, 100))\n",
    "plt.ylabel('N Posts')\n",
    "plt.xlabel('N Words')\n",
    "plt.title('All Posts')\n",
    "plt.savefig('data\\figures\\histogram_n_words.pdf', dpi = 300)\n",
    "plt.show()\n",
    "\n",
    "plt.hist(data[data['affiliation'] == 'R']['length'], bins =np.linspace(0,1000, 100))\n",
    "plt.ylabel('N Posts')\n",
    "plt.xlabel('N Words')\n",
    "plt.title('Republican Posts')\n",
    "plt.savefig('data\\figures\\histogram_rep_n_words.pdf', dpi = 300)\n",
    "plt.show()\n",
    "\n",
    "plt.hist(data[data['affiliation'] == 'D']['length'], bins =np.linspace(0,1000, 100))\n",
    "plt.ylabel('N Posts')\n",
    "plt.xlabel('N Words')\n",
    "plt.title('All Posts')\n",
    "plt.savefig('data\\figures\\histogram_dem_n_words.pdf', dpi = 300)\n",
    "plt.show()\n",
    "\n",
    "\n",
    "t_value,p_value=stats.ttest_ind(data[data['affiliation'] == 'D'].length.values,\n",
    "                                data[data['affiliation'] == 'R'].length.values)\n",
    "\n",
    "print('With p = {} the post length between republicans and democrats differ.'.format(p_value))"
   ]
  }
 ],
 "metadata": {
  "kernelspec": {
   "display_name": "Python 3 (ipykernel)",
   "language": "python",
   "name": "python3"
  },
  "language_info": {
   "codemirror_mode": {
    "name": "ipython",
    "version": 3
   },
   "file_extension": ".py",
   "mimetype": "text/x-python",
   "name": "python",
   "nbconvert_exporter": "python",
   "pygments_lexer": "ipython3",
   "version": "3.9.7"
  }
 },
 "nbformat": 4,
 "nbformat_minor": 5
}
