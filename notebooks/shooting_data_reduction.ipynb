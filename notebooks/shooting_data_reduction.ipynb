{
 "cells": [
  {
   "cell_type": "code",
   "execution_count": null,
   "metadata": {},
   "outputs": [],
   "source": [
    "import json\n",
    "from datetime import datetime\n",
    "\n",
    "from constants import INPUT_DIR, DATA_DIR, EVENTS_DIR\n",
    "from utils import load_data"
   ]
  },
  {
   "cell_type": "code",
   "execution_count": null,
   "metadata": {},
   "outputs": [],
   "source": [
    "print(\"Load event info\")\n",
    "event_keywords = json.load(open(f\"{INPUT_DIR}/event_keyword_dict.json\"))\n",
    "event_times = json.load(open(f\"{INPUT_DIR}/event_times.json\"))\n",
    "\n",
    "print(\"Load user affiliation dict\")\n",
    "user_affiliation = json.load(open(f\"{DATA_DIR}/user_affiliation.json\"))\n",
    "\n",
    "MASS_SHOOTING_LEMMAS = \"shoot|gun|kill|attack|massacre|victim\""
   ]
  },
  {
   "cell_type": "code",
   "execution_count": null,
   "metadata": {},
   "outputs": [],
   "source": [
    "for event, keywords in event_keywords.items():\n",
    "    print(event, keywords)\n",
    "    event_date = datetime.fromtimestamp(event_times[event])\n",
    "    event_year = event_date.year\n",
    "    event_month = event_date.month\n",
    "    event_day = event_date.day\n",
    "\n",
    "    # TODO: check if last days of month or year\n",
    "    reddit = load_data(DATA_DIR, year=event_year, months=[event_month], tokenize=False,\n",
    "                       comp=\"parquet\", dev=False)\n",
    "\n",
    "    reddit = reddit[reddit.body.str.contains(keywords) & reddit.body.stry.contains(MASS_SHOOTING_LEMMAS)]\n",
    "    reddit[\"affiliation\"] = reddit.author.apply(lambda a: user_affiliation.get(a, None), meta=('affiliation', 'string'))\n",
    "    reddit = reddit[reddit.affiliation.notnull()]\n",
    "\n",
    "    reddit_df = reddit.compute()\n",
    "\n",
    "    reddit_df.to_csv(f'{EVENTS_DIR}/{event}.csv')"
   ]
  }
 ],
 "metadata": {
  "interpreter": {
   "hash": "535e1fc6f4c576ada9dae38e4d216f8b8b7ae7ee85d600fb700662afc8c674bb"
  },
  "kernelspec": {
   "display_name": "Python 3.9.7 64-bit ('reddit_venv': venv)",
   "language": "python",
   "name": "python3"
  },
  "language_info": {
   "codemirror_mode": {
    "name": "ipython",
    "version": 3
   },
   "file_extension": ".py",
   "mimetype": "text/x-python",
   "name": "python",
   "nbconvert_exporter": "python",
   "pygments_lexer": "ipython3",
   "version": "3.9.7"
  },
  "orig_nbformat": 4
 },
 "nbformat": 4,
 "nbformat_minor": 2
}
