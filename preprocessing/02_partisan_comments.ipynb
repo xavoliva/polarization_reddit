{
 "cells": [
  {
   "cell_type": "code",
   "execution_count": null,
   "metadata": {},
   "outputs": [],
   "source": [
    "%load_ext autoreload\n",
    "%autoreload 2\n",
    "\n",
    "%cd '..'"
   ]
  },
  {
   "cell_type": "code",
   "execution_count": null,
   "metadata": {},
   "outputs": [],
   "source": [
    "import json\n",
    "\n",
    "import numpy as np\n",
    "\n",
    "from load.utils import (\n",
    "    load_users,\n",
    "    load_comments,\n",
    "    save_df_as_parquet,\n",
    ")\n",
    "from preprocessing.constants import METADATA_DIR"
   ]
  },
  {
   "cell_type": "code",
   "execution_count": null,
   "metadata": {},
   "outputs": [],
   "source": [
    "import logging\n",
    "import sys\n",
    "\n",
    "logging.basicConfig(\n",
    "    level=logging.INFO,\n",
    "    format=\"%(asctime)s [%(levelname)s] %(message)s\",\n",
    "    handlers=[\n",
    "        logging.FileHandler(\"data/logs/partisan_comments.log\"),\n",
    "        logging.StreamHandler(stream=sys.stdout)\n",
    "    ]\n",
    ")"
   ]
  },
  {
   "cell_type": "code",
   "execution_count": null,
   "metadata": {},
   "outputs": [],
   "source": [
    "from tqdm import tqdm\n",
    "\n",
    "tqdm.pandas()\n"
   ]
  },
  {
   "cell_type": "code",
   "execution_count": null,
   "metadata": {},
   "outputs": [],
   "source": [
    "YEARS = [2015, 2016, 2017, 2018]\n",
    "START_MONTH = 1\n",
    "STOP_MONTH = 12\n",
    "\n",
    "logging.info(YEARS)"
   ]
  },
  {
   "cell_type": "code",
   "execution_count": null,
   "metadata": {},
   "outputs": [],
   "source": [
    "def flatten(l):\n",
    "    return [item for sublist in l for item in sublist]"
   ]
  },
  {
   "cell_type": "code",
   "execution_count": null,
   "metadata": {},
   "outputs": [],
   "source": [
    "dem_subreddits = set(\n",
    "    flatten(\n",
    "        [\n",
    "            json.load(\n",
    "                open(\n",
    "                    f\"{METADATA_DIR}/dem_subreddits_{year}_unweighted.json\",\n",
    "                )\n",
    "            )\n",
    "            for year in YEARS\n",
    "        ]\n",
    "    )\n",
    ")\n",
    "rep_subreddits = set(\n",
    "    flatten(\n",
    "        [\n",
    "            json.load(\n",
    "                open(\n",
    "                    f\"{METADATA_DIR}/rep_subreddits_{year}_unweighted.json\",\n",
    "                )\n",
    "            )\n",
    "            for year in YEARS\n",
    "        ]\n",
    "    )\n",
    ")\n",
    "\n",
    "partisan_subreddits = dem_subreddits | rep_subreddits\n"
   ]
  },
  {
   "cell_type": "code",
   "execution_count": null,
   "metadata": {},
   "outputs": [],
   "source": [
    "users = load_users(engine=\"polars\")\n",
    "\n",
    "logging.info(users.dtypes)"
   ]
  },
  {
   "cell_type": "code",
   "execution_count": null,
   "metadata": {},
   "outputs": [],
   "source": [
    "for year in YEARS:\n",
    "    comments_year = load_comments(\n",
    "        years=year,\n",
    "        start_month=START_MONTH,\n",
    "        stop_month=STOP_MONTH,\n",
    "        engine=\"pandas\",\n",
    "    )\n",
    "\n",
    "    partisan_comments_year = comments_year.query(\"subreddit in @partisan_subreddits\")\n",
    "    logging.info(\"Add party information to comments...\")\n",
    "\n",
    "    partisan_comments_year[\"party\"] = np.where(\n",
    "        partisan_comments_year[\"subreddit\"].isin(dem_subreddits), \"dem\", \"rep\"\n",
    "    )\n",
    "    partisan_comments_year[\"party\"] = partisan_comments_year[\"party\"].astype(\"string\")\n",
    "\n",
    "    logging.info(\"Filter out bots & automoderators comments...\")\n",
    "\n",
    "    partisan_comments_year = partisan_comments_year.merge(\n",
    "        users,\n",
    "        on=\"author\",\n",
    "        how=\"inner\",\n",
    "    )\n",
    "\n",
    "    save_df_as_parquet(\n",
    "        partisan_comments_year,\n",
    "        target_file=f\"partisan_comments_{year}.parquet\",\n",
    "    )\n"
   ]
  }
 ],
 "metadata": {
  "kernelspec": {
   "display_name": "pol_env",
   "language": "python",
   "name": "python3"
  },
  "language_info": {
   "codemirror_mode": {
    "name": "ipython",
    "version": 3
   },
   "file_extension": ".py",
   "mimetype": "text/x-python",
   "name": "python",
   "nbconvert_exporter": "python",
   "pygments_lexer": "ipython3",
   "version": "3.8.16"
  },
  "orig_nbformat": 4
 },
 "nbformat": 4,
 "nbformat_minor": 2
}
