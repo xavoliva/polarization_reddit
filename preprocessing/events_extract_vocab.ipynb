{
 "cells": [
  {
   "cell_type": "code",
   "execution_count": 1,
   "id": "3c958d02",
   "metadata": {},
   "outputs": [],
   "source": [
    "%load_ext autoreload\n",
    "%autoreload 2\n",
    "%cd '/workspaces/polarization_reddit'"
   ]
  },
  {
   "cell_type": "code",
   "execution_count": 2,
   "id": "6b7d9956",
   "metadata": {},
   "outputs": [],
   "source": [
    "from preprocessing.constants import EVENTS_DIR, EVENTS\n",
    "from preprocessing.utils import build_event_vocab"
   ]
  },
  {
   "cell_type": "code",
   "execution_count": 3,
   "id": "fd78e710",
   "metadata": {},
   "outputs": [
    {
     "name": "stdout",
     "output_type": "stream",
     "text": [
      "brexit\n",
      "Vocab length: 1993\n",
      "us_election\n",
      "Vocab length: 140047\n"
     ]
    }
   ],
   "source": [
    "for event in EVENTS:\n",
    "    print(event)\n",
    "    vocab = build_event_vocab(event)\n",
    "\n",
    "    with open(f'{EVENTS_DIR}/{event}_tokens.txt', 'w') as file:\n",
    "        file.write(\"\\n\".join(vocab))"
   ]
  }
 ],
 "metadata": {
  "kernelspec": {
   "display_name": "Python 3 (ipykernel)",
   "language": "python",
   "name": "python3"
  },
  "language_info": {
   "codemirror_mode": {
    "name": "ipython",
    "version": 3
   },
   "file_extension": ".py",
   "mimetype": "text/x-python",
   "name": "python",
   "nbconvert_exporter": "python",
   "pygments_lexer": "ipython3",
   "version": "3.9.7"
  }
 },
 "nbformat": 4,
 "nbformat_minor": 5
}
