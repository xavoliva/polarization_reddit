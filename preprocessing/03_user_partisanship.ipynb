{
 "cells": [
  {
   "cell_type": "code",
   "execution_count": null,
   "metadata": {},
   "outputs": [],
   "source": [
    "%load_ext autoreload\n",
    "%autoreload 2\n",
    "\n",
    "%cd '..'"
   ]
  },
  {
   "cell_type": "code",
   "execution_count": null,
   "metadata": {},
   "outputs": [],
   "source": [
    "import logging\n",
    "import sys\n",
    "\n",
    "logging.basicConfig(\n",
    "    level=logging.INFO,\n",
    "    format=\"%(asctime)s [%(levelname)s] %(message)s\",\n",
    "    handlers=[\n",
    "        logging.FileHandler(\"data/logs/user_partisanship.log\"),\n",
    "        logging.StreamHandler(stream=sys.stdout)\n",
    "    ]\n",
    ")"
   ]
  },
  {
   "cell_type": "code",
   "execution_count": null,
   "metadata": {},
   "outputs": [],
   "source": [
    "# import polars as pl\n",
    "import pandas as pd\n",
    "from tqdm import tqdm\n",
    "\n",
    "tqdm.pandas()\n",
    "\n",
    "from load.utils import (\n",
    "    load_df_from_parquet,\n",
    "    save_df_as_parquet,\n",
    ")\n",
    "from preprocessing.utils import (\n",
    "    calculate_user_party,\n",
    ")"
   ]
  },
  {
   "cell_type": "code",
   "execution_count": null,
   "metadata": {},
   "outputs": [],
   "source": [
    "YEARS = [2016]\n",
    "\n",
    "logging.info(YEARS)"
   ]
  },
  {
   "attachments": {},
   "cell_type": "markdown",
   "metadata": {},
   "source": [
    "### User Affiliation"
   ]
  },
  {
   "cell_type": "code",
   "execution_count": null,
   "metadata": {},
   "outputs": [],
   "source": [
    "for year in YEARS:\n",
    "    logging.info(f\"Loading partisan comments {year}\")\n",
    "    partisan_comments_year = load_df_from_parquet(\n",
    "        file_name=f\"partisan_comments_{year}.parquet\"\n",
    "    )\n",
    "\n",
    "    logging.info(f\"Calculating user partisanship {year}\")\n",
    "    user_party_year: pd.DataFrame = partisan_comments_year.groupby(\n",
    "        by=\"author\"\n",
    "    ).progress_apply(\n",
    "        calculate_user_party,\n",
    "    )  # type: ignore\n",
    "\n",
    "    user_party_year[\"party\"] = user_party_year[\"party\"].astype(\"string\")\n",
    "    user_party_year = user_party_year.reset_index().copy()\n",
    "\n",
    "    del partisan_comments_year\n",
    "\n",
    "    logging.info(f\"Saving user partisanship {year}\")\n",
    "    save_df_as_parquet(\n",
    "        data=user_party_year,\n",
    "        target_file=f\"user_party_{year}.parquet\",\n",
    "    )\n",
    "\n",
    "    logging.info(user_party_year.shape)\n",
    "    logging.info(user_party_year.groupby(by=\"party\")[\"author\"].count())\n"
   ]
  }
 ],
 "metadata": {
  "kernelspec": {
   "display_name": "pol_env",
   "language": "python",
   "name": "python3"
  },
  "language_info": {
   "codemirror_mode": {
    "name": "ipython",
    "version": 3
   },
   "file_extension": ".py",
   "mimetype": "text/x-python",
   "name": "python",
   "nbconvert_exporter": "python",
   "pygments_lexer": "ipython3",
   "version": "3.8.16"
  },
  "orig_nbformat": 4
 },
 "nbformat": 4,
 "nbformat_minor": 2
}
