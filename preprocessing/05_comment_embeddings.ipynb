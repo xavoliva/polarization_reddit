{
 "cells": [
  {
   "cell_type": "code",
   "execution_count": 1,
   "metadata": {},
   "outputs": [
    {
     "name": "stdout",
     "output_type": "stream",
     "text": [
      "/dss/dsshome1/03/di93fup/polarization_reddit\n"
     ]
    }
   ],
   "source": [
    "%load_ext autoreload\n",
    "%autoreload 2\n",
    "\n",
    "%cd '..'"
   ]
  },
  {
   "cell_type": "code",
   "execution_count": 83,
   "metadata": {},
   "outputs": [],
   "source": [
    "import numpy as np\n",
    "import pandas as pd\n",
    "\n",
    "from sentence_transformers import SentenceTransformer\n",
    "\n",
    "from preprocessing.utils import (\n",
    "    load_event_comments,\n",
    "    save_event_comments,\n",
    ")\n",
    "\n",
    "from load.utils import load_comments, save_df_as_parquet\n"
   ]
  },
  {
   "cell_type": "code",
   "execution_count": 3,
   "metadata": {},
   "outputs": [],
   "source": [
    "model = SentenceTransformer(\"all-MiniLM-L6-v2\")\n"
   ]
  },
  {
   "cell_type": "code",
   "execution_count": 9,
   "metadata": {},
   "outputs": [],
   "source": [
    "EVENT_KEY = \"mass_shootings\"\n",
    "\n",
    "event_comments = load_event_comments(EVENT_KEY)\n"
   ]
  },
  {
   "cell_type": "code",
   "execution_count": 21,
   "metadata": {},
   "outputs": [
    {
     "name": "stderr",
     "output_type": "stream",
     "text": [
      "Batches: 100%|██████████| 4/4 [00:08<00:00,  2.13s/it]\n"
     ]
    }
   ],
   "source": [
    "embeddings = model.encode(\n",
    "    event_comments[\"body_cleaned\"].tolist(),\n",
    "    show_progress_bar=True,\n",
    "    normalize_embeddings=True,\n",
    "    convert_to_numpy=False,\n",
    ")\n"
   ]
  },
  {
   "cell_type": "code",
   "execution_count": 26,
   "metadata": {},
   "outputs": [],
   "source": [
    "event_comments[\"embedding\"] = embeddings\n",
    "\n",
    "event_comments[\"embedding\"] = event_comments[\"embedding\"].apply(np.array)\n"
   ]
  },
  {
   "cell_type": "code",
   "execution_count": null,
   "metadata": {},
   "outputs": [
    {
     "data": {
      "text/plain": [
       "(50, 384)"
      ]
     },
     "metadata": {},
     "output_type": "display_data"
    }
   ],
   "source": [
    "save_event_comments(event_comments, f\"{EVENT_KEY}_with_embeddings\")\n"
   ]
  },
  {
   "cell_type": "code",
   "execution_count": 91,
   "metadata": {},
   "outputs": [],
   "source": [
    "# group by user and aggregate using np mean (axis=0)\n",
    "user_embeddings = event_comments.groupby(by=\"author\")[\"embedding\"].apply(\n",
    "    lambda x: pd.Series(\n",
    "        {\n",
    "            \"mean\": np.mean(x, axis=0),\n",
    "            \"max\": np.maximum.reduce(x.tolist(), axis=0),\n",
    "        }\n",
    "    )\n",
    ").to_frame()\n"
   ]
  },
  {
   "cell_type": "code",
   "execution_count": 92,
   "metadata": {},
   "outputs": [
    {
     "data": {
      "text/html": [
       "<div>\n",
       "<style scoped>\n",
       "    .dataframe tbody tr th:only-of-type {\n",
       "        vertical-align: middle;\n",
       "    }\n",
       "\n",
       "    .dataframe tbody tr th {\n",
       "        vertical-align: top;\n",
       "    }\n",
       "\n",
       "    .dataframe thead th {\n",
       "        text-align: right;\n",
       "    }\n",
       "</style>\n",
       "<table border=\"1\" class=\"dataframe\">\n",
       "  <thead>\n",
       "    <tr style=\"text-align: right;\">\n",
       "      <th></th>\n",
       "      <th></th>\n",
       "      <th>embedding</th>\n",
       "    </tr>\n",
       "    <tr>\n",
       "      <th>author</th>\n",
       "      <th></th>\n",
       "      <th></th>\n",
       "    </tr>\n",
       "  </thead>\n",
       "  <tbody>\n",
       "    <tr>\n",
       "      <th rowspan=\"2\" valign=\"top\">1GnWK</th>\n",
       "      <th>mean</th>\n",
       "      <td>[-0.054766607, 0.059622414, 0.044726454, -0.07...</td>\n",
       "    </tr>\n",
       "    <tr>\n",
       "      <th>max</th>\n",
       "      <td>[-0.054766607, 0.059622414, 0.044726454, -0.07...</td>\n",
       "    </tr>\n",
       "    <tr>\n",
       "      <th rowspan=\"2\" valign=\"top\">1ciAb</th>\n",
       "      <th>mean</th>\n",
       "      <td>[0.057719804, 0.041568875, 0.01093863, -0.0424...</td>\n",
       "    </tr>\n",
       "    <tr>\n",
       "      <th>max</th>\n",
       "      <td>[0.057719804, 0.041568875, 0.01093863, -0.0424...</td>\n",
       "    </tr>\n",
       "    <tr>\n",
       "      <th>1lLml</th>\n",
       "      <th>mean</th>\n",
       "      <td>[0.01731521, 0.052210815, -0.024826469, -0.040...</td>\n",
       "    </tr>\n",
       "    <tr>\n",
       "      <th>...</th>\n",
       "      <th>...</th>\n",
       "      <td>...</td>\n",
       "    </tr>\n",
       "    <tr>\n",
       "      <th>ybUwZ</th>\n",
       "      <th>max</th>\n",
       "      <td>[-0.014305461, 0.061665315, -0.0064223837, -0....</td>\n",
       "    </tr>\n",
       "    <tr>\n",
       "      <th rowspan=\"2\" valign=\"top\">ydWux</th>\n",
       "      <th>mean</th>\n",
       "      <td>[-0.024960294, 0.05637507, 0.041508026, -0.062...</td>\n",
       "    </tr>\n",
       "    <tr>\n",
       "      <th>max</th>\n",
       "      <td>[-0.024960294, 0.05637507, 0.041508026, -0.062...</td>\n",
       "    </tr>\n",
       "    <tr>\n",
       "      <th rowspan=\"2\" valign=\"top\">zwo0h</th>\n",
       "      <th>mean</th>\n",
       "      <td>[0.029973043, -0.08774368, 0.045531765, -0.062...</td>\n",
       "    </tr>\n",
       "    <tr>\n",
       "      <th>max</th>\n",
       "      <td>[0.029973043, -0.08774368, 0.045531765, -0.062...</td>\n",
       "    </tr>\n",
       "  </tbody>\n",
       "</table>\n",
       "<p>194 rows × 1 columns</p>\n",
       "</div>"
      ],
      "text/plain": [
       "                                                     embedding\n",
       "author                                                        \n",
       "1GnWK  mean  [-0.054766607, 0.059622414, 0.044726454, -0.07...\n",
       "       max   [-0.054766607, 0.059622414, 0.044726454, -0.07...\n",
       "1ciAb  mean  [0.057719804, 0.041568875, 0.01093863, -0.0424...\n",
       "       max   [0.057719804, 0.041568875, 0.01093863, -0.0424...\n",
       "1lLml  mean  [0.01731521, 0.052210815, -0.024826469, -0.040...\n",
       "...                                                        ...\n",
       "ybUwZ  max   [-0.014305461, 0.061665315, -0.0064223837, -0....\n",
       "ydWux  mean  [-0.024960294, 0.05637507, 0.041508026, -0.062...\n",
       "       max   [-0.024960294, 0.05637507, 0.041508026, -0.062...\n",
       "zwo0h  mean  [0.029973043, -0.08774368, 0.045531765, -0.062...\n",
       "       max   [0.029973043, -0.08774368, 0.045531765, -0.062...\n",
       "\n",
       "[194 rows x 1 columns]"
      ]
     },
     "execution_count": 92,
     "metadata": {},
     "output_type": "execute_result"
    }
   ],
   "source": [
    "user_embeddings"
   ]
  },
  {
   "cell_type": "code",
   "execution_count": 93,
   "metadata": {},
   "outputs": [],
   "source": [
    "save_df_as_parquet(\n",
    "    data=user_embeddings,\n",
    "    target_file=f\"{EVENT_KEY}_user_embeddings\",\n",
    ")\n"
   ]
  }
 ],
 "metadata": {
  "kernelspec": {
   "display_name": "pol_env",
   "language": "python",
   "name": "python3"
  },
  "language_info": {
   "codemirror_mode": {
    "name": "ipython",
    "version": 3
   },
   "file_extension": ".py",
   "mimetype": "text/x-python",
   "name": "python",
   "nbconvert_exporter": "python",
   "pygments_lexer": "ipython3",
   "version": "3.8.16"
  },
  "orig_nbformat": 4
 },
 "nbformat": 4,
 "nbformat_minor": 2
}
