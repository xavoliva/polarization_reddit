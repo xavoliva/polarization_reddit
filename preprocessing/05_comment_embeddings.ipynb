{
 "cells": [
  {
   "cell_type": "code",
   "execution_count": null,
   "metadata": {},
   "outputs": [],
   "source": [
    "%load_ext autoreload\n",
    "%autoreload 2\n",
    "\n",
    "%cd '..'"
   ]
  },
  {
   "cell_type": "code",
   "execution_count": null,
   "metadata": {},
   "outputs": [],
   "source": [
    "import numpy as np\n",
    "\n",
    "from sentence_transformers import SentenceTransformer\n",
    "\n",
    "from preprocessing.utils import (\n",
    "    load_event_comments,\n",
    "    save_event_comments,\n",
    ")\n",
    "\n",
    "from load.utils import save_df_as_parquet\n"
   ]
  },
  {
   "cell_type": "code",
   "execution_count": null,
   "metadata": {},
   "outputs": [],
   "source": [
    "import logging\n",
    "import sys\n",
    "\n",
    "logging.basicConfig(\n",
    "    level=logging.INFO,\n",
    "    format=\"%(asctime)s [%(levelname)s] %(message)s\",\n",
    "    handlers=[\n",
    "        logging.FileHandler(\"data/logs/comment_embeddings.log\"),\n",
    "        logging.StreamHandler(stream=sys.stdout)\n",
    "    ]\n",
    ")"
   ]
  },
  {
   "cell_type": "code",
   "execution_count": null,
   "metadata": {},
   "outputs": [],
   "source": [
    "model = SentenceTransformer(\"all-MiniLM-L6-v2\")\n",
    "\n",
    "model.max_seq_length = 256\n",
    "\n",
    "logging.info(f\"Model: {model}\")\n"
   ]
  },
  {
   "cell_type": "code",
   "execution_count": null,
   "metadata": {},
   "outputs": [],
   "source": [
    "# Constants\n",
    "EVENT_KEY = \"mass_shootings\"\n"
   ]
  },
  {
   "cell_type": "code",
   "execution_count": null,
   "metadata": {},
   "outputs": [],
   "source": [
    "\n",
    "logging.info(f\"Loading comments of event {EVENT_KEY}\")\n",
    "\n",
    "event_comments = load_event_comments(EVENT_KEY)  # .sample(100)"
   ]
  },
  {
   "cell_type": "code",
   "execution_count": null,
   "metadata": {},
   "outputs": [],
   "source": [
    "logging.info(f\"Computing embeddings for {len(event_comments)} comments...\")\n",
    "\n",
    "embeddings = model.encode(\n",
    "    event_comments[\"body_cleaned\"].values,  # type: ignore\n",
    "    show_progress_bar=True,\n",
    "    normalize_embeddings=True,\n",
    "    convert_to_numpy=False,\n",
    ")\n"
   ]
  },
  {
   "cell_type": "code",
   "execution_count": null,
   "metadata": {},
   "outputs": [],
   "source": [
    "event_comments[\"embedding\"] = embeddings\n",
    "\n",
    "event_comments[\"embedding\"] = event_comments[\"embedding\"].apply(np.array)  # type: ignore\n",
    "\n",
    "\n",
    "event_comments_emb = event_comments"
   ]
  },
  {
   "cell_type": "code",
   "execution_count": null,
   "metadata": {},
   "outputs": [],
   "source": [
    "logging.info(f\"Saving embeddings for comments...\")\n",
    "\n",
    "save_event_comments(event_comments_emb, f\"{EVENT_KEY}_with_embeddings\")\n"
   ]
  },
  {
   "cell_type": "code",
   "execution_count": null,
   "metadata": {},
   "outputs": [],
   "source": [
    "# event_comments_emb = load_event_comments(f\"{EVENT_KEY}_with_embeddings\")[\n",
    "#     [\"author\", \"embedding\"]\n",
    "# ]\n"
   ]
  },
  {
   "cell_type": "code",
   "execution_count": null,
   "metadata": {},
   "outputs": [],
   "source": [
    "def normalize(x):\n",
    "    return x / np.linalg.norm(x)"
   ]
  },
  {
   "cell_type": "code",
   "execution_count": null,
   "metadata": {},
   "outputs": [],
   "source": [
    "logging.info(\"Computing user embeddings...\")\n",
    "\n",
    "user_embeddings = event_comments_emb.groupby(by=\"author\").agg(\n",
    "    count=(\"author\", lambda x: len(x)),\n",
    "    mean=(\"embedding\", lambda x: normalize(np.vstack(x).mean(axis=0))),\n",
    "    max=(\"embedding\", lambda x: normalize(np.vstack(x).max(axis=0))),\n",
    ")\n"
   ]
  },
  {
   "cell_type": "code",
   "execution_count": null,
   "metadata": {},
   "outputs": [],
   "source": [
    "logging.info(f\"Saving {len(user_embeddings)} user embeddings...\")\n",
    "\n",
    "save_df_as_parquet(\n",
    "    data=user_embeddings,\n",
    "    target_file=f\"{EVENT_KEY}_user_embeddings.parquet\",\n",
    ")\n",
    "\n",
    "logging.info(\"Done!\")\n"
   ]
  }
 ],
 "metadata": {
  "kernelspec": {
   "display_name": "pol_env",
   "language": "python",
   "name": "python3"
  },
  "language_info": {
   "codemirror_mode": {
    "name": "ipython",
    "version": 3
   },
   "file_extension": ".py",
   "mimetype": "text/x-python",
   "name": "python",
   "nbconvert_exporter": "python",
   "pygments_lexer": "ipython3",
   "version": "3.8.16"
  },
  "orig_nbformat": 4
 },
 "nbformat": 4,
 "nbformat_minor": 2
}
