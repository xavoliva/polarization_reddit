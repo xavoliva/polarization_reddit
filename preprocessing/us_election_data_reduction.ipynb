{
 "cells": [
  {
   "cell_type": "code",
   "execution_count": null,
   "metadata": {},
   "outputs": [],
   "source": [
    "%load_ext autoreload\n",
    "%autoreload 2\n",
    "%cd '/workspaces/polarization_reddit'"
   ]
  },
  {
   "cell_type": "code",
   "execution_count": null,
   "metadata": {},
   "outputs": [],
   "source": [
    "import json\n",
    "\n",
    "import matplotlib.pyplot as plt\n",
    "import seaborn as sns\n",
    "sns.set_theme()\n",
    "\n",
    "from preprocessing.utils import load_comments_dask\n",
    "from load.constants import DATA_DIR\n",
    "from preprocessing.constants import EVENTS_DIR, ELECTIONS_REGEX"
   ]
  },
  {
   "cell_type": "code",
   "execution_count": null,
   "metadata": {},
   "outputs": [],
   "source": [
    "dev = False"
   ]
  },
  {
   "cell_type": "code",
   "execution_count": null,
   "metadata": {},
   "outputs": [],
   "source": [
    "print(\"Load user party\")\n",
    "user_party = pd.read_json(f\"{DATA_DIR}/output/user_party.json\", lines=True)"
   ]
  },
  {
   "cell_type": "code",
   "execution_count": null,
   "metadata": {},
   "outputs": [],
   "source": [
    "comments = load_comments_dask(\n",
    "    year=2016, months=[10, 11, 12], tokenize=False, file_type=\"parquet\", dev=False\n",
    ")\n",
    "\n",
    "comments = comments[[\"author\", \"body_cleaned\", \"date\", \"subreddit\"]]\n",
    "\n",
    "election_comments = comments[comments.body.str.contains(ELECTIONS_REGEX)]\n",
    "election_comments = election_comments.merge(user_party, on=\"author\", how=\"inner\")\n"
   ]
  },
  {
   "cell_type": "code",
   "execution_count": null,
   "metadata": {},
   "outputs": [],
   "source": [
    "election_comments.to_csv(f'{EVENTS_DIR}/us_election_comments.csv')"
   ]
  },
  {
   "cell_type": "code",
   "execution_count": null,
   "metadata": {},
   "outputs": [],
   "source": [
    "election_comments['party'].hist()\n",
    "plt.show()"
   ]
  }
 ],
 "metadata": {
  "kernelspec": {
   "display_name": "Python 3 (ipykernel)",
   "language": "python",
   "name": "python3"
  },
  "language_info": {
   "codemirror_mode": {
    "name": "ipython",
    "version": 3
   },
   "file_extension": ".py",
   "mimetype": "text/x-python",
   "name": "python",
   "nbconvert_exporter": "python",
   "pygments_lexer": "ipython3",
   "version": "3.9.7"
  }
 },
 "nbformat": 4,
 "nbformat_minor": 2
}
