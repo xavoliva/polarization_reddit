{
 "cells": [
  {
   "cell_type": "code",
   "execution_count": null,
   "metadata": {},
   "outputs": [],
   "source": [
    "%load_ext autoreload\n",
    "%autoreload 2"
   ]
  },
  {
   "cell_type": "code",
   "execution_count": null,
   "metadata": {},
   "outputs": [],
   "source": [
    "from collections import defaultdict\n",
    "import json\n",
    "\n",
    "import pandas as pd\n",
    "import numpy as np\n",
    "import matplotlib.pyplot as plt\n",
    "\n",
    "from utils import load_data\n",
    "from constants import DATA_DIR, EVENTS_DIR, DEM_SUBREDDITS, REP_SUBREDDITS, PARTISAN_SUBREDDITS"
   ]
  },
  {
   "cell_type": "code",
   "execution_count": null,
   "metadata": {},
   "outputs": [],
   "source": [
    "dev = False"
   ]
  },
  {
   "cell_type": "markdown",
   "metadata": {},
   "source": [
    "### User Affiliation"
   ]
  },
  {
   "cell_type": "code",
   "execution_count": null,
   "metadata": {},
   "outputs": [],
   "source": [
    "reddit = load_data(DATA_DIR, year=2016, tokenize=False, comp=\"parquet\", dev=False)"
   ]
  },
  {
   "cell_type": "code",
   "execution_count": null,
   "metadata": {},
   "outputs": [],
   "source": [
    "if dev:\n",
    "    reduction_frac = 0.15\n",
    "    print(f'Reduce data to fraction {reduction_frac}')\n",
    "\n",
    "    reddit = reddit.sample(frac=reduction_frac)"
   ]
  },
  {
   "cell_type": "code",
   "execution_count": null,
   "metadata": {},
   "outputs": [],
   "source": [
    "users = defaultdict(list)\n",
    "\n",
    "for index, row in reddit[[\"author\", \"subreddit\"]].iterrows():\n",
    "    if row['subreddit'] in PARTISAN_SUBREDDITS:\n",
    "        users[row['author']].append(row['subreddit'])"
   ]
  },
  {
   "cell_type": "code",
   "execution_count": null,
   "metadata": {},
   "outputs": [],
   "source": [
    "users_n_posts_df = pd.DataFrame([[user, len(users[user])] for user in users.keys()],\n",
    "                                columns = ['user', 'n_posts'])\n",
    "users_n_posts_df.to_csv(f'{DATA_DIR}/users_n_posts.csv')"
   ]
  },
  {
   "cell_type": "code",
   "execution_count": null,
   "metadata": {},
   "outputs": [],
   "source": [
    "def calculate_partisan_score(subreddits_list):\n",
    "    score = 0\n",
    "    for subreddit in subreddits_list:\n",
    "        if subreddit in DEM_SUBREDDITS:\n",
    "            score += 1\n",
    "        elif subreddit in REP_SUBREDDITS:\n",
    "            score -= 1\n",
    "    return score\n",
    "\n",
    "\n",
    "def is_rep_or_dem(score):\n",
    "    if score >= 1:\n",
    "        return 'D'\n",
    "    elif score <= -1:\n",
    "        return 'R'\n",
    "    return 'N'"
   ]
  },
  {
   "cell_type": "code",
   "execution_count": null,
   "metadata": {},
   "outputs": [],
   "source": [
    "user_affiliation = {}\n",
    "users_affiliation_data = []\n",
    "\n",
    "for key in users.keys():\n",
    "    partisan_score = calculate_partisan_score(users[key])\n",
    "    if abs(partisan_score) > 5:\n",
    "        users_affiliation_data.append([key, partisan_score, is_rep_or_dem(partisan_score)])\n",
    "        user_affiliation[key] = is_rep_or_dem(partisan_score)\n",
    "\n",
    "users_affiliation_df = pd.DataFrame(users_affiliation_data, columns=['user', 'score', 'leaning'])"
   ]
  },
  {
   "cell_type": "code",
   "execution_count": null,
   "metadata": {},
   "outputs": [],
   "source": [
    "users_affiliation_df.to_csv(f'{EVENTS_DIR}/brexit_user_affiliation.csv')\n",
    "\n",
    "with open(f\"{DATA_DIR}/user_affiliation.json\", \"w\") as outfile:\n",
    "    json.dump(user_affiliation, outfile)"
   ]
  },
  {
   "cell_type": "code",
   "execution_count": null,
   "metadata": {},
   "outputs": [],
   "source": [
    "users_affiliation_df['score'].hist(bins=np.linspace(-250, 250, 500))\n",
    "# plt.semilogx()\n",
    "plt.xlim(-250,250)\n",
    "plt.show()"
   ]
  }
 ],
 "metadata": {
  "interpreter": {
   "hash": "535e1fc6f4c576ada9dae38e4d216f8b8b7ae7ee85d600fb700662afc8c674bb"
  },
  "kernelspec": {
   "display_name": "Python 3.9.7 64-bit ('reddit_venv': venv)",
   "language": "python",
   "name": "python3"
  },
  "language_info": {
   "codemirror_mode": {
    "name": "ipython",
    "version": 3
   },
   "file_extension": ".py",
   "mimetype": "text/x-python",
   "name": "python",
   "nbconvert_exporter": "python",
   "pygments_lexer": "ipython3",
   "version": "3.9.7"
  },
  "orig_nbformat": 4
 },
 "nbformat": 4,
 "nbformat_minor": 2
}
