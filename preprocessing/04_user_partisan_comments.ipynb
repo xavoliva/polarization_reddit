{
 "cells": [
  {
   "cell_type": "code",
   "execution_count": 1,
   "metadata": {},
   "outputs": [
    {
     "name": "stdout",
     "output_type": "stream",
     "text": [
      "/dss/dsshome1/03/di93fup/polarization_reddit\n"
     ]
    }
   ],
   "source": [
    "%load_ext autoreload\n",
    "%autoreload 2\n",
    "\n",
    "%cd '..'"
   ]
  },
  {
   "cell_type": "code",
   "execution_count": 2,
   "metadata": {},
   "outputs": [],
   "source": [
    "from load.utils import (\n",
    "    load_df_from_parquet,\n",
    "    load_comments,\n",
    "    save_df_as_parquet,\n",
    ")\n",
    "\n",
    "from preprocessing.utils import (\n",
    "    tokenize_comment,\n",
    ")"
   ]
  },
  {
   "cell_type": "code",
   "execution_count": null,
   "metadata": {},
   "outputs": [],
   "source": [
    "\n",
    "import logging\n",
    "import sys\n",
    "\n",
    "logging.basicConfig(\n",
    "    level=logging.INFO,\n",
    "    format=\"%(asctime)s [%(levelname)s] %(message)s\",\n",
    "    handlers=[\n",
    "        logging.FileHandler(f\"data/logs/user_partisan_comments.log\"),\n",
    "        logging.StreamHandler(stream=sys.stdout),\n",
    "    ],\n",
    ")"
   ]
  },
  {
   "cell_type": "code",
   "execution_count": 3,
   "metadata": {},
   "outputs": [],
   "source": [
    "from tqdm import tqdm\n",
    "\n",
    "tqdm.pandas()\n"
   ]
  },
  {
   "cell_type": "code",
   "execution_count": 4,
   "metadata": {},
   "outputs": [],
   "source": [
    "YEARS = [2015, 2016, 2017, 2018]\n",
    "\n",
    "YEARS_STR = str(YEARS[0]) if len(YEARS) == 1 else f\"{YEARS[0]}-{YEARS[-1]}\"\n",
    "START_MONTH = 1\n",
    "STOP_MONTH = 12\n",
    "\n",
    "logging.info(YEARS_STR)"
   ]
  },
  {
   "cell_type": "code",
   "execution_count": 5,
   "metadata": {},
   "outputs": [
    {
     "name": "stdout",
     "output_type": "stream",
     "text": [
      "(619599, 2)\n",
      "(537900, 2)\n"
     ]
    }
   ],
   "source": [
    "user_party = load_df_from_parquet(\n",
    "    file_name=f\"user_party_{YEARS_STR}.parquet\",\n",
    ")[[\"author\", \"party\"]]\n",
    "\n",
    "user_party = user_party[user_party[\"party\"].isin([\"dem\", \"rep\"])]\n"
   ]
  },
  {
   "cell_type": "code",
   "execution_count": null,
   "metadata": {},
   "outputs": [],
   "source": [
    "for year in YEARS:\n",
    "    comments_year = load_comments(\n",
    "        years=year,\n",
    "        start_month=START_MONTH,\n",
    "        stop_month=STOP_MONTH,\n",
    "        engine=\"pandas\",\n",
    "    )\n",
    "\n",
    "    user_partisan_comments_year = comments_year.merge(\n",
    "        user_party,\n",
    "        on=\"author\",\n",
    "        how=\"inner\",\n",
    "    )\n",
    "\n",
    "    logging.info(\"Tokenizing comments...\")\n",
    "    user_partisan_comments_year[\"tokens\"] = (\n",
    "        user_partisan_comments_year[\"body_cleaned\"]\n",
    "        .progress_apply(\n",
    "            tokenize_comment,\n",
    "        )\n",
    "        .astype(\"string\")\n",
    "    )\n",
    "    \n",
    "    logging.info(\"Finish tokenizing comments\")\n",
    "\n",
    "    save_df_as_parquet(\n",
    "        user_partisan_comments_year,\n",
    "        target_file=f\"user_partisan_comments_{year}.parquet\",\n",
    "    )\n"
   ]
  }
 ],
 "metadata": {
  "kernelspec": {
   "display_name": "pol_env",
   "language": "python",
   "name": "python3"
  },
  "language_info": {
   "codemirror_mode": {
    "name": "ipython",
    "version": 3
   },
   "file_extension": ".py",
   "mimetype": "text/x-python",
   "name": "python",
   "nbconvert_exporter": "python",
   "pygments_lexer": "ipython3",
   "version": "3.8.16"
  },
  "orig_nbformat": 4
 },
 "nbformat": 4,
 "nbformat_minor": 2
}
