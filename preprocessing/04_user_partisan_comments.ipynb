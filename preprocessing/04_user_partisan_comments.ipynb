{
 "cells": [
  {
   "cell_type": "code",
   "execution_count": null,
   "metadata": {},
   "outputs": [],
   "source": [
    "%load_ext autoreload\n",
    "%autoreload 2\n",
    "\n",
    "%cd '..'"
   ]
  },
  {
   "cell_type": "code",
   "execution_count": null,
   "metadata": {},
   "outputs": [],
   "source": [
    "from load.utils import (\n",
    "    load_df_from_parquet,\n",
    "    load_comments,\n",
    "    load_subreddits,\n",
    "    save_df_as_parquet,\n",
    ")\n",
    "\n",
    "from preprocessing.utils import (\n",
    "    tokenize_comment,\n",
    ")\n",
    "\n",
    "from preprocessing.utils import (\n",
    "    build_vocab,\n",
    "    save_event_vocab,\n",
    ")\n",
    "from preprocessing.constants import (\n",
    "    MIN_OCCURENCE_FOR_VOCAB,\n",
    ")\n"
   ]
  },
  {
   "cell_type": "code",
   "execution_count": null,
   "metadata": {},
   "outputs": [],
   "source": [
    "\n",
    "import logging\n",
    "import sys\n",
    "\n",
    "logging.basicConfig(\n",
    "    level=logging.INFO,\n",
    "    format=\"%(asctime)s [%(levelname)s] %(message)s\",\n",
    "    handlers=[\n",
    "        logging.FileHandler(f\"data/logs/user_partisan_comments.log\"),\n",
    "        logging.StreamHandler(stream=sys.stdout),\n",
    "    ],\n",
    ")"
   ]
  },
  {
   "cell_type": "code",
   "execution_count": null,
   "metadata": {},
   "outputs": [],
   "source": [
    "from tqdm import tqdm\n",
    "\n",
    "tqdm.pandas()\n"
   ]
  },
  {
   "cell_type": "code",
   "execution_count": null,
   "metadata": {},
   "outputs": [],
   "source": [
    "YEARS = [2014, 2015, 2016, 2017, 2018, 2019]\n",
    "START_MONTH = 1\n",
    "STOP_MONTH = 12\n",
    "\n",
    "logging.info(YEARS)"
   ]
  },
  {
   "cell_type": "code",
   "execution_count": null,
   "metadata": {},
   "outputs": [],
   "source": [
    "subreddits = load_subreddits()\n",
    "\n",
    "eligible_subreddits = set(subreddits[\"subreddit\"].values)"
   ]
  },
  {
   "cell_type": "code",
   "execution_count": null,
   "metadata": {},
   "outputs": [],
   "source": [
    "for year in YEARS:\n",
    "    logging.info(f\"Loading comments {year}\")\n",
    "    comments_year = load_comments(\n",
    "        years=year,\n",
    "        start_month=START_MONTH,\n",
    "        stop_month=STOP_MONTH,\n",
    "        engine=\"pandas\",\n",
    "    )\n",
    "\n",
    "    user_party_year = load_df_from_parquet(\n",
    "        file_name=f\"user_party_{year}.parquet\",\n",
    "    )[[\"author\", \"party\"]]\n",
    "\n",
    "    # Filter out non-democrat and non-republican users\n",
    "    user_party_year = user_party_year[user_party_year[\"party\"].isin({\"dem\", \"rep\"})]\n",
    "\n",
    "    # Filter out regional subreddits\n",
    "    comments_year = comments_year[\n",
    "        comments_year[\"subreddit\"].isin(eligible_subreddits)\n",
    "    ]\n",
    "\n",
    "    logging.info(\"Merging comments and user partisanship...\")\n",
    "    user_partisan_comments_year = comments_year.merge(\n",
    "        user_party_year,\n",
    "        on=\"author\",\n",
    "        how=\"inner\",\n",
    "    )\n",
    "\n",
    "    del comments_year\n",
    "\n",
    "    logging.info(\"Tokenizing comments...\")\n",
    "    user_partisan_comments_year[\"tokens\"] = (\n",
    "        user_partisan_comments_year[\"body_cleaned\"]\n",
    "        .progress_apply(\n",
    "            tokenize_comment,\n",
    "        )\n",
    "        .astype(\"string\")\n",
    "    )\n",
    "\n",
    "    logging.info(\"Saving user partisan tokenized comments\")\n",
    "\n",
    "    save_df_as_parquet(\n",
    "        user_partisan_comments_year,\n",
    "        target_file=f\"user_partisan_comments_{year}.parquet\",\n",
    "    )\n",
    "\n",
    "    logging.info(\"Building vocab...\")\n",
    "\n",
    "    year_vocab = build_vocab(\n",
    "        user_partisan_comments_year[\"tokens\"],\n",
    "        ngram_range=(1, 2),\n",
    "        min_df=MIN_OCCURENCE_FOR_VOCAB,\n",
    "    )\n",
    "\n",
    "    logging.info(\"Saving vocab...\")\n",
    "    save_event_vocab(\n",
    "        year_vocab,\n",
    "        theme=\"overall\",\n",
    "        event_name=f\"user_partisan_comments_{year}\",\n",
    "    )\n"
   ]
  }
 ],
 "metadata": {
  "kernelspec": {
   "display_name": "pol_env",
   "language": "python",
   "name": "python3"
  },
  "language_info": {
   "codemirror_mode": {
    "name": "ipython",
    "version": 3
   },
   "file_extension": ".py",
   "mimetype": "text/x-python",
   "name": "python",
   "nbconvert_exporter": "python",
   "pygments_lexer": "ipython3",
   "version": "3.8.16"
  },
  "orig_nbformat": 4
 },
 "nbformat": 4,
 "nbformat_minor": 2
}
