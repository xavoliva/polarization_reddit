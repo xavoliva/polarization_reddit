{
 "cells": [
  {
   "cell_type": "code",
   "execution_count": null,
   "metadata": {},
   "outputs": [],
   "source": [
    "%load_ext autoreload\n",
    "%autoreload 2\n",
    "\n",
    "%cd '..'"
   ]
  },
  {
   "cell_type": "code",
   "execution_count": null,
   "metadata": {},
   "outputs": [],
   "source": [
    "import json\n",
    "\n",
    "import networkx as nx\n",
    "import matplotlib.pyplot as plt\n",
    "\n",
    "from load.utils import load_network, load_subreddits\n",
    "from network.utils import filter_node\n",
    "from preprocessing.constants import METADATA_DIR, DATA_DIR\n"
   ]
  },
  {
   "cell_type": "code",
   "execution_count": null,
   "metadata": {},
   "outputs": [],
   "source": [
    "YEARS = [year for year in range(2008, 2020)]\n"
   ]
  },
  {
   "cell_type": "code",
   "execution_count": null,
   "metadata": {},
   "outputs": [],
   "source": [
    "subreddits = load_subreddits()\n",
    "\n",
    "dem_subreddits = set(subreddits[subreddits[\"party\"] == \"dem\"][\"subreddit\"])\n",
    "rep_subreddits = set(subreddits[subreddits[\"party\"] == \"rep\"][\"subreddit\"])\n"
   ]
  },
  {
   "cell_type": "code",
   "execution_count": null,
   "metadata": {},
   "outputs": [],
   "source": [
    "\n",
    "blacklist = {\"politics\"}\n",
    "\n",
    "eligible_subreddits = set(subreddits[\"subreddit\"]) - blacklist\n",
    "\n",
    "print(eligible_subreddits)"
   ]
  },
  {
   "cell_type": "code",
   "execution_count": null,
   "metadata": {},
   "outputs": [],
   "source": [
    "print(dem_subreddits)"
   ]
  },
  {
   "cell_type": "code",
   "execution_count": null,
   "metadata": {},
   "outputs": [],
   "source": [
    "print(rep_subreddits)"
   ]
  },
  {
   "attachments": {},
   "cell_type": "markdown",
   "metadata": {},
   "source": [
    "### Unweighted"
   ]
  },
  {
   "cell_type": "code",
   "execution_count": null,
   "metadata": {},
   "outputs": [],
   "source": [
    "networks_unweighted = {year: load_network(year=year, weighted=False) for year in YEARS}\n"
   ]
  },
  {
   "cell_type": "code",
   "execution_count": null,
   "metadata": {},
   "outputs": [],
   "source": [
    "dem_networks_unweighted = {}\n",
    "rep_networks_unweighted = {}\n",
    "\n",
    "dem_subreddits_unweighted = {}\n",
    "rep_subreddits_unweighted = {}\n",
    "\n",
    "for year, network_unweighted in networks_unweighted.items():\n",
    "    print(year)\n",
    "    active_subreddits = set(network_unweighted.nodes())\n",
    "    dem_active_subreddits = (dem_subreddits & active_subreddits)\n",
    "    rep_active_subreddits = (rep_subreddits & active_subreddits)\n",
    "    \n",
    "    print(\"dem seed\", list(dem_active_subreddits))\n",
    "    print(\"rep seed\", list(rep_active_subreddits))\n",
    "    # Democrats\n",
    "\n",
    "    dem_network_unweighted = nx.subgraph_view(  # type: ignore\n",
    "        network_unweighted,\n",
    "        filter_node=lambda node: filter_node(\n",
    "            node,\n",
    "            network=network_unweighted,\n",
    "            eligible_subreddits=eligible_subreddits,\n",
    "            party_subreddits=dem_active_subreddits,\n",
    "            opposition_subreddits=rep_active_subreddits,\n",
    "            weighted=False,\n",
    "        ),\n",
    "    )\n",
    "    dem_networks_unweighted[year] = dem_network_unweighted\n",
    "\n",
    "    dem_subreddits_unweighted[year] = list(set(dem_network_unweighted.nodes()))\n",
    "\n",
    "\n",
    "    # Draw democrat network\n",
    "    A_dem = nx.nx_agraph.to_agraph(dem_network_unweighted)\n",
    "    A_dem.node_attr[\"style\"] = \"filled\"\n",
    "\n",
    "    for dem_active_subreddit in dem_active_subreddits:\n",
    "        n = A_dem.get_node(dem_active_subreddit)\n",
    "        n.attr[\"fillcolor\"] = \"#00AEF3\"\n",
    "\n",
    "    A_dem.layout(prog=\"dot\")  # use dot\n",
    "    \n",
    "    A_dem.write(f\"{DATA_DIR}/figures/partisan_networks/dem_network_{year}_unweighted.pdf\")\n",
    "    A_dem.draw(f\"{DATA_DIR}/figures/partisan_networks/dem_network_{year}_unweighted.pdf\")\n",
    "\n",
    "    # Republicans\n",
    "\n",
    "    rep_network_unweighted = nx.subgraph_view(  # type: ignore\n",
    "        network_unweighted,\n",
    "        filter_node=lambda node: filter_node(\n",
    "            node,\n",
    "            network=network_unweighted,\n",
    "            eligible_subreddits=eligible_subreddits,\n",
    "            party_subreddits=rep_active_subreddits,\n",
    "            opposition_subreddits=dem_active_subreddits,\n",
    "            weighted=False,\n",
    "        ),\n",
    "    )\n",
    "\n",
    "    rep_networks_unweighted[year] = rep_network_unweighted\n",
    "    \n",
    "    rep_subreddits_unweighted[year] = list(set(rep_network_unweighted.nodes()))\n",
    "\n",
    "    print(f\"Dem subreddits {year}: seed -> {len(dem_active_subreddits)}, final -> {len(dem_subreddits_unweighted[year])}\")\n",
    "    print(f\"Rep subreddits {year}: seed -> {len(dem_active_subreddits)}, final -> {len(rep_subreddits_unweighted[year])}\")\n",
    "\n",
    "    print(\"Discovered dem subreddits\", list(set(dem_network_unweighted.nodes()) - dem_active_subreddits))\n",
    "    print(\"Discovered rep subreddits\", list(set(rep_network_unweighted.nodes()) - rep_active_subreddits))\n",
    "\n",
    "    # Draw republican network\n",
    "\n",
    "    plt.figure(3,figsize=(11.69,8.27)) \n",
    "\n",
    "    A_rep = nx.nx_agraph.to_agraph(rep_network_unweighted)\n",
    "    A_rep.node_attr[\"style\"] = \"filled\"\n",
    "\n",
    "    for rep_active_subreddit in rep_active_subreddits:\n",
    "        n = A_rep.get_node(rep_active_subreddit)\n",
    "        n.attr[\"syle\"] = \"filled\"\n",
    "        n.attr[\"fillcolor\"] = \"#E81B23\"\n",
    "    \n",
    "    A_rep.layout(prog=\"dot\")  # use dot\n",
    "\n",
    "    A_rep.write(f\"{DATA_DIR}/figures/partisan_networks/rep_network_{year}_unweighted.pdf\")\n",
    "    A_rep.draw(f\"{DATA_DIR}/figures/partisan_networks/rep_network_{year}_unweighted.pdf\")\n",
    "\n",
    "    plt.show()\n"
   ]
  },
  {
   "cell_type": "code",
   "execution_count": null,
   "metadata": {},
   "outputs": [],
   "source": [
    "with open(\n",
    "    f\"{METADATA_DIR}/dem_subreddits_unweighted.json\",\n",
    "    \"w\",\n",
    "    encoding=\"utf-8\",\n",
    ") as f:\n",
    "    json.dump(dem_subreddits_unweighted, f)\n"
   ]
  },
  {
   "cell_type": "code",
   "execution_count": null,
   "metadata": {},
   "outputs": [],
   "source": [
    "with open(\n",
    "    f\"{METADATA_DIR}/rep_subreddits_unweighted.json\",\n",
    "    \"w\",\n",
    "    encoding=\"utf-8\",\n",
    ") as f:\n",
    "    json.dump(rep_subreddits_unweighted, f)"
   ]
  }
 ],
 "metadata": {
  "kernelspec": {
   "display_name": "pol_env",
   "language": "python",
   "name": "python3"
  },
  "language_info": {
   "codemirror_mode": {
    "name": "ipython",
    "version": 3
   },
   "file_extension": ".py",
   "mimetype": "text/x-python",
   "name": "python",
   "nbconvert_exporter": "python",
   "pygments_lexer": "ipython3",
   "version": "3.8.16"
  },
  "orig_nbformat": 4,
  "vscode": {
   "interpreter": {
    "hash": "0517ac6396832503edeb22d4ae2d55ad6af9f111efda9985705546d6640f6543"
   }
  }
 },
 "nbformat": 4,
 "nbformat_minor": 2
}
