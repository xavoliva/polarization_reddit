{
 "cells": [
  {
   "cell_type": "code",
   "execution_count": 1,
   "metadata": {},
   "outputs": [
    {
     "name": "stdout",
     "output_type": "stream",
     "text": [
      "/dss/dsshome1/03/di93fup/polarization_reddit\n"
     ]
    }
   ],
   "source": [
    "%load_ext autoreload\n",
    "%autoreload 2\n",
    "\n",
    "%cd '..'"
   ]
  },
  {
   "cell_type": "code",
   "execution_count": 2,
   "metadata": {},
   "outputs": [],
   "source": [
    "import logging\n",
    "\n",
    "# logging.basicConfig(\n",
    "#     level=logging.INFO,\n",
    "#     format=\"%(asctime)s [%(levelname)s] %(message)s\",\n",
    "#     handlers=[\n",
    "#         logging.FileHandler(\"data/logs/mass_shootings_preprocess_comments_notebook.log\"),\n",
    "#         logging.StreamHandler()\n",
    "#     ]\n",
    "# )"
   ]
  },
  {
   "cell_type": "code",
   "execution_count": 3,
   "metadata": {},
   "outputs": [],
   "source": [
    "import pandas as pd\n",
    "from tqdm import tqdm\n",
    "tqdm.pandas()\n",
    "\n",
    "from load.utils import (\n",
    "    load_df_from_parquet,\n",
    ")\n",
    "from preprocessing.utils import (\n",
    "    save_event_comments,\n",
    "    build_vocab,\n",
    "    save_event_vocab,\n",
    ")\n",
    "\n",
    "from preprocessing.constants import (\n",
    "    MASS_SHOOTINGS_EVENTS_INFO,\n",
    "    MASS_SHOOTINGS_KEYWORDS,\n",
    "    MIN_OCCURENCE_FOR_VOCAB,\n",
    "    get_event_regex,\n",
    ")"
   ]
  },
  {
   "cell_type": "code",
   "execution_count": 4,
   "metadata": {},
   "outputs": [],
   "source": [
    "YEARS = [2015, 2016, 2017, 2018]\n",
    "\n",
    "EVENT_NAMES = list(MASS_SHOOTINGS_EVENTS_INFO.keys())\n",
    "\n",
    "MASS_SHOOTING_EVENTS_KEYWORDS = [\n",
    "    keyword\n",
    "    for event_name in EVENT_NAMES\n",
    "    for keyword in MASS_SHOOTINGS_EVENTS_INFO[event_name][\"keywords\"]\n",
    "]\n"
   ]
  },
  {
   "cell_type": "code",
   "execution_count": 5,
   "metadata": {},
   "outputs": [],
   "source": [
    "MASS_SHOOTING_REGEX = get_event_regex(\n",
    "    MASS_SHOOTINGS_KEYWORDS,\n",
    "    MASS_SHOOTING_EVENTS_KEYWORDS,\n",
    "    operator=\"and\",\n",
    ")\n",
    "\n",
    "logging.info(MASS_SHOOTING_REGEX)\n"
   ]
  },
  {
   "cell_type": "code",
   "execution_count": 6,
   "metadata": {},
   "outputs": [
    {
     "data": {
      "text/plain": [
       "'(?:shoot|gun|kil|attack|massacr|victim).*(?:charleston|chattanoog|umpqu|roseburg|colorado springs|plan par|san bernardino|kalamazoo|orlando|puls nightclub|dalla|baton roug|burlington|cascad mal|fort lauderd|fresno|up|san francisco|vega|harvest fest|mandalay bay|rout 91|thornton|walmart|denv|sutherland springs|parkland|mars stonem|nashvil|waffl hous|sant fe|annapol|capit gazet|pittsburgh|tre of lif|thousand oak)'"
      ]
     },
     "execution_count": 6,
     "metadata": {},
     "output_type": "execute_result"
    }
   ],
   "source": [
    "MASS_SHOOTING_REGEX"
   ]
  },
  {
   "attachments": {},
   "cell_type": "markdown",
   "metadata": {},
   "source": [
    "## Filter event comments"
   ]
  },
  {
   "cell_type": "code",
   "execution_count": 7,
   "metadata": {},
   "outputs": [],
   "source": [
    "logging.info(\"Load partisan comments\")\n",
    "partisan_comments = pd.concat(\n",
    "    [\n",
    "        load_df_from_parquet(\n",
    "            file_name=f\"user_partisan_comments_{year}.parquet\",\n",
    "        )\n",
    "        for year in YEARS\n",
    "    ]\n",
    ")\n"
   ]
  },
  {
   "cell_type": "code",
   "execution_count": 8,
   "metadata": {},
   "outputs": [
    {
     "data": {
      "text/plain": [
       "author          string[python]\n",
       "body_cleaned    string[python]\n",
       "created_utc              int64\n",
       "subreddit       string[python]\n",
       "id              string[python]\n",
       "parent_id       string[python]\n",
       "party           string[python]\n",
       "tokens          string[python]\n",
       "dtype: object"
      ]
     },
     "execution_count": 8,
     "metadata": {},
     "output_type": "execute_result"
    }
   ],
   "source": [
    "partisan_comments.dtypes"
   ]
  },
  {
   "cell_type": "code",
   "execution_count": 9,
   "metadata": {},
   "outputs": [],
   "source": [
    "logging.info(\"Filtering event data based on keywords...\")\n",
    "event_comments = partisan_comments[\n",
    "    partisan_comments[\"tokens\"].str.contains(\n",
    "        MASS_SHOOTING_REGEX,\n",
    "    )\n",
    "].copy()\n",
    "logging.info(\"finished keyword filtering\")\n"
   ]
  },
  {
   "cell_type": "code",
   "execution_count": 10,
   "metadata": {},
   "outputs": [
    {
     "data": {
      "text/plain": [
       "(74274, 8)"
      ]
     },
     "execution_count": 10,
     "metadata": {},
     "output_type": "execute_result"
    }
   ],
   "source": [
    "event_comments.shape"
   ]
  },
  {
   "cell_type": "code",
   "execution_count": 11,
   "metadata": {},
   "outputs": [],
   "source": [
    "logging.info(event_comments.shape)"
   ]
  },
  {
   "cell_type": "code",
   "execution_count": 12,
   "metadata": {},
   "outputs": [],
   "source": [
    "del partisan_comments"
   ]
  },
  {
   "cell_type": "code",
   "execution_count": 13,
   "metadata": {},
   "outputs": [],
   "source": [
    "logging.info(event_comments.dtypes)"
   ]
  },
  {
   "cell_type": "code",
   "execution_count": 14,
   "metadata": {},
   "outputs": [],
   "source": [
    "logging.info(f\"Nr of event comments: {len(event_comments)}\")"
   ]
  },
  {
   "cell_type": "code",
   "execution_count": 15,
   "metadata": {},
   "outputs": [],
   "source": [
    "logging.info(\"saving event comments...\")\n",
    "save_event_comments(event_comments, \"mass_shootings\")"
   ]
  },
  {
   "cell_type": "code",
   "execution_count": 16,
   "metadata": {},
   "outputs": [
    {
     "data": {
      "text/html": [
       "<div>\n",
       "<style scoped>\n",
       "    .dataframe tbody tr th:only-of-type {\n",
       "        vertical-align: middle;\n",
       "    }\n",
       "\n",
       "    .dataframe tbody tr th {\n",
       "        vertical-align: top;\n",
       "    }\n",
       "\n",
       "    .dataframe thead th {\n",
       "        text-align: right;\n",
       "    }\n",
       "</style>\n",
       "<table border=\"1\" class=\"dataframe\">\n",
       "  <thead>\n",
       "    <tr style=\"text-align: right;\">\n",
       "      <th></th>\n",
       "      <th>author</th>\n",
       "      <th>body_cleaned</th>\n",
       "      <th>created_utc</th>\n",
       "      <th>subreddit</th>\n",
       "      <th>id</th>\n",
       "      <th>parent_id</th>\n",
       "      <th>party</th>\n",
       "      <th>tokens</th>\n",
       "    </tr>\n",
       "  </thead>\n",
       "  <tbody>\n",
       "    <tr>\n",
       "      <th>17</th>\n",
       "      <td>O9LpP</td>\n",
       "      <td>&gt; are you going to blame him for having bigger...</td>\n",
       "      <td>1420236694</td>\n",
       "      <td>Anarcho_Capitalism</td>\n",
       "      <td>cncjgou</td>\n",
       "      <td>t1_cncilv0</td>\n",
       "      <td>rep</td>\n",
       "      <td>ar you going to blam him for hav big bal than ...</td>\n",
       "    </tr>\n",
       "    <tr>\n",
       "      <th>27</th>\n",
       "      <td>O9LpP</td>\n",
       "      <td>&gt; the victim of garner was the store owners an...</td>\n",
       "      <td>1420257458</td>\n",
       "      <td>Anarcho_Capitalism</td>\n",
       "      <td>cnctss1</td>\n",
       "      <td>t1_cncrge0</td>\n",
       "      <td>rep</td>\n",
       "      <td>the victim of garn was the stor own and it obv...</td>\n",
       "    </tr>\n",
       "    <tr>\n",
       "      <th>47</th>\n",
       "      <td>O9LpP</td>\n",
       "      <td>&gt; molyneaux would say that blockbuster fell vi...</td>\n",
       "      <td>1420661783</td>\n",
       "      <td>Anarcho_Capitalism</td>\n",
       "      <td>cnhle8y</td>\n",
       "      <td>t1_cngxzyb</td>\n",
       "      <td>rep</td>\n",
       "      <td>molyneaux would say that blockbust fel victim ...</td>\n",
       "    </tr>\n",
       "    <tr>\n",
       "      <th>50</th>\n",
       "      <td>O9LpP</td>\n",
       "      <td>&gt; ... i guess the bourgeoisie ( white , christ...</td>\n",
       "      <td>1420741352</td>\n",
       "      <td>Anarcho_Capitalism</td>\n",
       "      <td>cnil3y5</td>\n",
       "      <td>t1_cnig83q</td>\n",
       "      <td>rep</td>\n",
       "      <td>i guess the bourgeoisy whit christian middl cl...</td>\n",
       "    </tr>\n",
       "    <tr>\n",
       "      <th>296</th>\n",
       "      <td>O9LpP</td>\n",
       "      <td>what 's the alternative to an individual getti...</td>\n",
       "      <td>1432669170</td>\n",
       "      <td>Anarcho_Capitalism</td>\n",
       "      <td>crlnpa0</td>\n",
       "      <td>t1_crl6xc5</td>\n",
       "      <td>rep</td>\n",
       "      <td>what the altern to an individ get to own stuff...</td>\n",
       "    </tr>\n",
       "    <tr>\n",
       "      <th>...</th>\n",
       "      <td>...</td>\n",
       "      <td>...</td>\n",
       "      <td>...</td>\n",
       "      <td>...</td>\n",
       "      <td>...</td>\n",
       "      <td>...</td>\n",
       "      <td>...</td>\n",
       "      <td>...</td>\n",
       "    </tr>\n",
       "    <tr>\n",
       "      <th>4377737</th>\n",
       "      <td>tPgqK</td>\n",
       "      <td>i 'm convinced nugent is a left wing double ag...</td>\n",
       "      <td>1451485623</td>\n",
       "      <td>progun</td>\n",
       "      <td>cyg4tv6</td>\n",
       "      <td>t1_cyg250e</td>\n",
       "      <td>rep</td>\n",
       "      <td>i convint nug is a left wing doubl ag try his ...</td>\n",
       "    </tr>\n",
       "    <tr>\n",
       "      <th>4377791</th>\n",
       "      <td>DFBdY</td>\n",
       "      <td>or people can stop blaming all for the few . t...</td>\n",
       "      <td>1451496880</td>\n",
       "      <td>politics</td>\n",
       "      <td>cygb9rk</td>\n",
       "      <td>t1_cygafu3</td>\n",
       "      <td>dem</td>\n",
       "      <td>or peopl can stop blam al for the few ther ar ...</td>\n",
       "    </tr>\n",
       "    <tr>\n",
       "      <th>4377895</th>\n",
       "      <td>MLTYk</td>\n",
       "      <td>i support more gradual changes to our tax-syst...</td>\n",
       "      <td>1451523699</td>\n",
       "      <td>PoliticalDiscussion</td>\n",
       "      <td>cygsayd</td>\n",
       "      <td>t3_3yrxfc</td>\n",
       "      <td>dem</td>\n",
       "      <td>i support mor grad chang to our than most prog...</td>\n",
       "    </tr>\n",
       "    <tr>\n",
       "      <th>4377969</th>\n",
       "      <td>zK18O</td>\n",
       "      <td>hmmm so you did the research on this case righ...</td>\n",
       "      <td>1451569808</td>\n",
       "      <td>PoliticalHumor</td>\n",
       "      <td>cyh9q7o</td>\n",
       "      <td>t1_cyh1gud</td>\n",
       "      <td>dem</td>\n",
       "      <td>hmmm so you did the research on thi cas right ...</td>\n",
       "    </tr>\n",
       "    <tr>\n",
       "      <th>4377986</th>\n",
       "      <td>peAda</td>\n",
       "      <td>actually , the navy is a leading researcher in...</td>\n",
       "      <td>1451541279</td>\n",
       "      <td>politics</td>\n",
       "      <td>cyh1i4n</td>\n",
       "      <td>t1_cygsj0t</td>\n",
       "      <td>rep</td>\n",
       "      <td>act the navy is a lead research in nuclear ene...</td>\n",
       "    </tr>\n",
       "  </tbody>\n",
       "</table>\n",
       "<p>74274 rows × 8 columns</p>\n",
       "</div>"
      ],
      "text/plain": [
       "        author                                       body_cleaned   \n",
       "17       O9LpP  > are you going to blame him for having bigger...  \\\n",
       "27       O9LpP  > the victim of garner was the store owners an...   \n",
       "47       O9LpP  > molyneaux would say that blockbuster fell vi...   \n",
       "50       O9LpP  > ... i guess the bourgeoisie ( white , christ...   \n",
       "296      O9LpP  what 's the alternative to an individual getti...   \n",
       "...        ...                                                ...   \n",
       "4377737  tPgqK  i 'm convinced nugent is a left wing double ag...   \n",
       "4377791  DFBdY  or people can stop blaming all for the few . t...   \n",
       "4377895  MLTYk  i support more gradual changes to our tax-syst...   \n",
       "4377969  zK18O  hmmm so you did the research on this case righ...   \n",
       "4377986  peAda  actually , the navy is a leading researcher in...   \n",
       "\n",
       "         created_utc            subreddit       id   parent_id party   \n",
       "17        1420236694   Anarcho_Capitalism  cncjgou  t1_cncilv0   rep  \\\n",
       "27        1420257458   Anarcho_Capitalism  cnctss1  t1_cncrge0   rep   \n",
       "47        1420661783   Anarcho_Capitalism  cnhle8y  t1_cngxzyb   rep   \n",
       "50        1420741352   Anarcho_Capitalism  cnil3y5  t1_cnig83q   rep   \n",
       "296       1432669170   Anarcho_Capitalism  crlnpa0  t1_crl6xc5   rep   \n",
       "...              ...                  ...      ...         ...   ...   \n",
       "4377737   1451485623               progun  cyg4tv6  t1_cyg250e   rep   \n",
       "4377791   1451496880             politics  cygb9rk  t1_cygafu3   dem   \n",
       "4377895   1451523699  PoliticalDiscussion  cygsayd   t3_3yrxfc   dem   \n",
       "4377969   1451569808       PoliticalHumor  cyh9q7o  t1_cyh1gud   dem   \n",
       "4377986   1451541279             politics  cyh1i4n  t1_cygsj0t   rep   \n",
       "\n",
       "                                                    tokens  \n",
       "17       ar you going to blam him for hav big bal than ...  \n",
       "27       the victim of garn was the stor own and it obv...  \n",
       "47       molyneaux would say that blockbust fel victim ...  \n",
       "50       i guess the bourgeoisy whit christian middl cl...  \n",
       "296      what the altern to an individ get to own stuff...  \n",
       "...                                                    ...  \n",
       "4377737  i convint nug is a left wing doubl ag try his ...  \n",
       "4377791  or peopl can stop blam al for the few ther ar ...  \n",
       "4377895  i support mor grad chang to our than most prog...  \n",
       "4377969  hmmm so you did the research on thi cas right ...  \n",
       "4377986  act the navy is a lead research in nuclear ene...  \n",
       "\n",
       "[74274 rows x 8 columns]"
      ]
     },
     "execution_count": 16,
     "metadata": {},
     "output_type": "execute_result"
    }
   ],
   "source": [
    "event_comments"
   ]
  },
  {
   "attachments": {},
   "cell_type": "markdown",
   "metadata": {},
   "source": [
    "## Build event vocabulary"
   ]
  },
  {
   "cell_type": "code",
   "execution_count": 17,
   "metadata": {},
   "outputs": [],
   "source": [
    "# Read event data\n",
    "# events_comments = load_event_comments(\n",
    "#     EVENT_NAME,\n",
    "# )\n",
    "\n",
    "event_vocab = build_vocab(\n",
    "    event_comments[\"tokens\"],\n",
    "    min_comment_freq=MIN_OCCURENCE_FOR_VOCAB,\n",
    ")\n"
   ]
  },
  {
   "cell_type": "code",
   "execution_count": null,
   "metadata": {},
   "outputs": [],
   "source": [
    "logging.info(\"Vocabulary length\")\n",
    "logging.info(len(event_vocab))"
   ]
  },
  {
   "cell_type": "code",
   "execution_count": null,
   "metadata": {},
   "outputs": [],
   "source": [
    "logging.info(\"Saving event vocab\")\n",
    "save_event_vocab(event_vocab, \"mass_shootings\")"
   ]
  }
 ],
 "metadata": {
  "kernelspec": {
   "display_name": "pol_env",
   "language": "python",
   "name": "python3"
  },
  "language_info": {
   "codemirror_mode": {
    "name": "ipython",
    "version": 3
   },
   "file_extension": ".py",
   "mimetype": "text/x-python",
   "name": "python",
   "nbconvert_exporter": "python",
   "pygments_lexer": "ipython3",
   "version": "3.8.16"
  },
  "orig_nbformat": 4,
  "vscode": {
   "interpreter": {
    "hash": "0517ac6396832503edeb22d4ae2d55ad6af9f111efda9985705546d6640f6543"
   }
  }
 },
 "nbformat": 4,
 "nbformat_minor": 2
}
