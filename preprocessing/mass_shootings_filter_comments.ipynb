{
 "cells": [
  {
   "cell_type": "code",
   "execution_count": 1,
   "metadata": {},
   "outputs": [
    {
     "name": "stdout",
     "output_type": "stream",
     "text": [
      "/dss/dsshome1/03/di93fup/polarization_reddit\n"
     ]
    }
   ],
   "source": [
    "%load_ext autoreload\n",
    "%autoreload 2\n",
    "\n",
    "%cd '..'"
   ]
  },
  {
   "cell_type": "code",
   "execution_count": 2,
   "metadata": {},
   "outputs": [],
   "source": [
    "import logging\n",
    "# from datetime import datetime\n",
    "\n",
    "# date = datetime.now().strftime(\"%m_%d_%Y\")\n",
    "\n",
    "# logging.basicConfig(\n",
    "#     level=logging.INFO,\n",
    "#     format=\"%(asctime)s [%(levelname)s] %(message)s\",\n",
    "#     handlers=[\n",
    "#         logging.FileHandler(\n",
    "#             f\"data/logs/mass_shootings_filter_comments_notebook_{date}.log\"\n",
    "#         ),\n",
    "#         logging.StreamHandler(),\n",
    "#     ],\n",
    "# )\n"
   ]
  },
  {
   "cell_type": "code",
   "execution_count": 3,
   "metadata": {},
   "outputs": [],
   "source": [
    "import pandas as pd\n",
    "from tqdm import tqdm\n",
    "tqdm.pandas()\n",
    "\n",
    "from load.utils import (\n",
    "    load_df_from_parquet,\n",
    ")\n",
    "from preprocessing.utils import (\n",
    "    save_event_comments,\n",
    "    load_event_comments,\n",
    "    build_vocab,\n",
    "    save_event_vocab,\n",
    ")\n",
    "\n",
    "from preprocessing.constants import (\n",
    "    MASS_SHOOTINGS_EVENTS_INFO,\n",
    "    MASS_SHOOTINGS_KEYWORDS,\n",
    "    MIN_OCCURENCE_FOR_VOCAB,\n",
    "    get_event_regex,\n",
    ")"
   ]
  },
  {
   "cell_type": "code",
   "execution_count": 4,
   "metadata": {},
   "outputs": [],
   "source": [
    "YEARS = [2015, 2016, 2017, 2018]\n",
    "\n",
    "OVERALL_EVENT_NAME = \"mass_shootings\"\n",
    "EVENT_NAMES = list(MASS_SHOOTINGS_EVENTS_INFO.keys())\n",
    "\n",
    "MASS_SHOOTING_EVENTS_KEYWORDS = [\n",
    "    keyword\n",
    "    for event_name in EVENT_NAMES\n",
    "    for keyword in MASS_SHOOTINGS_EVENTS_INFO[event_name][\"keywords\"]\n",
    "]\n"
   ]
  },
  {
   "cell_type": "code",
   "execution_count": 5,
   "metadata": {},
   "outputs": [],
   "source": [
    "MASS_SHOOTING_REGEX = get_event_regex(\n",
    "    MASS_SHOOTINGS_KEYWORDS,\n",
    "    MASS_SHOOTING_EVENTS_KEYWORDS,\n",
    "    operator=\"and\",\n",
    ")\n",
    "\n",
    "logging.info(MASS_SHOOTING_REGEX)\n"
   ]
  },
  {
   "cell_type": "code",
   "execution_count": 6,
   "metadata": {},
   "outputs": [
    {
     "data": {
      "text/plain": [
       "'(?:shoot|gun|kil|attack|massacr|victim).*(?:charleston|chattanoog|umpqu|roseburg|colorado springs|plan par|san bernardino|kalamazoo|orlando|puls nightclub|dalla|baton roug|burlington|cascad mal|fort lauderd|fresno|up|san francisco|vega|harvest fest|mandalay bay|rout 91|thornton|walmart|denv|sutherland springs|parkland|mars stonem|nashvil|waffl hous|sant fe|annapol|capit gazet|pittsburgh|tre of lif|thousand oak)'"
      ]
     },
     "execution_count": 6,
     "metadata": {},
     "output_type": "execute_result"
    }
   ],
   "source": [
    "MASS_SHOOTING_REGEX"
   ]
  },
  {
   "attachments": {},
   "cell_type": "markdown",
   "metadata": {},
   "source": [
    "## Filter event comments"
   ]
  },
  {
   "cell_type": "code",
   "execution_count": 7,
   "metadata": {},
   "outputs": [],
   "source": [
    "logging.info(\"Load partisan comments\")\n",
    "partisan_comments = pd.concat(\n",
    "    [\n",
    "        load_df_from_parquet(\n",
    "            file_name=f\"user_partisan_comments_{year}.parquet\",\n",
    "        )\n",
    "        for year in YEARS\n",
    "    ]\n",
    ")\n"
   ]
  },
  {
   "cell_type": "code",
   "execution_count": 9,
   "metadata": {},
   "outputs": [],
   "source": [
    "logging.info(\"Filtering event data based on keywords...\")\n",
    "event_comments = partisan_comments[\n",
    "    partisan_comments[\"tokens\"].str.contains(\n",
    "        MASS_SHOOTING_REGEX,\n",
    "    )\n",
    "].copy()\n",
    "logging.info(\"finished keyword filtering\")\n"
   ]
  },
  {
   "cell_type": "code",
   "execution_count": 11,
   "metadata": {},
   "outputs": [],
   "source": [
    "logging.info(event_comments.shape)\n",
    "logging.info(event_comments.dtypes)"
   ]
  },
  {
   "cell_type": "code",
   "execution_count": 12,
   "metadata": {},
   "outputs": [],
   "source": [
    "del partisan_comments"
   ]
  },
  {
   "cell_type": "code",
   "execution_count": 14,
   "metadata": {},
   "outputs": [],
   "source": [
    "logging.info(f\"Nr of event comments: {len(event_comments)}\")"
   ]
  },
  {
   "cell_type": "code",
   "execution_count": 15,
   "metadata": {},
   "outputs": [],
   "source": [
    "logging.info(\"saving event comments...\")\n",
    "save_event_comments(event_comments, OVERALL_EVENT_NAME)"
   ]
  },
  {
   "attachments": {},
   "cell_type": "markdown",
   "metadata": {},
   "source": [
    "## Build event vocabulary"
   ]
  },
  {
   "cell_type": "code",
   "execution_count": 17,
   "metadata": {},
   "outputs": [],
   "source": [
    "# Read event data\n",
    "# events_comments = load_event_comments(\n",
    "#     OVERALL_EVENT_NAME,\n",
    "# )\n",
    "\n",
    "event_vocab = build_vocab(\n",
    "    event_comments[\"tokens\"],\n",
    "    min_comment_freq=MIN_OCCURENCE_FOR_VOCAB,\n",
    ")\n"
   ]
  },
  {
   "cell_type": "code",
   "execution_count": null,
   "metadata": {},
   "outputs": [],
   "source": [
    "logging.info(\"Vocabulary length\")\n",
    "logging.info(len(event_vocab))"
   ]
  },
  {
   "cell_type": "code",
   "execution_count": null,
   "metadata": {},
   "outputs": [],
   "source": [
    "logging.info(\"Saving event vocab\")\n",
    "save_event_vocab(event_vocab, OVERALL_EVENT_NAME)"
   ]
  }
 ],
 "metadata": {
  "kernelspec": {
   "display_name": "pol_env",
   "language": "python",
   "name": "python3"
  },
  "language_info": {
   "codemirror_mode": {
    "name": "ipython",
    "version": 3
   },
   "file_extension": ".py",
   "mimetype": "text/x-python",
   "name": "python",
   "nbconvert_exporter": "python",
   "pygments_lexer": "ipython3",
   "version": "3.8.16"
  },
  "orig_nbformat": 4,
  "vscode": {
   "interpreter": {
    "hash": "0517ac6396832503edeb22d4ae2d55ad6af9f111efda9985705546d6640f6543"
   }
  }
 },
 "nbformat": 4,
 "nbformat_minor": 2
}
