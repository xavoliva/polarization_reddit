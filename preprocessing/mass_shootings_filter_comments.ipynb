{
 "cells": [
  {
   "cell_type": "code",
   "execution_count": null,
   "metadata": {},
   "outputs": [],
   "source": [
    "%load_ext autoreload\n",
    "%autoreload 2\n",
    "\n",
    "%cd '..'"
   ]
  },
  {
   "cell_type": "code",
   "execution_count": null,
   "metadata": {},
   "outputs": [],
   "source": [
    "import logging\n",
    "import sys\n",
    "\n",
    "logging.basicConfig(\n",
    "    level=logging.INFO,\n",
    "    format=\"%(asctime)s [%(levelname)s] %(message)s\",\n",
    "    handlers=[\n",
    "        logging.FileHandler(\n",
    "            f\"data/logs/mass_shootings_filter_comments.log\"\n",
    "        ),\n",
    "        logging.StreamHandler(stream=sys.stdout),\n",
    "    ],\n",
    ")\n"
   ]
  },
  {
   "cell_type": "code",
   "execution_count": null,
   "metadata": {},
   "outputs": [],
   "source": [
    "import pandas as pd\n",
    "from tqdm import tqdm\n",
    "tqdm.pandas()\n",
    "\n",
    "from load.utils import (\n",
    "    load_df_from_parquet,\n",
    ")\n",
    "from preprocessing.utils import (\n",
    "    save_event_comments,\n",
    "    load_event_comments,\n",
    "    build_vocab,\n",
    "    save_event_vocab,\n",
    ")\n",
    "\n",
    "from preprocessing.constants import (\n",
    "    MASS_SHOOTINGS_EVENTS_INFO,\n",
    "    MASS_SHOOTINGS_KEYWORDS,\n",
    "    MIN_OCCURENCE_FOR_VOCAB,\n",
    "    get_event_regex,\n",
    ")"
   ]
  },
  {
   "cell_type": "code",
   "execution_count": null,
   "metadata": {},
   "outputs": [],
   "source": [
    "YEARS = [2015, 2016, 2017, 2018]\n",
    "\n",
    "OVERALL_EVENT_NAME = \"mass_shootings\"\n",
    "EVENT_NAMES = list(MASS_SHOOTINGS_EVENTS_INFO.keys())\n",
    "\n",
    "MASS_SHOOTING_EVENTS_KEYWORDS = [\n",
    "    keyword\n",
    "    for event_name in EVENT_NAMES\n",
    "    for keyword in MASS_SHOOTINGS_EVENTS_INFO[event_name][\"keywords\"]\n",
    "]\n"
   ]
  },
  {
   "cell_type": "code",
   "execution_count": null,
   "metadata": {},
   "outputs": [],
   "source": [
    "MASS_SHOOTING_REGEX_STRICT = get_event_regex(\n",
    "    MASS_SHOOTINGS_KEYWORDS,\n",
    "    MASS_SHOOTING_EVENTS_KEYWORDS,\n",
    "    operator=\"and\",\n",
    ")\n",
    "\n",
    "MASS_SHOOTING_REGEX_LOOSE = get_event_regex(\n",
    "    MASS_SHOOTINGS_KEYWORDS,\n",
    "    MASS_SHOOTING_EVENTS_KEYWORDS,\n",
    "    operator=\"or\",\n",
    ")\n",
    "\n",
    "logging.info(MASS_SHOOTING_REGEX_STRICT)\n",
    "logging.info(MASS_SHOOTING_REGEX_LOOSE)"
   ]
  },
  {
   "attachments": {},
   "cell_type": "markdown",
   "metadata": {},
   "source": [
    "## Filter event comments"
   ]
  },
  {
   "cell_type": "code",
   "execution_count": null,
   "metadata": {},
   "outputs": [],
   "source": [
    "logging.info(\"Load partisan comments\")\n",
    "partisan_comments_list = []\n",
    "for year in YEARS:\n",
    "    partisan_comments_year = load_df_from_parquet(\n",
    "        file_name=f\"user_partisan_comments_{year}.parquet\",\n",
    "    )\n",
    "\n",
    "    partisan_comments_year = partisan_comments_year[\n",
    "        partisan_comments_year[\"party\"].isin([\"dem\", \"rep\"])\n",
    "    ]\n",
    "\n",
    "    partisan_comments_list.append(partisan_comments_year)\n",
    "\n",
    "partisan_comments = pd.concat(partisan_comments_list, ignore_index=True)\n"
   ]
  },
  {
   "cell_type": "code",
   "execution_count": null,
   "metadata": {},
   "outputs": [],
   "source": [
    "logging.info(\"Filtering event data based on keywords...\")\n",
    "event_comments_loose = partisan_comments[\n",
    "    partisan_comments[\"tokens\"].str.contains(\n",
    "        MASS_SHOOTING_REGEX_LOOSE,\n",
    "    )\n",
    "].copy()\n",
    "logging.info(\"finished keyword filtering\")\n"
   ]
  },
  {
   "cell_type": "code",
   "execution_count": null,
   "metadata": {},
   "outputs": [],
   "source": [
    "logging.info(event_comments_loose.shape)\n",
    "logging.info(event_comments_loose.dtypes)"
   ]
  },
  {
   "cell_type": "code",
   "execution_count": null,
   "metadata": {},
   "outputs": [],
   "source": [
    "save_event_comments(event_comments_loose, OVERALL_EVENT_NAME + \"_loose\")"
   ]
  },
  {
   "cell_type": "code",
   "execution_count": null,
   "metadata": {},
   "outputs": [],
   "source": [
    "del partisan_comments"
   ]
  },
  {
   "cell_type": "code",
   "execution_count": null,
   "metadata": {},
   "outputs": [],
   "source": [
    "logging.info(\"Filtering event data based on keywords...\")\n",
    "event_comments = event_comments_loose[\n",
    "    event_comments_loose[\"tokens\"].str.contains(\n",
    "        MASS_SHOOTING_REGEX_STRICT,\n",
    "    )\n",
    "].copy()\n",
    "logging.info(\"finished keyword filtering\")\n"
   ]
  },
  {
   "cell_type": "code",
   "execution_count": null,
   "metadata": {},
   "outputs": [],
   "source": [
    "logging.info(event_comments.shape)\n",
    "logging.info(event_comments.dtypes)"
   ]
  },
  {
   "cell_type": "code",
   "execution_count": null,
   "metadata": {},
   "outputs": [],
   "source": [
    "logging.info(f\"Nr of event comments: {len(event_comments)}\")"
   ]
  },
  {
   "cell_type": "code",
   "execution_count": null,
   "metadata": {},
   "outputs": [],
   "source": [
    "logging.info(\"saving event comments...\")\n",
    "save_event_comments(event_comments, OVERALL_EVENT_NAME)"
   ]
  },
  {
   "attachments": {},
   "cell_type": "markdown",
   "metadata": {},
   "source": [
    "## Build event vocabulary"
   ]
  },
  {
   "cell_type": "code",
   "execution_count": null,
   "metadata": {},
   "outputs": [],
   "source": [
    "# Read event data\n",
    "# events_comments = load_event_comments(\n",
    "#     OVERALL_EVENT_NAME,\n",
    "# )\n",
    "\n",
    "event_vocab = build_vocab(\n",
    "    event_comments[\"tokens\"],\n",
    "    min_comment_freq=MIN_OCCURENCE_FOR_VOCAB,\n",
    ")\n"
   ]
  },
  {
   "cell_type": "code",
   "execution_count": null,
   "metadata": {},
   "outputs": [],
   "source": [
    "logging.info(\"Vocabulary length\")\n",
    "logging.info(len(event_vocab))"
   ]
  },
  {
   "cell_type": "code",
   "execution_count": null,
   "metadata": {},
   "outputs": [],
   "source": [
    "logging.info(\"Saving event vocab\")\n",
    "save_event_vocab(event_vocab, OVERALL_EVENT_NAME)"
   ]
  }
 ],
 "metadata": {
  "kernelspec": {
   "display_name": "pol_env",
   "language": "python",
   "name": "python3"
  },
  "language_info": {
   "codemirror_mode": {
    "name": "ipython",
    "version": 3
   },
   "file_extension": ".py",
   "mimetype": "text/x-python",
   "name": "python",
   "nbconvert_exporter": "python",
   "pygments_lexer": "ipython3",
   "version": "3.8.16"
  },
  "orig_nbformat": 4,
  "vscode": {
   "interpreter": {
    "hash": "0517ac6396832503edeb22d4ae2d55ad6af9f111efda9985705546d6640f6543"
   }
  }
 },
 "nbformat": 4,
 "nbformat_minor": 2
}
