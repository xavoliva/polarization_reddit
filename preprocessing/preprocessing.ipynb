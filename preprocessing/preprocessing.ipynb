{
 "cells": [
  {
   "cell_type": "code",
   "execution_count": 1,
   "metadata": {},
   "outputs": [
    {
     "name": "stdout",
     "output_type": "stream",
     "text": [
      "/home/xavi_oliva/Documents/Github/polarization_reddit\n"
     ]
    }
   ],
   "source": [
    "%load_ext autoreload\n",
    "%autoreload 2\n",
    "\n",
    "# %cd '/workspaces/polarization_reddit\n",
    "%cd '/home/xavi_oliva/Documents/Github/polarization_reddit'"
   ]
  },
  {
   "cell_type": "code",
   "execution_count": 2,
   "metadata": {},
   "outputs": [],
   "source": [
    "import time\n",
    "\n",
    "import pandas as pd\n",
    "import numpy as np\n",
    "\n",
    "# from load.utils import load_comments\n",
    "from load.utils import (\n",
    "    load_users,\n",
    "    load_user_party,\n",
    "    load_user_party_parquet,\n",
    "    load_subreddits,\n",
    "    load_comments,\n",
    "    save_df_as_json,\n",
    "    save_df_as_parquet,\n",
    "    load_comments_dask,\n",
    ")\n",
    "from preprocessing.utils import (\n",
    "    tokenize_comment,\n",
    "    calculate_user_party,\n",
    "    load_event_comments,\n",
    "    save_event_comments,\n",
    "    build_vocab,\n",
    "    save_event_vocab,\n",
    ")\n",
    "\n",
    "from preprocessing.constants import (\n",
    "    EVENTS_DIR,\n",
    "    ELECTIONS_REGEX,\n",
    "    MIN_OCCURENCE_FOR_VOCAB,\n",
    ")"
   ]
  },
  {
   "cell_type": "code",
   "execution_count": 3,
   "metadata": {},
   "outputs": [],
   "source": [
    "# from dask.distributed import Client, LocalCluster\n",
    "\n",
    "# cluster = LocalCluster(\n",
    "#     environ={\"MALLOC_TRIM_THRESHOLD_\": \"65536\"},\n",
    "#     processes=False,\n",
    "# )\n",
    "\n",
    "# client = Client(cluster)\n",
    "# print(client)\n"
   ]
  },
  {
   "cell_type": "code",
   "execution_count": 4,
   "metadata": {},
   "outputs": [],
   "source": [
    "YEAR = 2016\n",
    "START_MONTH = 1\n",
    "STOP_MONTH = 12\n",
    "\n",
    "EVENT_NAME = f\"us_election_{YEAR}\""
   ]
  },
  {
   "cell_type": "markdown",
   "metadata": {},
   "source": [
    "### User Affiliation"
   ]
  },
  {
   "cell_type": "code",
   "execution_count": 5,
   "metadata": {},
   "outputs": [],
   "source": [
    "subreddits = load_subreddits()"
   ]
  },
  {
   "cell_type": "code",
   "execution_count": 6,
   "metadata": {},
   "outputs": [],
   "source": [
    "# TODO: take into account network structure to find other partisan subreddits\n",
    "# which are not labeled\n",
    "# Filter partisan subreddits\n",
    "subreddits = subreddits[subreddits[\"party\"].isin({\"dem\", \"rep\"})]"
   ]
  },
  {
   "cell_type": "code",
   "execution_count": 7,
   "metadata": {},
   "outputs": [
    {
     "data": {
      "text/plain": [
       "party\n",
       "dem    43\n",
       "rep    19\n",
       "Name: subreddit, dtype: int64"
      ]
     },
     "execution_count": 7,
     "metadata": {},
     "output_type": "execute_result"
    }
   ],
   "source": [
    "subreddits.groupby(\"party\")[\"subreddit\"].count()"
   ]
  },
  {
   "cell_type": "code",
   "execution_count": 8,
   "metadata": {},
   "outputs": [
    {
     "name": "stdout",
     "output_type": "stream",
     "text": [
      "Load comments...\n"
     ]
    }
   ],
   "source": [
    "print(\"Load comments...\")\n",
    "\n",
    "comments = load_comments(\n",
    "    year=YEAR,\n",
    "    start_month=START_MONTH,\n",
    "    stop_month=START_MONTH,\n",
    ")\n"
   ]
  },
  {
   "cell_type": "code",
   "execution_count": 9,
   "metadata": {},
   "outputs": [
    {
     "name": "stdout",
     "output_type": "stream",
     "text": [
      "Merge party information to comments...\n"
     ]
    }
   ],
   "source": [
    "print(\"Merge party information to comments...\")\n",
    "comments_party = comments[[\"author\", \"subreddit\"]].merge(\n",
    "    subreddits[[\"subreddit\", \"party\"]],\n",
    "    on=\"subreddit\",\n",
    "    how=\"inner\",\n",
    ")"
   ]
  },
  {
   "cell_type": "code",
   "execution_count": 10,
   "metadata": {},
   "outputs": [
    {
     "name": "stdout",
     "output_type": "stream",
     "text": [
      "(419665, 3)\n"
     ]
    }
   ],
   "source": [
    "print(comments_party.shape)"
   ]
  },
  {
   "cell_type": "code",
   "execution_count": 11,
   "metadata": {},
   "outputs": [],
   "source": [
    "user_party = comments_party.groupby(by=\"author\").apply(\n",
    "    calculate_user_party,\n",
    "    # meta={\n",
    "    #     \"dem_cnt\": \"int\",\n",
    "    #     \"rep_cnt\": \"int\",\n",
    "    #     \"score\": \"int\",\n",
    "    #     \"party\": \"string\",\n",
    "    # },\n",
    ")\n",
    "user_party = user_party[user_party[\"score\"] != 0] # .compute()"
   ]
  },
  {
   "cell_type": "code",
   "execution_count": 12,
   "metadata": {},
   "outputs": [],
   "source": [
    "user_party = user_party.reset_index()\n",
    "user_party[\"author\"] = user_party[\"author\"].astype(\"string\")\n",
    "user_party[\"party\"] = user_party[\"party\"].astype(\"string\")"
   ]
  },
  {
   "cell_type": "code",
   "execution_count": 13,
   "metadata": {},
   "outputs": [
    {
     "name": "stdout",
     "output_type": "stream",
     "text": [
      "Nr of users: 44842\n",
      "party\n",
      "dem    39998\n",
      "rep     4844\n",
      "Name: author, dtype: int64\n"
     ]
    }
   ],
   "source": [
    "print(f\"Nr of users: {len(user_party)}\")\n",
    "\n",
    "print(user_party.groupby(by=\"party\")[\"author\"].count())"
   ]
  },
  {
   "cell_type": "code",
   "execution_count": 14,
   "metadata": {},
   "outputs": [
    {
     "data": {
      "text/html": [
       "<div>\n",
       "<style scoped>\n",
       "    .dataframe tbody tr th:only-of-type {\n",
       "        vertical-align: middle;\n",
       "    }\n",
       "\n",
       "    .dataframe tbody tr th {\n",
       "        vertical-align: top;\n",
       "    }\n",
       "\n",
       "    .dataframe thead th {\n",
       "        text-align: right;\n",
       "    }\n",
       "</style>\n",
       "<table border=\"1\" class=\"dataframe\">\n",
       "  <thead>\n",
       "    <tr style=\"text-align: right;\">\n",
       "      <th></th>\n",
       "      <th>author</th>\n",
       "      <th>dem_cnt</th>\n",
       "      <th>rep_cnt</th>\n",
       "      <th>score</th>\n",
       "      <th>party</th>\n",
       "    </tr>\n",
       "  </thead>\n",
       "  <tbody>\n",
       "    <tr>\n",
       "      <th>0</th>\n",
       "      <td>004Zf</td>\n",
       "      <td>10</td>\n",
       "      <td>0</td>\n",
       "      <td>10</td>\n",
       "      <td>dem</td>\n",
       "    </tr>\n",
       "    <tr>\n",
       "      <th>1</th>\n",
       "      <td>008gm</td>\n",
       "      <td>29</td>\n",
       "      <td>0</td>\n",
       "      <td>29</td>\n",
       "      <td>dem</td>\n",
       "    </tr>\n",
       "    <tr>\n",
       "      <th>2</th>\n",
       "      <td>00HJD</td>\n",
       "      <td>0</td>\n",
       "      <td>1</td>\n",
       "      <td>-1</td>\n",
       "      <td>rep</td>\n",
       "    </tr>\n",
       "    <tr>\n",
       "      <th>3</th>\n",
       "      <td>00LGm</td>\n",
       "      <td>1</td>\n",
       "      <td>0</td>\n",
       "      <td>1</td>\n",
       "      <td>dem</td>\n",
       "    </tr>\n",
       "    <tr>\n",
       "      <th>4</th>\n",
       "      <td>00NrE</td>\n",
       "      <td>1</td>\n",
       "      <td>0</td>\n",
       "      <td>1</td>\n",
       "      <td>dem</td>\n",
       "    </tr>\n",
       "  </tbody>\n",
       "</table>\n",
       "</div>"
      ],
      "text/plain": [
       "  author  dem_cnt  rep_cnt  score party\n",
       "0  004Zf       10        0     10   dem\n",
       "1  008gm       29        0     29   dem\n",
       "2  00HJD        0        1     -1   rep\n",
       "3  00LGm        1        0      1   dem\n",
       "4  00NrE        1        0      1   dem"
      ]
     },
     "execution_count": 14,
     "metadata": {},
     "output_type": "execute_result"
    }
   ],
   "source": [
    "user_party.head()"
   ]
  },
  {
   "cell_type": "code",
   "execution_count": 15,
   "metadata": {},
   "outputs": [],
   "source": [
    "save_df_as_parquet(\n",
    "    data=user_party,\n",
    "    target_file=f\"user_party_{YEAR}.parquet\",\n",
    ")"
   ]
  },
  {
   "attachments": {},
   "cell_type": "markdown",
   "metadata": {},
   "source": [
    "## Filter event comments"
   ]
  },
  {
   "cell_type": "code",
   "execution_count": 16,
   "metadata": {},
   "outputs": [],
   "source": [
    "# print(\"Load user party\")\n",
    "# user_party = load_user_party_parquet(year=YEAR)\n",
    "# comments = load_comments_dask(\n",
    "#     year=YEAR,\n",
    "#     start_month=START_MONTH,\n",
    "#     stop_month=STOP_MONTH,\n",
    "# )"
   ]
  },
  {
   "cell_type": "code",
   "execution_count": 17,
   "metadata": {},
   "outputs": [
    {
     "data": {
      "text/plain": [
       "(1774802, 16)"
      ]
     },
     "execution_count": 17,
     "metadata": {},
     "output_type": "execute_result"
    }
   ],
   "source": [
    "comments.shape"
   ]
  },
  {
   "cell_type": "code",
   "execution_count": 18,
   "metadata": {},
   "outputs": [],
   "source": [
    "user_comments = comments.merge(\n",
    "    user_party,\n",
    "    right_on=\"author\",\n",
    "    left_on=\"author\",\n",
    "    how=\"inner\",\n",
    ")\n",
    "\n",
    "# Filter event data based on keywords\n",
    "event_comments = user_comments[\n",
    "    user_comments[\"body_cleaned\"].str.contains(\n",
    "        ELECTIONS_REGEX[YEAR],\n",
    "        regex=True,\n",
    "    )\n",
    "]"
   ]
  },
  {
   "attachments": {},
   "cell_type": "markdown",
   "metadata": {},
   "source": [
    "## Tokenize and stem comments"
   ]
  },
  {
   "cell_type": "code",
   "execution_count": 19,
   "metadata": {},
   "outputs": [
    {
     "name": "stderr",
     "output_type": "stream",
     "text": [
      "/tmp/ipykernel_29017/2372109468.py:1: SettingWithCopyWarning: \n",
      "A value is trying to be set on a copy of a slice from a DataFrame.\n",
      "Try using .loc[row_indexer,col_indexer] = value instead\n",
      "\n",
      "See the caveats in the documentation: https://pandas.pydata.org/pandas-docs/stable/user_guide/indexing.html#returning-a-view-versus-a-copy\n",
      "  event_comments[\"tokens\"] = event_comments[\"body_cleaned\"].apply(\n"
     ]
    }
   ],
   "source": [
    "event_comments[\"tokens\"] = event_comments[\"body_cleaned\"].apply(\n",
    "    tokenize_comment,\n",
    "    # meta=(\"tokens\", \"string\"),\n",
    ") # .persist()"
   ]
  },
  {
   "cell_type": "code",
   "execution_count": 22,
   "metadata": {},
   "outputs": [
    {
     "name": "stdout",
     "output_type": "stream",
     "text": [
      "Nr of event comments: 460413\n"
     ]
    }
   ],
   "source": [
    "print(f\"Nr of event comments: {len(event_comments)}\")"
   ]
  },
  {
   "cell_type": "code",
   "execution_count": 24,
   "metadata": {},
   "outputs": [],
   "source": [
    "save_event_comments(event_comments, EVENT_NAME, file_type=\"parquet\")"
   ]
  },
  {
   "attachments": {},
   "cell_type": "markdown",
   "metadata": {},
   "source": [
    "## Build event vocabulary"
   ]
  },
  {
   "cell_type": "code",
   "execution_count": 25,
   "metadata": {},
   "outputs": [],
   "source": [
    "# Read event data\n",
    "# events_comments= load_event_comments(event_comments, EVENT_NAME, file_type=\"parquet\")\n",
    "\n",
    "event_vocab = build_vocab(\n",
    "    event_comments[\"tokens\"],\n",
    "    min_words=MIN_OCCURENCE_FOR_VOCAB,\n",
    ")"
   ]
  },
  {
   "cell_type": "code",
   "execution_count": 26,
   "metadata": {},
   "outputs": [
    {
     "name": "stdout",
     "output_type": "stream",
     "text": [
      "116044\n"
     ]
    }
   ],
   "source": [
    "print(len(event_vocab))"
   ]
  },
  {
   "cell_type": "code",
   "execution_count": 27,
   "metadata": {},
   "outputs": [],
   "source": [
    "save_event_vocab(event_vocab, EVENT_NAME)"
   ]
  }
 ],
 "metadata": {
  "kernelspec": {
   "display_name": "venv",
   "language": "python",
   "name": "python3"
  },
  "language_info": {
   "codemirror_mode": {
    "name": "ipython",
    "version": 3
   },
   "file_extension": ".py",
   "mimetype": "text/x-python",
   "name": "python",
   "nbconvert_exporter": "python",
   "pygments_lexer": "ipython3",
   "version": "3.10.7"
  },
  "orig_nbformat": 4,
  "vscode": {
   "interpreter": {
    "hash": "7bb678609bd7aa4cbc020864cd9aa743fd9a397eb61b4fce72b1c71fcd49d728"
   }
  }
 },
 "nbformat": 4,
 "nbformat_minor": 2
}
