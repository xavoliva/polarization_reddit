{
 "cells": [
  {
   "cell_type": "code",
   "execution_count": 6,
   "metadata": {},
   "outputs": [
    {
     "name": "stdout",
     "output_type": "stream",
     "text": [
      "The autoreload extension is already loaded. To reload it, use:\n",
      "  %reload_ext autoreload\n",
      "/workspaces/polarization_reddit\n"
     ]
    }
   ],
   "source": [
    "%load_ext autoreload\n",
    "%autoreload 2\n",
    "%cd '/workspaces/polarization_reddit'"
   ]
  },
  {
   "cell_type": "code",
   "execution_count": 31,
   "metadata": {},
   "outputs": [],
   "source": [
    "import numpy as np\n",
    "\n",
    "from word_partisanship.utils import (\n",
    "    logodds_with_prior,\n",
    ")\n",
    "from preprocessing.utils import (\n",
    "    split_by_party,\n",
    "    load_event_comments,\n",
    "    build_vocab,\n",
    "    build_term_vector,\n",
    ")\n"
   ]
  },
  {
   "cell_type": "code",
   "execution_count": 8,
   "metadata": {},
   "outputs": [],
   "source": [
    "YEAR = 2016\n",
    "\n",
    "EVENT_NAME = f\"us_election_{YEAR}\"\n",
    "\n",
    "N_DISPLAY = 25"
   ]
  },
  {
   "cell_type": "code",
   "execution_count": 9,
   "metadata": {},
   "outputs": [],
   "source": [
    "# Read event data\n",
    "event_comments= load_event_comments(EVENT_NAME, file_type=\"parquet\")\n",
    "\n",
    "dem_comments, rep_comments = split_by_party(event_comments)"
   ]
  },
  {
   "cell_type": "code",
   "execution_count": 48,
   "metadata": {},
   "outputs": [
    {
     "name": "stdout",
     "output_type": "stream",
     "text": [
      "(5964, 21)\n",
      "665924 665924 665924\n"
     ]
    }
   ],
   "source": [
    "vocab = build_vocab(event_comments[\"tokens\"], min_words=1)\n",
    "\n",
    "term_vec = build_term_vector(event_comments[\"tokens\"], vocab)\n",
    "dem_term_vec = build_term_vector(dem_comments[\"tokens\"], vocab)\n",
    "rep_term_vec = build_term_vector(rep_comments[\"tokens\"], vocab)\n",
    "\n",
    "logodds = logodds_with_prior(\n",
    "    term_vec,\n",
    "    dem_term_vec,\n",
    "    dem_term_vec,\n",
    ")"
   ]
  },
  {
   "cell_type": "code",
   "execution_count": 43,
   "metadata": {},
   "outputs": [],
   "source": [
    "sorted_ind = np.argsort(logodds)\n",
    "sorted_vocab = np.array(sorted(vocab, key=vocab.get))"
   ]
  },
  {
   "cell_type": "code",
   "execution_count": 44,
   "metadata": {},
   "outputs": [
    {
     "name": "stdout",
     "output_type": "stream",
     "text": [
      "Democrat tokens\n",
      "['gdp ev' 'gdp espec' 'gdp by' 'gdp becom' 'gdp as' 'gdp abov' 'gdp'\n",
      " 'gbr city' 'gbr' 'gay to' 'gay us' 'gay vs' 'gay was' 'gaymarry'\n",
      " 'gaymarry direct' 'gay stupid' 'gaypl' 'gayspez' 'gaz' 'gaz strip' 'gb'\n",
      " 'gb gbr' 'gb latitud' 'gaypl let' 'وصحبه وسلم']\n"
     ]
    }
   ],
   "source": [
    "print(\"Democrat tokens\")\n",
    "print(sorted_vocab[sorted_ind[-N_DISPLAY:]])"
   ]
  },
  {
   "cell_type": "code",
   "execution_count": 45,
   "metadata": {},
   "outputs": [
    {
     "name": "stdout",
     "output_type": "stream",
     "text": [
      "Republican tokens\n",
      "['00' 'process was' 'process unfortun' 'process toward' 'process to'\n",
      " 'process thos' 'process think' 'process thing' 'process thi'\n",
      " 'process they' 'process ther' 'process the' 'process that'\n",
      " 'process sometim' 'process softw' 'process when' 'process so'\n",
      " 'process reflect' 'process or' 'process on' 'process of'\n",
      " 'process nevertheless' 'process nee' 'process lat' 'process just']\n"
     ]
    }
   ],
   "source": [
    "print(\"Republican tokens\")\n",
    "print(sorted_vocab[sorted_ind[:N_DISPLAY]])\n"
   ]
  }
 ],
 "metadata": {
  "kernelspec": {
   "display_name": "Python 3",
   "language": "python",
   "name": "python3"
  },
  "language_info": {
   "codemirror_mode": {
    "name": "ipython",
    "version": 3
   },
   "file_extension": ".py",
   "mimetype": "text/x-python",
   "name": "python",
   "nbconvert_exporter": "python",
   "pygments_lexer": "ipython3",
   "version": "3.10.4"
  },
  "orig_nbformat": 4,
  "vscode": {
   "interpreter": {
    "hash": "3ad933181bd8a04b432d3370b9dc3b0662ad032c4dfaa4e4f1596c548f763858"
   }
  }
 },
 "nbformat": 4,
 "nbformat_minor": 2
}
