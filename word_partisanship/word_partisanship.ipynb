{
 "cells": [
  {
   "cell_type": "code",
   "execution_count": null,
   "metadata": {},
   "outputs": [],
   "source": [
    "%load_ext autoreload\n",
    "%autoreload 2\n",
    "\n",
    "%cd '..'"
   ]
  },
  {
   "cell_type": "code",
   "execution_count": null,
   "metadata": {},
   "outputs": [],
   "source": [
    "import json\n",
    "\n",
    "import numpy as np\n",
    "\n",
    "from word_partisanship.utils import (\n",
    "    logodds_with_prior,\n",
    ")\n",
    "from preprocessing.utils import (\n",
    "    split_by_party,\n",
    "    load_event_comments,\n",
    "    build_vocab,\n",
    "    build_term_vector,\n",
    ")\n",
    "from preprocessing.constants import OUTPUT_DIR"
   ]
  },
  {
   "cell_type": "code",
   "execution_count": null,
   "metadata": {},
   "outputs": [],
   "source": [
    "YEAR = 2016\n",
    "\n",
    "EVENT_NAME = f\"us_elections_{YEAR}\"\n",
    "\n",
    "N_DISPLAY = 50"
   ]
  },
  {
   "cell_type": "code",
   "execution_count": null,
   "metadata": {},
   "outputs": [],
   "source": [
    "# Read event data\n",
    "event_comments = load_event_comments(\n",
    "    EVENT_NAME,\n",
    "    backend=\"polars\",\n",
    ")\n"
   ]
  },
  {
   "cell_type": "code",
   "execution_count": null,
   "metadata": {},
   "outputs": [],
   "source": [
    "dem_comments, rep_comments = split_by_party(\n",
    "    event_comments,\n",
    "    backend=\"polars\",\n",
    ")\n"
   ]
  },
  {
   "cell_type": "code",
   "execution_count": null,
   "metadata": {},
   "outputs": [],
   "source": [
    "print(dem_comments.shape)\n",
    "print(rep_comments.shape)"
   ]
  },
  {
   "cell_type": "code",
   "execution_count": null,
   "metadata": {},
   "outputs": [],
   "source": [
    "event_comments = event_comments.to_pandas()\n",
    "dem_comments = dem_comments.to_pandas()\n",
    "rep_comments = rep_comments.to_pandas()\n"
   ]
  },
  {
   "cell_type": "code",
   "execution_count": null,
   "metadata": {},
   "outputs": [],
   "source": [
    "print(\"Building vocabulary...\")\n",
    "vocab = build_vocab(event_comments[\"tokens\"], min_comment_freq=1)\n",
    "\n",
    "print(\"Building term vectors...\")\n",
    "term_vec = build_term_vector(event_comments[\"tokens\"], vocab)\n",
    "dem_term_vec = build_term_vector(dem_comments[\"tokens\"], vocab)\n",
    "rep_term_vec = build_term_vector(rep_comments[\"tokens\"], vocab)\n",
    "\n",
    "print(\"Calculating loggodds...\")\n",
    "logodds = logodds_with_prior(\n",
    "    term_vec,\n",
    "    dem_term_vec,\n",
    "    rep_term_vec,\n",
    ")"
   ]
  },
  {
   "cell_type": "code",
   "execution_count": null,
   "metadata": {},
   "outputs": [],
   "source": [
    "sorted_ind = np.argsort(logodds)\n",
    "# sort vocabulary by index\n",
    "sorted_vocab = np.array(sorted(vocab, key=vocab.get))"
   ]
  },
  {
   "cell_type": "code",
   "execution_count": null,
   "metadata": {},
   "outputs": [],
   "source": [
    "print(\"Democrat tokens\")\n",
    "dem_idiosyncratic_tokens = list(sorted_vocab[sorted_ind[-N_DISPLAY:]])\n",
    "print(dem_idiosyncratic_tokens)\n",
    "\n",
    "with open(f\"{OUTPUT_DIR}/{EVENT_NAME}_dem_idiosyncratic_tokens.json\", \"w\") as f:\n",
    "    json.dump(dem_idiosyncratic_tokens, f)\n"
   ]
  },
  {
   "cell_type": "code",
   "execution_count": null,
   "metadata": {},
   "outputs": [],
   "source": [
    "print(\"Republican tokens\")\n",
    "rep_idiosyncratic_tokens = list(sorted_vocab[sorted_ind[:N_DISPLAY]])\n",
    "print(rep_idiosyncratic_tokens)\n",
    "\n",
    "with open(f\"{OUTPUT_DIR}/{EVENT_NAME}_rep_idiosyncratic_tokens.json\", \"w\") as f:\n",
    "    json.dump(rep_idiosyncratic_tokens, f)"
   ]
  }
 ],
 "metadata": {
  "kernelspec": {
   "display_name": "pol_env",
   "language": "python",
   "name": "python3"
  },
  "language_info": {
   "codemirror_mode": {
    "name": "ipython",
    "version": 3
   },
   "file_extension": ".py",
   "mimetype": "text/x-python",
   "name": "python",
   "nbconvert_exporter": "python",
   "pygments_lexer": "ipython3",
   "version": "3.8.16"
  },
  "orig_nbformat": 4,
  "vscode": {
   "interpreter": {
    "hash": "0517ac6396832503edeb22d4ae2d55ad6af9f111efda9985705546d6640f6543"
   }
  }
 },
 "nbformat": 4,
 "nbformat_minor": 2
}
