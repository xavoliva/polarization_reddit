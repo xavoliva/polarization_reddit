{
 "cells": [
  {
   "cell_type": "code",
   "execution_count": null,
   "metadata": {},
   "outputs": [],
   "source": [
    "%load_ext autoreload\n",
    "%autoreload 2\n",
    "\n",
    "%cd '..'"
   ]
  },
  {
   "cell_type": "code",
   "execution_count": null,
   "metadata": {},
   "outputs": [],
   "source": [
    "import json\n",
    "\n",
    "import numpy as np\n",
    "from tqdm import tqdm\n",
    "tqdm.pandas()\n",
    "\n",
    "from word_partisanship.utils import (\n",
    "    logodds_with_prior,\n",
    ")\n",
    "from preprocessing.utils import (\n",
    "    split_by_party,\n",
    "    load_event_comments,\n",
    "    build_term_vector,\n",
    "    load_event_vocab,\n",
    ")\n",
    "from preprocessing.constants import OUTPUT_DIR\n"
   ]
  },
  {
   "cell_type": "code",
   "execution_count": null,
   "metadata": {},
   "outputs": [],
   "source": [
    "import logging\n",
    "import sys\n",
    "\n",
    "logging.basicConfig(\n",
    "    level=logging.INFO,\n",
    "    format=\"%(asctime)s [%(levelname)s] %(message)s\",\n",
    "    handlers=[\n",
    "        logging.FileHandler(\"data/logs/word_partisanship.log\"),\n",
    "        logging.StreamHandler(stream=sys.stdout)\n",
    "    ]\n",
    ")"
   ]
  },
  {
   "cell_type": "code",
   "execution_count": null,
   "metadata": {},
   "outputs": [],
   "source": [
    "THEME = \"elections\"\n",
    "\n",
    "EVENT_NAMES = [\n",
    "    \"us_elections_2016\",\n",
    "    \"us_midterms_2018\",\n",
    "]\n",
    "\n",
    "N_DISPLAY = 50\n",
    "\n",
    "NGRAM_RANGE = (1, 2)"
   ]
  },
  {
   "cell_type": "code",
   "execution_count": null,
   "metadata": {},
   "outputs": [],
   "source": [
    "for event_name in EVENT_NAMES:\n",
    "    # Read event data\n",
    "    logging.info(f\"Loading event data {event_name}...\")\n",
    "    event_comments = load_event_comments(theme=THEME, event_name=event_name)\n",
    "    event_vocab = load_event_vocab(theme=THEME, event_name=event_name)\n",
    "\n",
    "    # sort vocabulary tokens by index\n",
    "    ind_to_token = {v: k for k, v in event_vocab.items()}\n",
    "\n",
    "    dem_comments, rep_comments = split_by_party(\n",
    "        comments=event_comments,\n",
    "    )\n",
    "\n",
    "    logging.info(dem_comments.shape)\n",
    "    logging.info(rep_comments.shape)\n",
    "\n",
    "    tokens = event_comments[\"tokens\"]\n",
    "    dem_tokens = dem_comments[\"tokens\"]\n",
    "    rep_tokens = rep_comments[\"tokens\"]\n",
    "\n",
    "    logging.info(\"Building overall term vector...\")\n",
    "    overall_term_vec = build_term_vector(\n",
    "        tokens, ngram_range=NGRAM_RANGE, vocab=event_vocab\n",
    "    )\n",
    "    logging.info(\"Building dem term vector...\")\n",
    "    dem_term_vec = build_term_vector(\n",
    "        dem_tokens, ngram_range=NGRAM_RANGE, vocab=event_vocab\n",
    "    )\n",
    "    logging.info(\"Building rep term vector...\")\n",
    "    rep_term_vec = build_term_vector(\n",
    "        rep_tokens, ngram_range=NGRAM_RANGE, vocab=event_vocab\n",
    "    )\n",
    "\n",
    "    logging.info(\"Calculating loggodds...\")\n",
    "    logodds = logodds_with_prior(\n",
    "        overall_term_vec,\n",
    "        dem_term_vec,\n",
    "        rep_term_vec,\n",
    "        zscore=True,\n",
    "    )\n",
    "\n",
    "    # Get top token indices\n",
    "    sorted_logodds_indices = np.argsort(logodds)\n",
    "\n",
    "    idiosyncratic_tokens = {}\n",
    "\n",
    "    logging.info(\"Democrat tokens\")\n",
    "    dem_idiosyncratic_tokens = [\n",
    "        (ind_to_token[index], logodds[index])\n",
    "        for index in reversed(sorted_logodds_indices[-N_DISPLAY:])\n",
    "    ]\n",
    "    logging.info(dem_idiosyncratic_tokens)\n",
    "\n",
    "    idiosyncratic_tokens[\"dem\"] = dem_idiosyncratic_tokens\n",
    "\n",
    "    logging.info(\"Republican tokens\")\n",
    "    rep_idiosyncratic_tokens = [\n",
    "        (ind_to_token[index], logodds[index])\n",
    "        for index in sorted_logodds_indices[:N_DISPLAY]\n",
    "    ]\n",
    "    logging.info(rep_idiosyncratic_tokens)\n",
    "\n",
    "    idiosyncratic_tokens[\"rep\"] = rep_idiosyncratic_tokens\n",
    "\n",
    "    with open(f\"{OUTPUT_DIR}/{event_name}_idiosyncratic_tokens.json\", \"w\") as f:\n",
    "        json.dump(idiosyncratic_tokens, f)\n"
   ]
  }
 ],
 "metadata": {
  "kernelspec": {
   "display_name": "pol_env",
   "language": "python",
   "name": "python3"
  },
  "language_info": {
   "codemirror_mode": {
    "name": "ipython",
    "version": 3
   },
   "file_extension": ".py",
   "mimetype": "text/x-python",
   "name": "python",
   "nbconvert_exporter": "python",
   "pygments_lexer": "ipython3",
   "version": "3.8.16"
  },
  "orig_nbformat": 4,
  "vscode": {
   "interpreter": {
    "hash": "0517ac6396832503edeb22d4ae2d55ad6af9f111efda9985705546d6640f6543"
   }
  }
 },
 "nbformat": 4,
 "nbformat_minor": 2
}
