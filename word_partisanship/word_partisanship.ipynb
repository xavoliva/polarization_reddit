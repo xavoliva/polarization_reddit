{
 "cells": [
  {
   "cell_type": "code",
   "execution_count": null,
   "metadata": {},
   "outputs": [],
   "source": [
    "%load_ext autoreload\n",
    "%autoreload 2\n",
    "%cd '/workspaces/polarization_reddit'"
   ]
  },
  {
   "cell_type": "code",
   "execution_count": null,
   "metadata": {},
   "outputs": [],
   "source": [
    "from heapq import nlargest, nsmallest\n",
    "\n",
    "from word_partisanship.logodds_with_prior import (\n",
    "    logodds_with_prior,\n",
    "    get_priors,\n",
    ")\n",
    "from preprocessing.utils import (\n",
    "    split_by_party,\n",
    "    load_event_comments,\n",
    ")\n"
   ]
  },
  {
   "cell_type": "code",
   "execution_count": null,
   "metadata": {},
   "outputs": [],
   "source": [
    "YEAR = 2016\n",
    "\n",
    "EVENT_NAME = f\"us_election_{YEAR}\""
   ]
  },
  {
   "cell_type": "code",
   "execution_count": null,
   "metadata": {},
   "outputs": [],
   "source": [
    "# Read event data\n",
    "events_comments= load_event_comments(event_comments, event_name)\n",
    "\n",
    "dem_comments, rep_comments = split_by_party(event_comments)"
   ]
  },
  {
   "cell_type": "code",
   "execution_count": null,
   "metadata": {},
   "outputs": [],
   "source": [
    "vocab = build_vocab(event_comments[\"tokens\"], min_words=1)\n",
    "dem_vocab = build_vocab(dem_comments[\"tokens\"], min_words=1)\n",
    "rep_vocab = build_vocab(rep_comments[\"tokens\"], min_words=1)\n",
    "\n",
    "logodds = logodds_with_prior(\n",
    "    vocab,\n",
    "    dem_vocab,\n",
    "    dem_vocab,\n",
    ")\n"
   ]
  },
  {
   "cell_type": "code",
   "execution_count": null,
   "metadata": {},
   "outputs": [],
   "source": [
    "print(\"Democrat tokens\")\n",
    "print(nlargest(25, logodds, key=logodds.get))"
   ]
  },
  {
   "cell_type": "code",
   "execution_count": null,
   "metadata": {},
   "outputs": [],
   "source": [
    "print(\"Republican tokens\")\n",
    "print(nsmallest(display, logodds, key=logodds.get))"
   ]
  }
 ],
 "metadata": {
  "kernelspec": {
   "display_name": "Python 3",
   "language": "python",
   "name": "python3"
  },
  "language_info": {
   "codemirror_mode": {
    "name": "ipython",
    "version": 3
   },
   "file_extension": ".py",
   "mimetype": "text/x-python",
   "name": "python",
   "nbconvert_exporter": "python",
   "pygments_lexer": "ipython3",
   "version": "3.10.4 (main, Nov 29 2022, 20:00:25) [GCC 9.4.0]"
  },
  "orig_nbformat": 4,
  "vscode": {
   "interpreter": {
    "hash": "3ad933181bd8a04b432d3370b9dc3b0662ad032c4dfaa4e4f1596c548f763858"
   }
  }
 },
 "nbformat": 4,
 "nbformat_minor": 2
}
