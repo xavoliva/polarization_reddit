{
 "cells": [
  {
   "cell_type": "code",
   "execution_count": null,
   "metadata": {},
   "outputs": [],
   "source": [
    "%load_ext autoreload\n",
    "%autoreload 2\n",
    "\n",
    "%cd '..'"
   ]
  },
  {
   "cell_type": "code",
   "execution_count": null,
   "metadata": {},
   "outputs": [],
   "source": [
    "import json\n",
    "\n",
    "import numpy as np\n",
    "\n",
    "from word_partisanship.utils import (\n",
    "    logodds_with_prior,\n",
    ")\n",
    "from preprocessing.utils import (\n",
    "    split_by_party,\n",
    "    load_event_comments,\n",
    "    load_event_vocab,\n",
    "    build_term_vector,\n",
    ")\n",
    "from preprocessing.constants import OUTPUT_DIR"
   ]
  },
  {
   "cell_type": "code",
   "execution_count": null,
   "metadata": {},
   "outputs": [],
   "source": [
    "import logging\n",
    "import sys\n",
    "\n",
    "logging.basicConfig(\n",
    "    level=logging.INFO,\n",
    "    format=\"%(asctime)s [%(levelname)s] %(message)s\",\n",
    "    handlers=[\n",
    "        logging.FileHandler(\"data/logs/word_partisanship.log\"),\n",
    "        logging.StreamHandler(stream=sys.stdout)\n",
    "    ]\n",
    ")"
   ]
  },
  {
   "cell_type": "code",
   "execution_count": null,
   "metadata": {},
   "outputs": [],
   "source": [
    "YEAR = 2016\n",
    "\n",
    "EVENT_NAME = f\"us_elections_{YEAR}\"\n",
    "\n",
    "N_DISPLAY = 50"
   ]
  },
  {
   "cell_type": "code",
   "execution_count": null,
   "metadata": {},
   "outputs": [],
   "source": [
    "# Read event data\n",
    "event_comments = load_event_comments(event_name=EVENT_NAME)\n",
    "event_vocab = load_event_vocab(event_name=EVENT_NAME)\n"
   ]
  },
  {
   "cell_type": "code",
   "execution_count": null,
   "metadata": {},
   "outputs": [],
   "source": [
    "dem_comments, rep_comments = split_by_party(\n",
    "    comments=event_comments,\n",
    ")\n"
   ]
  },
  {
   "cell_type": "code",
   "execution_count": null,
   "metadata": {},
   "outputs": [],
   "source": [
    "logging.info(dem_comments.shape)\n",
    "logging.info(rep_comments.shape)"
   ]
  },
  {
   "cell_type": "code",
   "execution_count": null,
   "metadata": {},
   "outputs": [],
   "source": [
    "logging.info(\"Building overall term vector...\")\n",
    "term_vec = build_term_vector(event_comments[\"tokens\"], event_vocab)\n",
    "logging.info(\"Building dem term vector...\")\n",
    "dem_term_vec = build_term_vector(dem_comments[\"tokens\"], event_vocab)\n",
    "logging.info(\"Building rep term vector...\")\n",
    "rep_term_vec = build_term_vector(rep_comments[\"tokens\"], event_vocab)\n",
    "\n",
    "logging.info(\"Calculating loggodds...\")\n",
    "logodds = logodds_with_prior(\n",
    "    term_vec,\n",
    "    dem_term_vec,\n",
    "    rep_term_vec,\n",
    ")\n"
   ]
  },
  {
   "cell_type": "code",
   "execution_count": null,
   "metadata": {},
   "outputs": [],
   "source": [
    "# Get top token indices\n",
    "sorted_logodds_indices = np.argsort(logodds)"
   ]
  },
  {
   "cell_type": "code",
   "execution_count": null,
   "metadata": {},
   "outputs": [],
   "source": [
    "# sort vocabulary tokens by index\n",
    "vocab_tokens = np.array(\n",
    "    [\n",
    "        key\n",
    "        for key, _ in sorted(\n",
    "            event_vocab.items(),\n",
    "            key=lambda item: item[1],\n",
    "        )\n",
    "    ]\n",
    ")\n"
   ]
  },
  {
   "cell_type": "code",
   "execution_count": null,
   "metadata": {},
   "outputs": [],
   "source": [
    "logging.info(\"Democrat tokens\")\n",
    "dem_idiosyncratic_tokens = list(vocab_tokens[sorted_logodds_indices[-N_DISPLAY:]])\n",
    "logging.info(dem_idiosyncratic_tokens)\n",
    "\n",
    "with open(f\"{OUTPUT_DIR}/{EVENT_NAME}_dem_idiosyncratic_tokens.json\", \"w\") as f:\n",
    "    json.dump(dem_idiosyncratic_tokens, f)\n"
   ]
  },
  {
   "cell_type": "code",
   "execution_count": null,
   "metadata": {},
   "outputs": [],
   "source": [
    "logging.info(\"Republican tokens\")\n",
    "rep_idiosyncratic_tokens = list(vocab_tokens[sorted_logodds_indices[:N_DISPLAY]])\n",
    "logging.info(rep_idiosyncratic_tokens)\n",
    "\n",
    "with open(f\"{OUTPUT_DIR}/{EVENT_NAME}_rep_idiosyncratic_tokens.json\", \"w\") as f:\n",
    "    json.dump(rep_idiosyncratic_tokens, f)\n"
   ]
  }
 ],
 "metadata": {
  "kernelspec": {
   "display_name": "pol_env",
   "language": "python",
   "name": "python3"
  },
  "language_info": {
   "codemirror_mode": {
    "name": "ipython",
    "version": 3
   },
   "file_extension": ".py",
   "mimetype": "text/x-python",
   "name": "python",
   "nbconvert_exporter": "python",
   "pygments_lexer": "ipython3",
   "version": "3.8.16"
  },
  "orig_nbformat": 4,
  "vscode": {
   "interpreter": {
    "hash": "0517ac6396832503edeb22d4ae2d55ad6af9f111efda9985705546d6640f6543"
   }
  }
 },
 "nbformat": 4,
 "nbformat_minor": 2
}
