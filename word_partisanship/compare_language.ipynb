{
 "cells": [
  {
   "cell_type": "code",
   "execution_count": null,
   "metadata": {},
   "outputs": [],
   "source": [
    "%load_ext autoreload\n",
    "%autoreload 2\n",
    "%cd '/workspaces/polarization_reddit'"
   ]
  },
  {
   "cell_type": "code",
   "execution_count": null,
   "metadata": {},
   "outputs": [],
   "source": [
    "from word_partisanship.logodds_with_prior import logodds_with_prior\n",
    "from preprocessing.utils import split_by_party, load_event_comments, tokenize_comment"
   ]
  },
  {
   "cell_type": "code",
   "execution_count": null,
   "metadata": {},
   "outputs": [],
   "source": [
    "event = \"brexit\""
   ]
  },
  {
   "cell_type": "code",
   "execution_count": null,
   "metadata": {},
   "outputs": [],
   "source": [
    "event_comments = load_event_comments(event)\n",
    "dem_comments, rep_comments = split_political_affiliation(event_comments)"
   ]
  },
  {
   "cell_type": "code",
   "execution_count": null,
   "metadata": {},
   "outputs": [],
   "source": [
    "dem_tokens = []\n",
    "rep_tokens = []\n",
    "\n",
    "for comment in dem_comments[\"body_cleaned\"]:\n",
    "    tokens = tokenize_comment(comment, remove_stopwords=False, stemmer=False)\n",
    "    bigrams = [f\"{tokens[i-1]} {w}\" for i, w in enumerate(tokens)]\n",
    "    dem_tokens.extend(tokens + bigrams)\n",
    "\n",
    "for comment in rep_comments[\"body_cleaned\"]:\n",
    "    tokens = tokenize_comment(comment, remove_stopwords=False, stemmer=False)\n",
    "    bigrams = [f\"{tokens[i-1]} {w}\" for i, w in enumerate(tokens)]\n",
    "    rep_tokens.extend(tokens + bigrams)\n",
    "\n",
    "\n",
    "dem_tokens, rep_tokens = logodds_with_prior(dem_tokens, rep_tokens)\n"
   ]
  },
  {
   "cell_type": "code",
   "execution_count": null,
   "metadata": {},
   "outputs": [],
   "source": [
    "print(\"Democrat tokens\")\n",
    "print(dem_tokens)"
   ]
  },
  {
   "cell_type": "code",
   "execution_count": null,
   "metadata": {},
   "outputs": [],
   "source": [
    "print(\"Republican tokens\")\n",
    "print(rep_tokens)"
   ]
  }
 ],
 "metadata": {
  "kernelspec": {
   "display_name": "Python 3",
   "language": "python",
   "name": "python3"
  },
  "language_info": {
   "codemirror_mode": {
    "name": "ipython",
    "version": 3
   },
   "file_extension": ".py",
   "mimetype": "text/x-python",
   "name": "python",
   "nbconvert_exporter": "python",
   "pygments_lexer": "ipython3",
   "version": "3.10.4 (main, Nov 29 2022, 20:00:25) [GCC 9.4.0]"
  },
  "orig_nbformat": 4,
  "vscode": {
   "interpreter": {
    "hash": "3ad933181bd8a04b432d3370b9dc3b0662ad032c4dfaa4e4f1596c548f763858"
   }
  }
 },
 "nbformat": 4,
 "nbformat_minor": 2
}
