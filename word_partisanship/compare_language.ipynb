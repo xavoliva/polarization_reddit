{
 "cells": [
  {
   "cell_type": "code",
   "execution_count": 1,
   "metadata": {},
   "outputs": [],
   "source": [
    "%load_ext autoreload\n",
    "%autoreload 2"
   ]
  },
  {
   "cell_type": "code",
   "execution_count": 16,
   "metadata": {},
   "outputs": [],
   "source": [
    "from logodds_with_prior import logodds_with_prior\n",
    "from polarization import split_political_affiliation\n",
    "from utils import load_event, tokenize_post, STOPWORDS"
   ]
  },
  {
   "cell_type": "code",
   "execution_count": 3,
   "metadata": {},
   "outputs": [],
   "source": [
    "event = \"brexit\""
   ]
  },
  {
   "cell_type": "code",
   "execution_count": 4,
   "metadata": {},
   "outputs": [],
   "source": [
    "data = load_event(event)\n",
    "left_posts, right_posts = split_political_affiliation(data)"
   ]
  },
  {
   "cell_type": "code",
   "execution_count": 26,
   "metadata": {},
   "outputs": [],
   "source": [
    "left_tokens = []\n",
    "right_tokens = []\n",
    "\n",
    "for post in left_posts.body:\n",
    "    tokens = tokenize_post(post, keep_stopwords=False, stemmer=False)\n",
    "    bigrams = [f\"{tokens[i-1]} {w}\" for i, w in enumerate(tokens)]\n",
    "    left_tokens.extend(tokens + bigrams)\n",
    "\n",
    "for post in right_posts.body:\n",
    "    tokens = tokenize_post(post, keep_stopwords=False, stemmer=False)\n",
    "    bigrams = [f\"{tokens[i-1]} {w}\" for i, w in enumerate(tokens)]\n",
    "    right_tokens.extend(tokens + bigrams)\n",
    "\n",
    "\n",
    "left_tokens, right_tokens = logodds_with_prior(left_tokens, right_tokens)\n"
   ]
  },
  {
   "cell_type": "code",
   "execution_count": 27,
   "metadata": {},
   "outputs": [
    {
     "name": "stdout",
     "output_type": "stream",
     "text": [
      "Left tokens\n",
      "['corbyn', 'left', 'class', 'labour', 'working class', 'working', 'wing', 'austerity', 'neoliberal', 'party', 'socialist', 'neoliberalism', 'political', 'tories', 'workers', 'left wing', 'smith', 'capitalism', 'socialists', 'anti', 'xenophobia', 'ukip', 'capitalist', 'struggle', 'reactionary']\n"
     ]
    }
   ],
   "source": [
    "print(\"Left tokens\")\n",
    "print(left_tokens)"
   ]
  },
  {
   "cell_type": "code",
   "execution_count": 28,
   "metadata": {},
   "outputs": [
    {
     "name": "stdout",
     "output_type": "stream",
     "text": [
      "Right tokens\n",
      "['bot', 'tl', 'comment', 'top', 'read', 'theory', 'trade', 'version', 'faq', 'dr', 'tl dr', 'trump', 'reduced', 'polls', 'britain', 'original', 'make', 'summary', 'extended', 'replies', 'minister', 'european union', 'feedback', 'obama', 'free trade']\n"
     ]
    }
   ],
   "source": [
    "print(\"Right tokens\")\n",
    "print(right_tokens)"
   ]
  }
 ],
 "metadata": {
  "kernelspec": {
   "display_name": "Python 3",
   "language": "python",
   "name": "python3"
  },
  "language_info": {
   "codemirror_mode": {
    "name": "ipython",
    "version": 3
   },
   "file_extension": ".py",
   "mimetype": "text/x-python",
   "name": "python",
   "nbconvert_exporter": "python",
   "pygments_lexer": "ipython3",
   "version": "3.10.4 (main, Nov 29 2022, 20:00:25) [GCC 9.4.0]"
  },
  "orig_nbformat": 4,
  "vscode": {
   "interpreter": {
    "hash": "3ad933181bd8a04b432d3370b9dc3b0662ad032c4dfaa4e4f1596c548f763858"
   }
  }
 },
 "nbformat": 4,
 "nbformat_minor": 2
}
